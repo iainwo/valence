{
 "cells": [
  {
   "cell_type": "markdown",
   "metadata": {
    "Collapsed": "false",
    "toc-hr-collapsed": false
   },
   "source": [
    "---\n",
    "# Stock Exploratory Data Analysis\n",
    "---\n",
    "Notebook: 0.1.1-iw-single-stock-eda.ipynb<br>\n",
    "Dependencies: requirements.txt<br>\n",
    "Date: 2019-OCT-3<br>\n",
    "Abstract:\n",
    "```\n",
    "    The goal of this notebook is to visualize trends from (8) key stock valuation indicators for a single stock.\n",
    "    \n",
    "    1. The Rule of 72 - how long will it take for an investment to double based on compounding interest\n",
    "    2. P/E Ratio\n",
    "    3. P/B Ratio\n",
    "    4. P/S Ratio\n",
    "    5. Divident Yield %\n",
    "    6. Payout Ratio %\n",
    "    7. P/C\n",
    "    8. Earnings Growth\n",
    "    9. Debt to Equity Ratio\n",
    "```"
   ]
  },
  {
   "cell_type": "markdown",
   "metadata": {
    "Collapsed": "false"
   },
   "source": [
    "---\n",
    "## 0. Setup\n",
    "---"
   ]
  },
  {
   "cell_type": "code",
   "execution_count": 98,
   "metadata": {
    "Collapsed": "false"
   },
   "outputs": [],
   "source": [
    "import pandas as pd\n",
    "import matplotlib.pyplot as plt"
   ]
  },
  {
   "cell_type": "code",
   "execution_count": 99,
   "metadata": {
    "Collapsed": "false"
   },
   "outputs": [],
   "source": [
    "tickers = ['BMO']"
   ]
  },
  {
   "cell_type": "code",
   "execution_count": 100,
   "metadata": {
    "Collapsed": "false"
   },
   "outputs": [],
   "source": [
    "df_stock_profile = pd.read_csv('../data/raw/' + '.'.join(tickers) + '.profile.csv')\n",
    "df_stock = pd.read_csv('../data/raw/' + '.'.join(tickers) + '.csv')"
   ]
  },
  {
   "cell_type": "markdown",
   "metadata": {
    "Collapsed": "false"
   },
   "source": [
    "---\n",
    "## 1. Visualize\n",
    "---"
   ]
  },
  {
   "cell_type": "code",
   "execution_count": 101,
   "metadata": {
    "Collapsed": "false"
   },
   "outputs": [
    {
     "data": {
      "text/html": [
       "<div>\n",
       "<style scoped>\n",
       "    .dataframe tbody tr th:only-of-type {\n",
       "        vertical-align: middle;\n",
       "    }\n",
       "\n",
       "    .dataframe tbody tr th {\n",
       "        vertical-align: top;\n",
       "    }\n",
       "\n",
       "    .dataframe thead th {\n",
       "        text-align: right;\n",
       "    }\n",
       "</style>\n",
       "<table border=\"1\" class=\"dataframe\">\n",
       "  <thead>\n",
       "    <tr style=\"text-align: right;\">\n",
       "      <th></th>\n",
       "      <th>Unnamed: 0</th>\n",
       "      <th>index</th>\n",
       "      <th>price</th>\n",
       "      <th>beta</th>\n",
       "      <th>volAvg</th>\n",
       "      <th>mktCap</th>\n",
       "      <th>lastDiv</th>\n",
       "      <th>range</th>\n",
       "      <th>changes</th>\n",
       "      <th>changesPercentage</th>\n",
       "      <th>companyName</th>\n",
       "      <th>exchange</th>\n",
       "      <th>industry</th>\n",
       "      <th>website</th>\n",
       "      <th>description</th>\n",
       "      <th>ceo</th>\n",
       "      <th>sector</th>\n",
       "      <th>image</th>\n",
       "    </tr>\n",
       "  </thead>\n",
       "  <tbody>\n",
       "    <tr>\n",
       "      <th>0</th>\n",
       "      <td>0</td>\n",
       "      <td>TRP</td>\n",
       "      <td>51.38</td>\n",
       "      <td>0.887682</td>\n",
       "      <td>1559821</td>\n",
       "      <td>3.432945e+10</td>\n",
       "      <td>2.24202</td>\n",
       "      <td>34.58-46.63</td>\n",
       "      <td>0.03</td>\n",
       "      <td>(+0.06%)</td>\n",
       "      <td>TransCanada Corporation</td>\n",
       "      <td>New York Stock Exchange</td>\n",
       "      <td>Oil &amp; Gas - Midstream</td>\n",
       "      <td>http://www.transcanada.com</td>\n",
       "      <td>TransCanada Corp is an energy infrastructure c...</td>\n",
       "      <td>Russell K. Girling</td>\n",
       "      <td>Energy</td>\n",
       "      <td>https://financialmodelingprep.com/images-New-j...</td>\n",
       "    </tr>\n",
       "  </tbody>\n",
       "</table>\n",
       "</div>"
      ],
      "text/plain": [
       "   Unnamed: 0 index  price      beta   volAvg        mktCap  lastDiv  \\\n",
       "0           0   TRP  51.38  0.887682  1559821  3.432945e+10  2.24202   \n",
       "\n",
       "         range  changes changesPercentage              companyName  \\\n",
       "0  34.58-46.63     0.03          (+0.06%)  TransCanada Corporation   \n",
       "\n",
       "                  exchange               industry                     website  \\\n",
       "0  New York Stock Exchange  Oil & Gas - Midstream  http://www.transcanada.com   \n",
       "\n",
       "                                         description                 ceo  \\\n",
       "0  TransCanada Corp is an energy infrastructure c...  Russell K. Girling   \n",
       "\n",
       "   sector                                              image  \n",
       "0  Energy  https://financialmodelingprep.com/images-New-j...  "
      ]
     },
     "execution_count": 101,
     "metadata": {},
     "output_type": "execute_result"
    }
   ],
   "source": [
    "df_stock_profile"
   ]
  },
  {
   "cell_type": "code",
   "execution_count": 102,
   "metadata": {
    "Collapsed": "false"
   },
   "outputs": [
    {
     "data": {
      "text/html": [
       "<div>\n",
       "<style scoped>\n",
       "    .dataframe tbody tr th:only-of-type {\n",
       "        vertical-align: middle;\n",
       "    }\n",
       "\n",
       "    .dataframe tbody tr th {\n",
       "        vertical-align: top;\n",
       "    }\n",
       "\n",
       "    .dataframe thead th {\n",
       "        text-align: right;\n",
       "    }\n",
       "</style>\n",
       "<table border=\"1\" class=\"dataframe\">\n",
       "  <thead>\n",
       "    <tr style=\"text-align: right;\">\n",
       "      <th></th>\n",
       "      <th>Unnamed: 0</th>\n",
       "      <th>index</th>\n",
       "      <th>priceBookValueRatio</th>\n",
       "      <th>priceToBookRatio</th>\n",
       "      <th>priceToSalesRatio</th>\n",
       "      <th>priceEarningsRatio</th>\n",
       "      <th>receivablesTurnover_x</th>\n",
       "      <th>priceToFreeCashFlowsRatio</th>\n",
       "      <th>priceToOperatingCashFlowsRatio</th>\n",
       "      <th>priceCashFlowRatio</th>\n",
       "      <th>...</th>\n",
       "      <th>Graham Number</th>\n",
       "      <th>Graham Net-Net</th>\n",
       "      <th>Working Capital</th>\n",
       "      <th>Tangible Asset Value</th>\n",
       "      <th>Net Current Asset Value</th>\n",
       "      <th>Invested Capital</th>\n",
       "      <th>Average Receivables</th>\n",
       "      <th>Average Payables</th>\n",
       "      <th>Average Inventory</th>\n",
       "      <th>Capex per Share</th>\n",
       "    </tr>\n",
       "  </thead>\n",
       "  <tbody>\n",
       "    <tr>\n",
       "      <th>0</th>\n",
       "      <td>0</td>\n",
       "      <td>2009-12-31</td>\n",
       "      <td>NaN</td>\n",
       "      <td>NaN</td>\n",
       "      <td>2.5899</td>\n",
       "      <td>17.0706</td>\n",
       "      <td>7.9214</td>\n",
       "      <td>0.0000</td>\n",
       "      <td>6.7495</td>\n",
       "      <td>0.0</td>\n",
       "      <td>...</td>\n",
       "      <td>NaN</td>\n",
       "      <td>NaN</td>\n",
       "      <td>NaN</td>\n",
       "      <td>NaN</td>\n",
       "      <td>NaN</td>\n",
       "      <td>NaN</td>\n",
       "      <td>NaN</td>\n",
       "      <td>NaN</td>\n",
       "      <td>NaN</td>\n",
       "      <td>NaN</td>\n",
       "    </tr>\n",
       "    <tr>\n",
       "      <th>1</th>\n",
       "      <td>1</td>\n",
       "      <td>2010-12-31</td>\n",
       "      <td>NaN</td>\n",
       "      <td>NaN</td>\n",
       "      <td>3.7993</td>\n",
       "      <td>21.1875</td>\n",
       "      <td>6.2576</td>\n",
       "      <td>0.0000</td>\n",
       "      <td>6.7495</td>\n",
       "      <td>0.0</td>\n",
       "      <td>...</td>\n",
       "      <td>NaN</td>\n",
       "      <td>NaN</td>\n",
       "      <td>NaN</td>\n",
       "      <td>NaN</td>\n",
       "      <td>NaN</td>\n",
       "      <td>NaN</td>\n",
       "      <td>NaN</td>\n",
       "      <td>NaN</td>\n",
       "      <td>NaN</td>\n",
       "      <td>NaN</td>\n",
       "    </tr>\n",
       "    <tr>\n",
       "      <th>2</th>\n",
       "      <td>2</td>\n",
       "      <td>2011-12-31</td>\n",
       "      <td>NaN</td>\n",
       "      <td>NaN</td>\n",
       "      <td>3.8688</td>\n",
       "      <td>20.5152</td>\n",
       "      <td>6.5410</td>\n",
       "      <td>26.0692</td>\n",
       "      <td>6.7495</td>\n",
       "      <td>0.0</td>\n",
       "      <td>...</td>\n",
       "      <td>NaN</td>\n",
       "      <td>NaN</td>\n",
       "      <td>NaN</td>\n",
       "      <td>NaN</td>\n",
       "      <td>NaN</td>\n",
       "      <td>NaN</td>\n",
       "      <td>NaN</td>\n",
       "      <td>NaN</td>\n",
       "      <td>NaN</td>\n",
       "      <td>NaN</td>\n",
       "    </tr>\n",
       "    <tr>\n",
       "      <th>3</th>\n",
       "      <td>3</td>\n",
       "      <td>2012-12-31</td>\n",
       "      <td>NaN</td>\n",
       "      <td>NaN</td>\n",
       "      <td>4.1597</td>\n",
       "      <td>25.5632</td>\n",
       "      <td>7.5680</td>\n",
       "      <td>34.2863</td>\n",
       "      <td>6.7495</td>\n",
       "      <td>0.0</td>\n",
       "      <td>...</td>\n",
       "      <td>NaN</td>\n",
       "      <td>NaN</td>\n",
       "      <td>NaN</td>\n",
       "      <td>NaN</td>\n",
       "      <td>NaN</td>\n",
       "      <td>NaN</td>\n",
       "      <td>NaN</td>\n",
       "      <td>NaN</td>\n",
       "      <td>NaN</td>\n",
       "      <td>NaN</td>\n",
       "    </tr>\n",
       "    <tr>\n",
       "      <th>4</th>\n",
       "      <td>4</td>\n",
       "      <td>2013-12-31</td>\n",
       "      <td>NaN</td>\n",
       "      <td>NaN</td>\n",
       "      <td>3.6616</td>\n",
       "      <td>20.0756</td>\n",
       "      <td>7.8262</td>\n",
       "      <td>0.0000</td>\n",
       "      <td>6.7495</td>\n",
       "      <td>0.0</td>\n",
       "      <td>...</td>\n",
       "      <td>NaN</td>\n",
       "      <td>NaN</td>\n",
       "      <td>NaN</td>\n",
       "      <td>NaN</td>\n",
       "      <td>NaN</td>\n",
       "      <td>NaN</td>\n",
       "      <td>NaN</td>\n",
       "      <td>NaN</td>\n",
       "      <td>NaN</td>\n",
       "      <td>NaN</td>\n",
       "    </tr>\n",
       "  </tbody>\n",
       "</table>\n",
       "<p>5 rows × 166 columns</p>\n",
       "</div>"
      ],
      "text/plain": [
       "   Unnamed: 0       index  priceBookValueRatio  priceToBookRatio  \\\n",
       "0           0  2009-12-31                  NaN               NaN   \n",
       "1           1  2010-12-31                  NaN               NaN   \n",
       "2           2  2011-12-31                  NaN               NaN   \n",
       "3           3  2012-12-31                  NaN               NaN   \n",
       "4           4  2013-12-31                  NaN               NaN   \n",
       "\n",
       "   priceToSalesRatio  priceEarningsRatio  receivablesTurnover_x  \\\n",
       "0             2.5899             17.0706                 7.9214   \n",
       "1             3.7993             21.1875                 6.2576   \n",
       "2             3.8688             20.5152                 6.5410   \n",
       "3             4.1597             25.5632                 7.5680   \n",
       "4             3.6616             20.0756                 7.8262   \n",
       "\n",
       "   priceToFreeCashFlowsRatio  priceToOperatingCashFlowsRatio  \\\n",
       "0                     0.0000                          6.7495   \n",
       "1                     0.0000                          6.7495   \n",
       "2                    26.0692                          6.7495   \n",
       "3                    34.2863                          6.7495   \n",
       "4                     0.0000                          6.7495   \n",
       "\n",
       "   priceCashFlowRatio  ...  Graham Number  Graham Net-Net  Working Capital  \\\n",
       "0                 0.0  ...            NaN             NaN              NaN   \n",
       "1                 0.0  ...            NaN             NaN              NaN   \n",
       "2                 0.0  ...            NaN             NaN              NaN   \n",
       "3                 0.0  ...            NaN             NaN              NaN   \n",
       "4                 0.0  ...            NaN             NaN              NaN   \n",
       "\n",
       "   Tangible Asset Value  Net Current Asset Value  Invested Capital  \\\n",
       "0                   NaN                      NaN               NaN   \n",
       "1                   NaN                      NaN               NaN   \n",
       "2                   NaN                      NaN               NaN   \n",
       "3                   NaN                      NaN               NaN   \n",
       "4                   NaN                      NaN               NaN   \n",
       "\n",
       "   Average Receivables  Average Payables  Average Inventory  Capex per Share  \n",
       "0                  NaN               NaN                NaN              NaN  \n",
       "1                  NaN               NaN                NaN              NaN  \n",
       "2                  NaN               NaN                NaN              NaN  \n",
       "3                  NaN               NaN                NaN              NaN  \n",
       "4                  NaN               NaN                NaN              NaN  \n",
       "\n",
       "[5 rows x 166 columns]"
      ]
     },
     "execution_count": 102,
     "metadata": {},
     "output_type": "execute_result"
    }
   ],
   "source": [
    "df_stock.head()"
   ]
  },
  {
   "cell_type": "code",
   "execution_count": 103,
   "metadata": {
    "Collapsed": "false"
   },
   "outputs": [
    {
     "data": {
      "text/plain": [
       "['date_x', 'date_y', 'date_x.1', 'date_y.1', 'date']"
      ]
     },
     "execution_count": 103,
     "metadata": {},
     "output_type": "execute_result"
    }
   ],
   "source": [
    "[col for col in df_stock.columns if col.startswith('date')]"
   ]
  },
  {
   "cell_type": "code",
   "execution_count": 104,
   "metadata": {
    "Collapsed": "false"
   },
   "outputs": [
    {
     "data": {
      "text/plain": [
       "Unnamed: 0                               int64\n",
       "index                                   object\n",
       "priceBookValueRatio                    float64\n",
       "priceToBookRatio                       float64\n",
       "priceToSalesRatio                      float64\n",
       "priceEarningsRatio                     float64\n",
       "receivablesTurnover_x                  float64\n",
       "priceToFreeCashFlowsRatio              float64\n",
       "priceToOperatingCashFlowsRatio         float64\n",
       "priceCashFlowRatio                     float64\n",
       "priceEarningsToGrowthRatio             float64\n",
       "priceSalesRatio                        float64\n",
       "dividendYield                          float64\n",
       "enterpriseValueMultiple                float64\n",
       "priceFairValue                         float64\n",
       "debtRatio                              float64\n",
       "debtEquityRatio                        float64\n",
       "longtermDebtToCapitalization           float64\n",
       "totalDebtToCapitalization              float64\n",
       "interestCoverage                       float64\n",
       "cashFlowToDebtRatio                    float64\n",
       "companyEquityMultiplier                float64\n",
       "operatingCashFlowPerShare              float64\n",
       "freeCashFlowPerShare                   float64\n",
       "cashPerShare                           float64\n",
       "payoutRatio                            float64\n",
       "receivablesTurnover_y                  float64\n",
       "operatingCashFlowSalesRatio            float64\n",
       "freeCashFlowOperatingCashFlowRatio     float64\n",
       "cashFlowCoverageRatios                 float64\n",
       "                                        ...   \n",
       "Enterprise Value over EBITDA           float64\n",
       "EV to Operating cash flow              float64\n",
       "EV to Free cash flow                   float64\n",
       "Earnings Yield                         float64\n",
       "Free Cash Flow Yield                   float64\n",
       "Debt to Equity                         float64\n",
       "Debt to Assets                         float64\n",
       "Net Debt to EBITDA                     float64\n",
       "Current ratio                          float64\n",
       "Interest Coverage                      float64\n",
       "Income Quality                         float64\n",
       "Dividend Yield                         float64\n",
       "Payout Ratio                           float64\n",
       "SG&A to Revenue                        float64\n",
       "R&D to Revenue                         float64\n",
       "Intangibles to Total Assets            float64\n",
       "Capex to Operating Cash Flow           float64\n",
       "Capex to Revenue                       float64\n",
       "Capex to Depreciation                  float64\n",
       "Stock-based compensation to Revenue    float64\n",
       "Graham Number                          float64\n",
       "Graham Net-Net                         float64\n",
       "Working Capital                        float64\n",
       "Tangible Asset Value                   float64\n",
       "Net Current Asset Value                float64\n",
       "Invested Capital                       float64\n",
       "Average Receivables                    float64\n",
       "Average Payables                       float64\n",
       "Average Inventory                      float64\n",
       "Capex per Share                        float64\n",
       "Length: 166, dtype: object"
      ]
     },
     "execution_count": 104,
     "metadata": {},
     "output_type": "execute_result"
    }
   ],
   "source": [
    "df_stock.dtypes"
   ]
  },
  {
   "cell_type": "code",
   "execution_count": 105,
   "metadata": {
    "Collapsed": "false"
   },
   "outputs": [],
   "source": [
    "indicator_cols = ['priceEarningsRatio', 'priceToBookRatio', 'priceToSalesRatio', 'dividendYield', 'payoutRatio', 'priceCashFlowRatio', 'debtEquityRatio']"
   ]
  },
  {
   "cell_type": "code",
   "execution_count": 106,
   "metadata": {
    "Collapsed": "false"
   },
   "outputs": [
    {
     "data": {
      "text/html": [
       "<div>\n",
       "<style scoped>\n",
       "    .dataframe tbody tr th:only-of-type {\n",
       "        vertical-align: middle;\n",
       "    }\n",
       "\n",
       "    .dataframe tbody tr th {\n",
       "        vertical-align: top;\n",
       "    }\n",
       "\n",
       "    .dataframe thead th {\n",
       "        text-align: right;\n",
       "    }\n",
       "</style>\n",
       "<table border=\"1\" class=\"dataframe\">\n",
       "  <thead>\n",
       "    <tr style=\"text-align: right;\">\n",
       "      <th></th>\n",
       "      <th>Unnamed: 0</th>\n",
       "      <th>index</th>\n",
       "      <th>priceBookValueRatio</th>\n",
       "      <th>priceToBookRatio</th>\n",
       "      <th>priceToSalesRatio</th>\n",
       "      <th>priceEarningsRatio</th>\n",
       "      <th>receivablesTurnover_x</th>\n",
       "      <th>priceToFreeCashFlowsRatio</th>\n",
       "      <th>priceToOperatingCashFlowsRatio</th>\n",
       "      <th>priceCashFlowRatio</th>\n",
       "      <th>...</th>\n",
       "      <th>Graham Number</th>\n",
       "      <th>Graham Net-Net</th>\n",
       "      <th>Working Capital</th>\n",
       "      <th>Tangible Asset Value</th>\n",
       "      <th>Net Current Asset Value</th>\n",
       "      <th>Invested Capital</th>\n",
       "      <th>Average Receivables</th>\n",
       "      <th>Average Payables</th>\n",
       "      <th>Average Inventory</th>\n",
       "      <th>Capex per Share</th>\n",
       "    </tr>\n",
       "  </thead>\n",
       "  <tbody>\n",
       "    <tr>\n",
       "      <th>0</th>\n",
       "      <td>0</td>\n",
       "      <td>2009-12-31</td>\n",
       "      <td>NaN</td>\n",
       "      <td>NaN</td>\n",
       "      <td>2.5899</td>\n",
       "      <td>17.0706</td>\n",
       "      <td>7.9214</td>\n",
       "      <td>0.0000</td>\n",
       "      <td>6.7495</td>\n",
       "      <td>0.0</td>\n",
       "      <td>...</td>\n",
       "      <td>NaN</td>\n",
       "      <td>NaN</td>\n",
       "      <td>NaN</td>\n",
       "      <td>NaN</td>\n",
       "      <td>NaN</td>\n",
       "      <td>NaN</td>\n",
       "      <td>NaN</td>\n",
       "      <td>NaN</td>\n",
       "      <td>NaN</td>\n",
       "      <td>NaN</td>\n",
       "    </tr>\n",
       "    <tr>\n",
       "      <th>1</th>\n",
       "      <td>1</td>\n",
       "      <td>2010-12-31</td>\n",
       "      <td>NaN</td>\n",
       "      <td>NaN</td>\n",
       "      <td>3.7993</td>\n",
       "      <td>21.1875</td>\n",
       "      <td>6.2576</td>\n",
       "      <td>0.0000</td>\n",
       "      <td>6.7495</td>\n",
       "      <td>0.0</td>\n",
       "      <td>...</td>\n",
       "      <td>NaN</td>\n",
       "      <td>NaN</td>\n",
       "      <td>NaN</td>\n",
       "      <td>NaN</td>\n",
       "      <td>NaN</td>\n",
       "      <td>NaN</td>\n",
       "      <td>NaN</td>\n",
       "      <td>NaN</td>\n",
       "      <td>NaN</td>\n",
       "      <td>NaN</td>\n",
       "    </tr>\n",
       "    <tr>\n",
       "      <th>2</th>\n",
       "      <td>2</td>\n",
       "      <td>2011-12-31</td>\n",
       "      <td>NaN</td>\n",
       "      <td>NaN</td>\n",
       "      <td>3.8688</td>\n",
       "      <td>20.5152</td>\n",
       "      <td>6.5410</td>\n",
       "      <td>26.0692</td>\n",
       "      <td>6.7495</td>\n",
       "      <td>0.0</td>\n",
       "      <td>...</td>\n",
       "      <td>NaN</td>\n",
       "      <td>NaN</td>\n",
       "      <td>NaN</td>\n",
       "      <td>NaN</td>\n",
       "      <td>NaN</td>\n",
       "      <td>NaN</td>\n",
       "      <td>NaN</td>\n",
       "      <td>NaN</td>\n",
       "      <td>NaN</td>\n",
       "      <td>NaN</td>\n",
       "    </tr>\n",
       "    <tr>\n",
       "      <th>3</th>\n",
       "      <td>3</td>\n",
       "      <td>2012-12-31</td>\n",
       "      <td>NaN</td>\n",
       "      <td>NaN</td>\n",
       "      <td>4.1597</td>\n",
       "      <td>25.5632</td>\n",
       "      <td>7.5680</td>\n",
       "      <td>34.2863</td>\n",
       "      <td>6.7495</td>\n",
       "      <td>0.0</td>\n",
       "      <td>...</td>\n",
       "      <td>NaN</td>\n",
       "      <td>NaN</td>\n",
       "      <td>NaN</td>\n",
       "      <td>NaN</td>\n",
       "      <td>NaN</td>\n",
       "      <td>NaN</td>\n",
       "      <td>NaN</td>\n",
       "      <td>NaN</td>\n",
       "      <td>NaN</td>\n",
       "      <td>NaN</td>\n",
       "    </tr>\n",
       "    <tr>\n",
       "      <th>4</th>\n",
       "      <td>4</td>\n",
       "      <td>2013-12-31</td>\n",
       "      <td>NaN</td>\n",
       "      <td>NaN</td>\n",
       "      <td>3.6616</td>\n",
       "      <td>20.0756</td>\n",
       "      <td>7.8262</td>\n",
       "      <td>0.0000</td>\n",
       "      <td>6.7495</td>\n",
       "      <td>0.0</td>\n",
       "      <td>...</td>\n",
       "      <td>NaN</td>\n",
       "      <td>NaN</td>\n",
       "      <td>NaN</td>\n",
       "      <td>NaN</td>\n",
       "      <td>NaN</td>\n",
       "      <td>NaN</td>\n",
       "      <td>NaN</td>\n",
       "      <td>NaN</td>\n",
       "      <td>NaN</td>\n",
       "      <td>NaN</td>\n",
       "    </tr>\n",
       "  </tbody>\n",
       "</table>\n",
       "<p>5 rows × 166 columns</p>\n",
       "</div>"
      ],
      "text/plain": [
       "   Unnamed: 0       index  priceBookValueRatio  priceToBookRatio  \\\n",
       "0           0  2009-12-31                  NaN               NaN   \n",
       "1           1  2010-12-31                  NaN               NaN   \n",
       "2           2  2011-12-31                  NaN               NaN   \n",
       "3           3  2012-12-31                  NaN               NaN   \n",
       "4           4  2013-12-31                  NaN               NaN   \n",
       "\n",
       "   priceToSalesRatio  priceEarningsRatio  receivablesTurnover_x  \\\n",
       "0             2.5899             17.0706                 7.9214   \n",
       "1             3.7993             21.1875                 6.2576   \n",
       "2             3.8688             20.5152                 6.5410   \n",
       "3             4.1597             25.5632                 7.5680   \n",
       "4             3.6616             20.0756                 7.8262   \n",
       "\n",
       "   priceToFreeCashFlowsRatio  priceToOperatingCashFlowsRatio  \\\n",
       "0                     0.0000                          6.7495   \n",
       "1                     0.0000                          6.7495   \n",
       "2                    26.0692                          6.7495   \n",
       "3                    34.2863                          6.7495   \n",
       "4                     0.0000                          6.7495   \n",
       "\n",
       "   priceCashFlowRatio  ...  Graham Number  Graham Net-Net  Working Capital  \\\n",
       "0                 0.0  ...            NaN             NaN              NaN   \n",
       "1                 0.0  ...            NaN             NaN              NaN   \n",
       "2                 0.0  ...            NaN             NaN              NaN   \n",
       "3                 0.0  ...            NaN             NaN              NaN   \n",
       "4                 0.0  ...            NaN             NaN              NaN   \n",
       "\n",
       "   Tangible Asset Value  Net Current Asset Value  Invested Capital  \\\n",
       "0                   NaN                      NaN               NaN   \n",
       "1                   NaN                      NaN               NaN   \n",
       "2                   NaN                      NaN               NaN   \n",
       "3                   NaN                      NaN               NaN   \n",
       "4                   NaN                      NaN               NaN   \n",
       "\n",
       "   Average Receivables  Average Payables  Average Inventory  Capex per Share  \n",
       "0                  NaN               NaN                NaN              NaN  \n",
       "1                  NaN               NaN                NaN              NaN  \n",
       "2                  NaN               NaN                NaN              NaN  \n",
       "3                  NaN               NaN                NaN              NaN  \n",
       "4                  NaN               NaN                NaN              NaN  \n",
       "\n",
       "[5 rows x 166 columns]"
      ]
     },
     "execution_count": 106,
     "metadata": {},
     "output_type": "execute_result"
    }
   ],
   "source": [
    "df_stock.head()"
   ]
  },
  {
   "cell_type": "code",
   "execution_count": 107,
   "metadata": {
    "Collapsed": "false"
   },
   "outputs": [],
   "source": [
    "import plotly.express as px"
   ]
  },
  {
   "cell_type": "code",
   "execution_count": 108,
   "metadata": {
    "Collapsed": "false"
   },
   "outputs": [],
   "source": [
    "import plotly.graph_objects as go"
   ]
  },
  {
   "cell_type": "code",
   "execution_count": 109,
   "metadata": {
    "Collapsed": "false"
   },
   "outputs": [
    {
     "data": {
      "application/vnd.plotly.v1+json": {
       "config": {
        "plotlyServerURL": "https://plot.ly"
       },
       "data": [
        {
         "name": "priceEarningsRatio",
         "type": "scatter",
         "x": [
          "2009-12-31",
          "2010-12-31",
          "2011-12-31",
          "2012-12-31",
          "2013-12-31",
          "2014-12-31",
          "2015-12-31",
          "2016-12-31",
          "2017-12-31",
          "2018-03-31",
          "2018-06-30",
          "2018-09-30",
          "2018-12-31",
          "2019-03-31",
          "2019-10-05"
         ],
         "y": [
          17.0706,
          21.1875,
          20.5152,
          25.5632,
          20.0756,
          23.1932,
          0,
          379.1597,
          18.2548,
          null,
          null,
          null,
          12.2947,
          null,
          null
         ]
        },
        {
         "name": "priceToBookRatio",
         "type": "scatter",
         "x": [
          "2009-12-31",
          "2010-12-31",
          "2011-12-31",
          "2012-12-31",
          "2013-12-31",
          "2014-12-31",
          "2015-12-31",
          "2016-12-31",
          "2017-12-31",
          "2018-03-31",
          "2018-06-30",
          "2018-09-30",
          "2018-12-31",
          "2019-03-31",
          "2019-10-05"
         ],
         "y": [
          null,
          null,
          null,
          null,
          null,
          null,
          null,
          null,
          null,
          null,
          null,
          null,
          null,
          null,
          null
         ]
        },
        {
         "name": "priceToSalesRatio",
         "type": "scatter",
         "x": [
          "2009-12-31",
          "2010-12-31",
          "2011-12-31",
          "2012-12-31",
          "2013-12-31",
          "2014-12-31",
          "2015-12-31",
          "2016-12-31",
          "2017-12-31",
          "2018-03-31",
          "2018-06-30",
          "2018-09-30",
          "2018-12-31",
          "2019-03-31",
          "2019-10-05"
         ],
         "y": [
          2.5899,
          3.7993,
          3.8688,
          4.1597,
          3.6616,
          3.4104,
          2.0343,
          2.5267,
          3.1682,
          null,
          null,
          null,
          2.3002,
          null,
          null
         ]
        },
        {
         "name": "dividendYield",
         "type": "scatter",
         "x": [
          "2009-12-31",
          "2010-12-31",
          "2011-12-31",
          "2012-12-31",
          "2013-12-31",
          "2014-12-31",
          "2015-12-31",
          "2016-12-31",
          "2017-12-31",
          "2018-03-31",
          "2018-06-30",
          "2018-09-30",
          "2018-12-31",
          "2019-03-31",
          "2019-10-05"
         ],
         "y": [
          null,
          null,
          null,
          null,
          null,
          0.04712384037338099,
          0.07303228338549901,
          0.047023286160533,
          0.033351587785653995,
          null,
          null,
          null,
          0.049395914999966,
          null,
          null
         ]
        },
        {
         "name": "payoutRatio",
         "type": "scatter",
         "x": [
          "2009-12-31",
          "2010-12-31",
          "2011-12-31",
          "2012-12-31",
          "2013-12-31",
          "2014-12-31",
          "2015-12-31",
          "2016-12-31",
          "2017-12-31",
          "2018-03-31",
          "2018-06-30",
          "2018-09-30",
          "2018-12-31",
          "2019-03-31",
          "2019-10-05"
         ],
         "y": [
          0.6527,
          0.8877,
          0.773,
          0.9588,
          0.7293,
          0.7014,
          -0.9154,
          10.6659,
          0.564,
          null,
          null,
          null,
          0.5348,
          null,
          null
         ]
        },
        {
         "name": "priceCashFlowRatio",
         "type": "scatter",
         "x": [
          "2009-12-31",
          "2010-12-31",
          "2011-12-31",
          "2012-12-31",
          "2013-12-31",
          "2014-12-31",
          "2015-12-31",
          "2016-12-31",
          "2017-12-31",
          "2018-03-31",
          "2018-06-30",
          "2018-09-30",
          "2018-12-31",
          "2019-03-31",
          "2019-10-05"
         ],
         "y": [
          0,
          0,
          0,
          0,
          0,
          6.7538609559868,
          4.516300889598701,
          6.024474531465301,
          7.6764844359461,
          null,
          null,
          null,
          4.8519068497325994,
          null,
          null
         ]
        },
        {
         "name": "debtEquityRatio",
         "type": "scatter",
         "x": [
          "2009-12-31",
          "2010-12-31",
          "2011-12-31",
          "2012-12-31",
          "2013-12-31",
          "2014-12-31",
          "2015-12-31",
          "2016-12-31",
          "2017-12-31",
          "2018-03-31",
          "2018-06-30",
          "2018-09-30",
          "2018-12-31",
          "2019-03-31",
          "2019-10-05"
         ],
         "y": [
          1.3954,
          1.3072,
          1.2825,
          1.3117,
          1.3911,
          1.4884,
          2.1343,
          1.8492,
          1.7377,
          null,
          null,
          null,
          1.7125,
          null,
          null
         ]
        }
       ],
       "layout": {
        "autosize": true,
        "template": {
         "data": {
          "bar": [
           {
            "error_x": {
             "color": "#2a3f5f"
            },
            "error_y": {
             "color": "#2a3f5f"
            },
            "marker": {
             "line": {
              "color": "#E5ECF6",
              "width": 0.5
             }
            },
            "type": "bar"
           }
          ],
          "barpolar": [
           {
            "marker": {
             "line": {
              "color": "#E5ECF6",
              "width": 0.5
             }
            },
            "type": "barpolar"
           }
          ],
          "carpet": [
           {
            "aaxis": {
             "endlinecolor": "#2a3f5f",
             "gridcolor": "white",
             "linecolor": "white",
             "minorgridcolor": "white",
             "startlinecolor": "#2a3f5f"
            },
            "baxis": {
             "endlinecolor": "#2a3f5f",
             "gridcolor": "white",
             "linecolor": "white",
             "minorgridcolor": "white",
             "startlinecolor": "#2a3f5f"
            },
            "type": "carpet"
           }
          ],
          "choropleth": [
           {
            "colorbar": {
             "outlinewidth": 0,
             "ticks": ""
            },
            "type": "choropleth"
           }
          ],
          "contour": [
           {
            "colorbar": {
             "outlinewidth": 0,
             "ticks": ""
            },
            "colorscale": [
             [
              0,
              "#0d0887"
             ],
             [
              0.1111111111111111,
              "#46039f"
             ],
             [
              0.2222222222222222,
              "#7201a8"
             ],
             [
              0.3333333333333333,
              "#9c179e"
             ],
             [
              0.4444444444444444,
              "#bd3786"
             ],
             [
              0.5555555555555556,
              "#d8576b"
             ],
             [
              0.6666666666666666,
              "#ed7953"
             ],
             [
              0.7777777777777778,
              "#fb9f3a"
             ],
             [
              0.8888888888888888,
              "#fdca26"
             ],
             [
              1,
              "#f0f921"
             ]
            ],
            "type": "contour"
           }
          ],
          "contourcarpet": [
           {
            "colorbar": {
             "outlinewidth": 0,
             "ticks": ""
            },
            "type": "contourcarpet"
           }
          ],
          "heatmap": [
           {
            "colorbar": {
             "outlinewidth": 0,
             "ticks": ""
            },
            "colorscale": [
             [
              0,
              "#0d0887"
             ],
             [
              0.1111111111111111,
              "#46039f"
             ],
             [
              0.2222222222222222,
              "#7201a8"
             ],
             [
              0.3333333333333333,
              "#9c179e"
             ],
             [
              0.4444444444444444,
              "#bd3786"
             ],
             [
              0.5555555555555556,
              "#d8576b"
             ],
             [
              0.6666666666666666,
              "#ed7953"
             ],
             [
              0.7777777777777778,
              "#fb9f3a"
             ],
             [
              0.8888888888888888,
              "#fdca26"
             ],
             [
              1,
              "#f0f921"
             ]
            ],
            "type": "heatmap"
           }
          ],
          "heatmapgl": [
           {
            "colorbar": {
             "outlinewidth": 0,
             "ticks": ""
            },
            "colorscale": [
             [
              0,
              "#0d0887"
             ],
             [
              0.1111111111111111,
              "#46039f"
             ],
             [
              0.2222222222222222,
              "#7201a8"
             ],
             [
              0.3333333333333333,
              "#9c179e"
             ],
             [
              0.4444444444444444,
              "#bd3786"
             ],
             [
              0.5555555555555556,
              "#d8576b"
             ],
             [
              0.6666666666666666,
              "#ed7953"
             ],
             [
              0.7777777777777778,
              "#fb9f3a"
             ],
             [
              0.8888888888888888,
              "#fdca26"
             ],
             [
              1,
              "#f0f921"
             ]
            ],
            "type": "heatmapgl"
           }
          ],
          "histogram": [
           {
            "marker": {
             "colorbar": {
              "outlinewidth": 0,
              "ticks": ""
             }
            },
            "type": "histogram"
           }
          ],
          "histogram2d": [
           {
            "colorbar": {
             "outlinewidth": 0,
             "ticks": ""
            },
            "colorscale": [
             [
              0,
              "#0d0887"
             ],
             [
              0.1111111111111111,
              "#46039f"
             ],
             [
              0.2222222222222222,
              "#7201a8"
             ],
             [
              0.3333333333333333,
              "#9c179e"
             ],
             [
              0.4444444444444444,
              "#bd3786"
             ],
             [
              0.5555555555555556,
              "#d8576b"
             ],
             [
              0.6666666666666666,
              "#ed7953"
             ],
             [
              0.7777777777777778,
              "#fb9f3a"
             ],
             [
              0.8888888888888888,
              "#fdca26"
             ],
             [
              1,
              "#f0f921"
             ]
            ],
            "type": "histogram2d"
           }
          ],
          "histogram2dcontour": [
           {
            "colorbar": {
             "outlinewidth": 0,
             "ticks": ""
            },
            "colorscale": [
             [
              0,
              "#0d0887"
             ],
             [
              0.1111111111111111,
              "#46039f"
             ],
             [
              0.2222222222222222,
              "#7201a8"
             ],
             [
              0.3333333333333333,
              "#9c179e"
             ],
             [
              0.4444444444444444,
              "#bd3786"
             ],
             [
              0.5555555555555556,
              "#d8576b"
             ],
             [
              0.6666666666666666,
              "#ed7953"
             ],
             [
              0.7777777777777778,
              "#fb9f3a"
             ],
             [
              0.8888888888888888,
              "#fdca26"
             ],
             [
              1,
              "#f0f921"
             ]
            ],
            "type": "histogram2dcontour"
           }
          ],
          "mesh3d": [
           {
            "colorbar": {
             "outlinewidth": 0,
             "ticks": ""
            },
            "type": "mesh3d"
           }
          ],
          "parcoords": [
           {
            "line": {
             "colorbar": {
              "outlinewidth": 0,
              "ticks": ""
             }
            },
            "type": "parcoords"
           }
          ],
          "scatter": [
           {
            "marker": {
             "colorbar": {
              "outlinewidth": 0,
              "ticks": ""
             }
            },
            "type": "scatter"
           }
          ],
          "scatter3d": [
           {
            "line": {
             "colorbar": {
              "outlinewidth": 0,
              "ticks": ""
             }
            },
            "marker": {
             "colorbar": {
              "outlinewidth": 0,
              "ticks": ""
             }
            },
            "type": "scatter3d"
           }
          ],
          "scattercarpet": [
           {
            "marker": {
             "colorbar": {
              "outlinewidth": 0,
              "ticks": ""
             }
            },
            "type": "scattercarpet"
           }
          ],
          "scattergeo": [
           {
            "marker": {
             "colorbar": {
              "outlinewidth": 0,
              "ticks": ""
             }
            },
            "type": "scattergeo"
           }
          ],
          "scattergl": [
           {
            "marker": {
             "colorbar": {
              "outlinewidth": 0,
              "ticks": ""
             }
            },
            "type": "scattergl"
           }
          ],
          "scattermapbox": [
           {
            "marker": {
             "colorbar": {
              "outlinewidth": 0,
              "ticks": ""
             }
            },
            "type": "scattermapbox"
           }
          ],
          "scatterpolar": [
           {
            "marker": {
             "colorbar": {
              "outlinewidth": 0,
              "ticks": ""
             }
            },
            "type": "scatterpolar"
           }
          ],
          "scatterpolargl": [
           {
            "marker": {
             "colorbar": {
              "outlinewidth": 0,
              "ticks": ""
             }
            },
            "type": "scatterpolargl"
           }
          ],
          "scatterternary": [
           {
            "marker": {
             "colorbar": {
              "outlinewidth": 0,
              "ticks": ""
             }
            },
            "type": "scatterternary"
           }
          ],
          "surface": [
           {
            "colorbar": {
             "outlinewidth": 0,
             "ticks": ""
            },
            "colorscale": [
             [
              0,
              "#0d0887"
             ],
             [
              0.1111111111111111,
              "#46039f"
             ],
             [
              0.2222222222222222,
              "#7201a8"
             ],
             [
              0.3333333333333333,
              "#9c179e"
             ],
             [
              0.4444444444444444,
              "#bd3786"
             ],
             [
              0.5555555555555556,
              "#d8576b"
             ],
             [
              0.6666666666666666,
              "#ed7953"
             ],
             [
              0.7777777777777778,
              "#fb9f3a"
             ],
             [
              0.8888888888888888,
              "#fdca26"
             ],
             [
              1,
              "#f0f921"
             ]
            ],
            "type": "surface"
           }
          ],
          "table": [
           {
            "cells": {
             "fill": {
              "color": "#EBF0F8"
             },
             "line": {
              "color": "white"
             }
            },
            "header": {
             "fill": {
              "color": "#C8D4E3"
             },
             "line": {
              "color": "white"
             }
            },
            "type": "table"
           }
          ]
         },
         "layout": {
          "annotationdefaults": {
           "arrowcolor": "#2a3f5f",
           "arrowhead": 0,
           "arrowwidth": 1
          },
          "colorscale": {
           "diverging": [
            [
             0,
             "#8e0152"
            ],
            [
             0.1,
             "#c51b7d"
            ],
            [
             0.2,
             "#de77ae"
            ],
            [
             0.3,
             "#f1b6da"
            ],
            [
             0.4,
             "#fde0ef"
            ],
            [
             0.5,
             "#f7f7f7"
            ],
            [
             0.6,
             "#e6f5d0"
            ],
            [
             0.7,
             "#b8e186"
            ],
            [
             0.8,
             "#7fbc41"
            ],
            [
             0.9,
             "#4d9221"
            ],
            [
             1,
             "#276419"
            ]
           ],
           "sequential": [
            [
             0,
             "#0d0887"
            ],
            [
             0.1111111111111111,
             "#46039f"
            ],
            [
             0.2222222222222222,
             "#7201a8"
            ],
            [
             0.3333333333333333,
             "#9c179e"
            ],
            [
             0.4444444444444444,
             "#bd3786"
            ],
            [
             0.5555555555555556,
             "#d8576b"
            ],
            [
             0.6666666666666666,
             "#ed7953"
            ],
            [
             0.7777777777777778,
             "#fb9f3a"
            ],
            [
             0.8888888888888888,
             "#fdca26"
            ],
            [
             1,
             "#f0f921"
            ]
           ],
           "sequentialminus": [
            [
             0,
             "#0d0887"
            ],
            [
             0.1111111111111111,
             "#46039f"
            ],
            [
             0.2222222222222222,
             "#7201a8"
            ],
            [
             0.3333333333333333,
             "#9c179e"
            ],
            [
             0.4444444444444444,
             "#bd3786"
            ],
            [
             0.5555555555555556,
             "#d8576b"
            ],
            [
             0.6666666666666666,
             "#ed7953"
            ],
            [
             0.7777777777777778,
             "#fb9f3a"
            ],
            [
             0.8888888888888888,
             "#fdca26"
            ],
            [
             1,
             "#f0f921"
            ]
           ]
          },
          "colorway": [
           "#636efa",
           "#EF553B",
           "#00cc96",
           "#ab63fa",
           "#FFA15A",
           "#19d3f3",
           "#FF6692",
           "#B6E880",
           "#FF97FF",
           "#FECB52"
          ],
          "font": {
           "color": "#2a3f5f"
          },
          "geo": {
           "bgcolor": "white",
           "lakecolor": "white",
           "landcolor": "#E5ECF6",
           "showlakes": true,
           "showland": true,
           "subunitcolor": "white"
          },
          "hoverlabel": {
           "align": "left"
          },
          "hovermode": "closest",
          "mapbox": {
           "style": "light"
          },
          "paper_bgcolor": "white",
          "plot_bgcolor": "#E5ECF6",
          "polar": {
           "angularaxis": {
            "gridcolor": "white",
            "linecolor": "white",
            "ticks": ""
           },
           "bgcolor": "#E5ECF6",
           "radialaxis": {
            "gridcolor": "white",
            "linecolor": "white",
            "ticks": ""
           }
          },
          "scene": {
           "xaxis": {
            "backgroundcolor": "#E5ECF6",
            "gridcolor": "white",
            "gridwidth": 2,
            "linecolor": "white",
            "showbackground": true,
            "ticks": "",
            "zerolinecolor": "white"
           },
           "yaxis": {
            "backgroundcolor": "#E5ECF6",
            "gridcolor": "white",
            "gridwidth": 2,
            "linecolor": "white",
            "showbackground": true,
            "ticks": "",
            "zerolinecolor": "white"
           },
           "zaxis": {
            "backgroundcolor": "#E5ECF6",
            "gridcolor": "white",
            "gridwidth": 2,
            "linecolor": "white",
            "showbackground": true,
            "ticks": "",
            "zerolinecolor": "white"
           }
          },
          "shapedefaults": {
           "line": {
            "color": "#2a3f5f"
           }
          },
          "ternary": {
           "aaxis": {
            "gridcolor": "white",
            "linecolor": "white",
            "ticks": ""
           },
           "baxis": {
            "gridcolor": "white",
            "linecolor": "white",
            "ticks": ""
           },
           "bgcolor": "#E5ECF6",
           "caxis": {
            "gridcolor": "white",
            "linecolor": "white",
            "ticks": ""
           }
          },
          "title": {
           "x": 0.05
          },
          "xaxis": {
           "automargin": true,
           "gridcolor": "white",
           "linecolor": "white",
           "ticks": "",
           "zerolinecolor": "white",
           "zerolinewidth": 2
          },
          "yaxis": {
           "automargin": true,
           "gridcolor": "white",
           "linecolor": "white",
           "ticks": "",
           "zerolinecolor": "white",
           "zerolinewidth": 2
          }
         }
        },
        "xaxis": {
         "autorange": true,
         "range": [
          "2009-06-04 19:08:40.3062",
          "2020-05-01 04:51:19.6938"
         ],
         "type": "date"
        },
        "yaxis": {
         "autorange": true,
         "range": [
          -28.75529585987261,
          406.9995958598726
         ],
         "type": "linear"
        }
       }
      },
      "image/png": "[encoded data removed]",
      "text/html": [
       "<div>\n",
       "        \n",
       "        \n",
       "            <div id=\"ea68e54a-e670-42d6-9719-870016caf5ab\" class=\"plotly-graph-div\" style=\"height:525px; width:100%;\"></div>\n",
       "            <script type=\"text/javascript\">\n",
       "                require([\"plotly\"], function(Plotly) {\n",
       "                    window.PLOTLYENV=window.PLOTLYENV || {};\n",
       "                    \n",
       "                if (document.getElementById(\"ea68e54a-e670-42d6-9719-870016caf5ab\")) {\n",
       "                    Plotly.newPlot(\n",
       "                        'ea68e54a-e670-42d6-9719-870016caf5ab',\n",
       "                        [{\"name\": \"priceEarningsRatio\", \"type\": \"scatter\", \"x\": [\"2009-12-31\", \"2010-12-31\", \"2011-12-31\", \"2012-12-31\", \"2013-12-31\", \"2014-12-31\", \"2015-12-31\", \"2016-12-31\", \"2017-12-31\", \"2018-03-31\", \"2018-06-30\", \"2018-09-30\", \"2018-12-31\", \"2019-03-31\", \"2019-10-05\"], \"y\": [17.0706, 21.1875, 20.5152, 25.5632, 20.0756, 23.1932, 0.0, 379.1597, 18.2548, null, null, null, 12.2947, null, null]}, {\"name\": \"priceToBookRatio\", \"type\": \"scatter\", \"x\": [\"2009-12-31\", \"2010-12-31\", \"2011-12-31\", \"2012-12-31\", \"2013-12-31\", \"2014-12-31\", \"2015-12-31\", \"2016-12-31\", \"2017-12-31\", \"2018-03-31\", \"2018-06-30\", \"2018-09-30\", \"2018-12-31\", \"2019-03-31\", \"2019-10-05\"], \"y\": [null, null, null, null, null, null, null, null, null, null, null, null, null, null, null]}, {\"name\": \"priceToSalesRatio\", \"type\": \"scatter\", \"x\": [\"2009-12-31\", \"2010-12-31\", \"2011-12-31\", \"2012-12-31\", \"2013-12-31\", \"2014-12-31\", \"2015-12-31\", \"2016-12-31\", \"2017-12-31\", \"2018-03-31\", \"2018-06-30\", \"2018-09-30\", \"2018-12-31\", \"2019-03-31\", \"2019-10-05\"], \"y\": [2.5899, 3.7993, 3.8688, 4.1597, 3.6616, 3.4104, 2.0343, 2.5267, 3.1682, null, null, null, 2.3002, null, null]}, {\"name\": \"dividendYield\", \"type\": \"scatter\", \"x\": [\"2009-12-31\", \"2010-12-31\", \"2011-12-31\", \"2012-12-31\", \"2013-12-31\", \"2014-12-31\", \"2015-12-31\", \"2016-12-31\", \"2017-12-31\", \"2018-03-31\", \"2018-06-30\", \"2018-09-30\", \"2018-12-31\", \"2019-03-31\", \"2019-10-05\"], \"y\": [null, null, null, null, null, 0.04712384037338099, 0.07303228338549901, 0.047023286160533, 0.033351587785653995, null, null, null, 0.049395914999966, null, null]}, {\"name\": \"payoutRatio\", \"type\": \"scatter\", \"x\": [\"2009-12-31\", \"2010-12-31\", \"2011-12-31\", \"2012-12-31\", \"2013-12-31\", \"2014-12-31\", \"2015-12-31\", \"2016-12-31\", \"2017-12-31\", \"2018-03-31\", \"2018-06-30\", \"2018-09-30\", \"2018-12-31\", \"2019-03-31\", \"2019-10-05\"], \"y\": [0.6527, 0.8877, 0.773, 0.9588, 0.7293, 0.7014, -0.9154, 10.6659, 0.564, null, null, null, 0.5348, null, null]}, {\"name\": \"priceCashFlowRatio\", \"type\": \"scatter\", \"x\": [\"2009-12-31\", \"2010-12-31\", \"2011-12-31\", \"2012-12-31\", \"2013-12-31\", \"2014-12-31\", \"2015-12-31\", \"2016-12-31\", \"2017-12-31\", \"2018-03-31\", \"2018-06-30\", \"2018-09-30\", \"2018-12-31\", \"2019-03-31\", \"2019-10-05\"], \"y\": [0.0, 0.0, 0.0, 0.0, 0.0, 6.7538609559868, 4.516300889598701, 6.024474531465301, 7.6764844359461, null, null, null, 4.8519068497325994, null, null]}, {\"name\": \"debtEquityRatio\", \"type\": \"scatter\", \"x\": [\"2009-12-31\", \"2010-12-31\", \"2011-12-31\", \"2012-12-31\", \"2013-12-31\", \"2014-12-31\", \"2015-12-31\", \"2016-12-31\", \"2017-12-31\", \"2018-03-31\", \"2018-06-30\", \"2018-09-30\", \"2018-12-31\", \"2019-03-31\", \"2019-10-05\"], \"y\": [1.3954, 1.3072, 1.2825, 1.3117, 1.3911, 1.4884, 2.1343, 1.8492, 1.7377, null, null, null, 1.7125, null, null]}],\n",
       "                        {\"template\": {\"data\": {\"bar\": [{\"error_x\": {\"color\": \"#2a3f5f\"}, \"error_y\": {\"color\": \"#2a3f5f\"}, \"marker\": {\"line\": {\"color\": \"#E5ECF6\", \"width\": 0.5}}, \"type\": \"bar\"}], \"barpolar\": [{\"marker\": {\"line\": {\"color\": \"#E5ECF6\", \"width\": 0.5}}, \"type\": \"barpolar\"}], \"carpet\": [{\"aaxis\": {\"endlinecolor\": \"#2a3f5f\", \"gridcolor\": \"white\", \"linecolor\": \"white\", \"minorgridcolor\": \"white\", \"startlinecolor\": \"#2a3f5f\"}, \"baxis\": {\"endlinecolor\": \"#2a3f5f\", \"gridcolor\": \"white\", \"linecolor\": \"white\", \"minorgridcolor\": \"white\", \"startlinecolor\": \"#2a3f5f\"}, \"type\": \"carpet\"}], \"choropleth\": [{\"colorbar\": {\"outlinewidth\": 0, \"ticks\": \"\"}, \"type\": \"choropleth\"}], \"contour\": [{\"colorbar\": {\"outlinewidth\": 0, \"ticks\": \"\"}, \"colorscale\": [[0.0, \"#0d0887\"], [0.1111111111111111, \"#46039f\"], [0.2222222222222222, \"#7201a8\"], [0.3333333333333333, \"#9c179e\"], [0.4444444444444444, \"#bd3786\"], [0.5555555555555556, \"#d8576b\"], [0.6666666666666666, \"#ed7953\"], [0.7777777777777778, \"#fb9f3a\"], [0.8888888888888888, \"#fdca26\"], [1.0, \"#f0f921\"]], \"type\": \"contour\"}], \"contourcarpet\": [{\"colorbar\": {\"outlinewidth\": 0, \"ticks\": \"\"}, \"type\": \"contourcarpet\"}], \"heatmap\": [{\"colorbar\": {\"outlinewidth\": 0, \"ticks\": \"\"}, \"colorscale\": [[0.0, \"#0d0887\"], [0.1111111111111111, \"#46039f\"], [0.2222222222222222, \"#7201a8\"], [0.3333333333333333, \"#9c179e\"], [0.4444444444444444, \"#bd3786\"], [0.5555555555555556, \"#d8576b\"], [0.6666666666666666, \"#ed7953\"], [0.7777777777777778, \"#fb9f3a\"], [0.8888888888888888, \"#fdca26\"], [1.0, \"#f0f921\"]], \"type\": \"heatmap\"}], \"heatmapgl\": [{\"colorbar\": {\"outlinewidth\": 0, \"ticks\": \"\"}, \"colorscale\": [[0.0, \"#0d0887\"], [0.1111111111111111, \"#46039f\"], [0.2222222222222222, \"#7201a8\"], [0.3333333333333333, \"#9c179e\"], [0.4444444444444444, \"#bd3786\"], [0.5555555555555556, \"#d8576b\"], [0.6666666666666666, \"#ed7953\"], [0.7777777777777778, \"#fb9f3a\"], [0.8888888888888888, \"#fdca26\"], [1.0, \"#f0f921\"]], \"type\": \"heatmapgl\"}], \"histogram\": [{\"marker\": {\"colorbar\": {\"outlinewidth\": 0, \"ticks\": \"\"}}, \"type\": \"histogram\"}], \"histogram2d\": [{\"colorbar\": {\"outlinewidth\": 0, \"ticks\": \"\"}, \"colorscale\": [[0.0, \"#0d0887\"], [0.1111111111111111, \"#46039f\"], [0.2222222222222222, \"#7201a8\"], [0.3333333333333333, \"#9c179e\"], [0.4444444444444444, \"#bd3786\"], [0.5555555555555556, \"#d8576b\"], [0.6666666666666666, \"#ed7953\"], [0.7777777777777778, \"#fb9f3a\"], [0.8888888888888888, \"#fdca26\"], [1.0, \"#f0f921\"]], \"type\": \"histogram2d\"}], \"histogram2dcontour\": [{\"colorbar\": {\"outlinewidth\": 0, \"ticks\": \"\"}, \"colorscale\": [[0.0, \"#0d0887\"], [0.1111111111111111, \"#46039f\"], [0.2222222222222222, \"#7201a8\"], [0.3333333333333333, \"#9c179e\"], [0.4444444444444444, \"#bd3786\"], [0.5555555555555556, \"#d8576b\"], [0.6666666666666666, \"#ed7953\"], [0.7777777777777778, \"#fb9f3a\"], [0.8888888888888888, \"#fdca26\"], [1.0, \"#f0f921\"]], \"type\": \"histogram2dcontour\"}], \"mesh3d\": [{\"colorbar\": {\"outlinewidth\": 0, \"ticks\": \"\"}, \"type\": \"mesh3d\"}], \"parcoords\": [{\"line\": {\"colorbar\": {\"outlinewidth\": 0, \"ticks\": \"\"}}, \"type\": \"parcoords\"}], \"scatter\": [{\"marker\": {\"colorbar\": {\"outlinewidth\": 0, \"ticks\": \"\"}}, \"type\": \"scatter\"}], \"scatter3d\": [{\"line\": {\"colorbar\": {\"outlinewidth\": 0, \"ticks\": \"\"}}, \"marker\": {\"colorbar\": {\"outlinewidth\": 0, \"ticks\": \"\"}}, \"type\": \"scatter3d\"}], \"scattercarpet\": [{\"marker\": {\"colorbar\": {\"outlinewidth\": 0, \"ticks\": \"\"}}, \"type\": \"scattercarpet\"}], \"scattergeo\": [{\"marker\": {\"colorbar\": {\"outlinewidth\": 0, \"ticks\": \"\"}}, \"type\": \"scattergeo\"}], \"scattergl\": [{\"marker\": {\"colorbar\": {\"outlinewidth\": 0, \"ticks\": \"\"}}, \"type\": \"scattergl\"}], \"scattermapbox\": [{\"marker\": {\"colorbar\": {\"outlinewidth\": 0, \"ticks\": \"\"}}, \"type\": \"scattermapbox\"}], \"scatterpolar\": [{\"marker\": {\"colorbar\": {\"outlinewidth\": 0, \"ticks\": \"\"}}, \"type\": \"scatterpolar\"}], \"scatterpolargl\": [{\"marker\": {\"colorbar\": {\"outlinewidth\": 0, \"ticks\": \"\"}}, \"type\": \"scatterpolargl\"}], \"scatterternary\": [{\"marker\": {\"colorbar\": {\"outlinewidth\": 0, \"ticks\": \"\"}}, \"type\": \"scatterternary\"}], \"surface\": [{\"colorbar\": {\"outlinewidth\": 0, \"ticks\": \"\"}, \"colorscale\": [[0.0, \"#0d0887\"], [0.1111111111111111, \"#46039f\"], [0.2222222222222222, \"#7201a8\"], [0.3333333333333333, \"#9c179e\"], [0.4444444444444444, \"#bd3786\"], [0.5555555555555556, \"#d8576b\"], [0.6666666666666666, \"#ed7953\"], [0.7777777777777778, \"#fb9f3a\"], [0.8888888888888888, \"#fdca26\"], [1.0, \"#f0f921\"]], \"type\": \"surface\"}], \"table\": [{\"cells\": {\"fill\": {\"color\": \"#EBF0F8\"}, \"line\": {\"color\": \"white\"}}, \"header\": {\"fill\": {\"color\": \"#C8D4E3\"}, \"line\": {\"color\": \"white\"}}, \"type\": \"table\"}]}, \"layout\": {\"annotationdefaults\": {\"arrowcolor\": \"#2a3f5f\", \"arrowhead\": 0, \"arrowwidth\": 1}, \"colorscale\": {\"diverging\": [[0, \"#8e0152\"], [0.1, \"#c51b7d\"], [0.2, \"#de77ae\"], [0.3, \"#f1b6da\"], [0.4, \"#fde0ef\"], [0.5, \"#f7f7f7\"], [0.6, \"#e6f5d0\"], [0.7, \"#b8e186\"], [0.8, \"#7fbc41\"], [0.9, \"#4d9221\"], [1, \"#276419\"]], \"sequential\": [[0.0, \"#0d0887\"], [0.1111111111111111, \"#46039f\"], [0.2222222222222222, \"#7201a8\"], [0.3333333333333333, \"#9c179e\"], [0.4444444444444444, \"#bd3786\"], [0.5555555555555556, \"#d8576b\"], [0.6666666666666666, \"#ed7953\"], [0.7777777777777778, \"#fb9f3a\"], [0.8888888888888888, \"#fdca26\"], [1.0, \"#f0f921\"]], \"sequentialminus\": [[0.0, \"#0d0887\"], [0.1111111111111111, \"#46039f\"], [0.2222222222222222, \"#7201a8\"], [0.3333333333333333, \"#9c179e\"], [0.4444444444444444, \"#bd3786\"], [0.5555555555555556, \"#d8576b\"], [0.6666666666666666, \"#ed7953\"], [0.7777777777777778, \"#fb9f3a\"], [0.8888888888888888, \"#fdca26\"], [1.0, \"#f0f921\"]]}, \"colorway\": [\"#636efa\", \"#EF553B\", \"#00cc96\", \"#ab63fa\", \"#FFA15A\", \"#19d3f3\", \"#FF6692\", \"#B6E880\", \"#FF97FF\", \"#FECB52\"], \"font\": {\"color\": \"#2a3f5f\"}, \"geo\": {\"bgcolor\": \"white\", \"lakecolor\": \"white\", \"landcolor\": \"#E5ECF6\", \"showlakes\": true, \"showland\": true, \"subunitcolor\": \"white\"}, \"hoverlabel\": {\"align\": \"left\"}, \"hovermode\": \"closest\", \"mapbox\": {\"style\": \"light\"}, \"paper_bgcolor\": \"white\", \"plot_bgcolor\": \"#E5ECF6\", \"polar\": {\"angularaxis\": {\"gridcolor\": \"white\", \"linecolor\": \"white\", \"ticks\": \"\"}, \"bgcolor\": \"#E5ECF6\", \"radialaxis\": {\"gridcolor\": \"white\", \"linecolor\": \"white\", \"ticks\": \"\"}}, \"scene\": {\"xaxis\": {\"backgroundcolor\": \"#E5ECF6\", \"gridcolor\": \"white\", \"gridwidth\": 2, \"linecolor\": \"white\", \"showbackground\": true, \"ticks\": \"\", \"zerolinecolor\": \"white\"}, \"yaxis\": {\"backgroundcolor\": \"#E5ECF6\", \"gridcolor\": \"white\", \"gridwidth\": 2, \"linecolor\": \"white\", \"showbackground\": true, \"ticks\": \"\", \"zerolinecolor\": \"white\"}, \"zaxis\": {\"backgroundcolor\": \"#E5ECF6\", \"gridcolor\": \"white\", \"gridwidth\": 2, \"linecolor\": \"white\", \"showbackground\": true, \"ticks\": \"\", \"zerolinecolor\": \"white\"}}, \"shapedefaults\": {\"line\": {\"color\": \"#2a3f5f\"}}, \"ternary\": {\"aaxis\": {\"gridcolor\": \"white\", \"linecolor\": \"white\", \"ticks\": \"\"}, \"baxis\": {\"gridcolor\": \"white\", \"linecolor\": \"white\", \"ticks\": \"\"}, \"bgcolor\": \"#E5ECF6\", \"caxis\": {\"gridcolor\": \"white\", \"linecolor\": \"white\", \"ticks\": \"\"}}, \"title\": {\"x\": 0.05}, \"xaxis\": {\"automargin\": true, \"gridcolor\": \"white\", \"linecolor\": \"white\", \"ticks\": \"\", \"zerolinecolor\": \"white\", \"zerolinewidth\": 2}, \"yaxis\": {\"automargin\": true, \"gridcolor\": \"white\", \"linecolor\": \"white\", \"ticks\": \"\", \"zerolinecolor\": \"white\", \"zerolinewidth\": 2}}}},\n",
       "                        {\"responsive\": true}\n",
       "                    ).then(function(){\n",
       "                            \n",
       "var gd = document.getElementById('ea68e54a-e670-42d6-9719-870016caf5ab');\n",
       "var x = new MutationObserver(function (mutations, observer) {{\n",
       "        var display = window.getComputedStyle(gd).display;\n",
       "        if (!display || display === 'none') {{\n",
       "            console.log([gd, 'removed!']);\n",
       "            Plotly.purge(gd);\n",
       "            observer.disconnect();\n",
       "        }}\n",
       "}});\n",
       "\n",
       "// Listen for the removal of the full notebook cells\n",
       "var notebookContainer = gd.closest('#notebook-container');\n",
       "if (notebookContainer) {{\n",
       "    x.observe(notebookContainer, {childList: true});\n",
       "}}\n",
       "\n",
       "// Listen for the clearing of the current output cell\n",
       "var outputEl = gd.closest('.output');\n",
       "if (outputEl) {{\n",
       "    x.observe(outputEl, {childList: true});\n",
       "}}\n",
       "\n",
       "                        })\n",
       "                };\n",
       "                });\n",
       "            </script>\n",
       "        </div>"
      ]
     },
     "metadata": {},
     "output_type": "display_data"
    }
   ],
   "source": [
    "fig = go.Figure()\n",
    "for indicator in indicator_cols:\n",
    "    fig.add_trace(go.Scatter(\n",
    "        x=df_stock['index'],\n",
    "        y=df_stock[indicator],\n",
    "        name=indicator))\n",
    "fig.show()"
   ]
  },
  {
   "cell_type": "code",
   "execution_count": 110,
   "metadata": {
    "Collapsed": "false"
   },
   "outputs": [
    {
     "data": {
      "application/vnd.plotly.v1+json": {
       "config": {
        "plotlyServerURL": "https://plot.ly"
       },
       "data": [
        {
         "name": "Unnamed: 0",
         "type": "scatter",
         "x": [
          "2009-12-31",
          "2010-12-31",
          "2011-12-31",
          "2012-12-31",
          "2013-12-31",
          "2014-12-31",
          "2015-12-31",
          "2016-12-31",
          "2017-12-31",
          "2018-03-31",
          "2018-06-30",
          "2018-09-30",
          "2018-12-31",
          "2019-03-31",
          "2019-10-05"
         ],
         "y": [
          0,
          1,
          2,
          3,
          4,
          5,
          6,
          7,
          8,
          9,
          10,
          11,
          12,
          13,
          14
         ]
        },
        {
         "name": "index",
         "type": "scatter",
         "x": [
          "2009-12-31",
          "2010-12-31",
          "2011-12-31",
          "2012-12-31",
          "2013-12-31",
          "2014-12-31",
          "2015-12-31",
          "2016-12-31",
          "2017-12-31",
          "2018-03-31",
          "2018-06-30",
          "2018-09-30",
          "2018-12-31",
          "2019-03-31",
          "2019-10-05"
         ],
         "y": [
          "2009-12-31",
          "2010-12-31",
          "2011-12-31",
          "2012-12-31",
          "2013-12-31",
          "2014-12-31",
          "2015-12-31",
          "2016-12-31",
          "2017-12-31",
          "2018-03-31",
          "2018-06-30",
          "2018-09-30",
          "2018-12-31",
          "2019-03-31",
          "2019-10-05"
         ]
        },
        {
         "name": "priceBookValueRatio",
         "type": "scatter",
         "x": [
          "2009-12-31",
          "2010-12-31",
          "2011-12-31",
          "2012-12-31",
          "2013-12-31",
          "2014-12-31",
          "2015-12-31",
          "2016-12-31",
          "2017-12-31",
          "2018-03-31",
          "2018-06-30",
          "2018-09-30",
          "2018-12-31",
          "2019-03-31",
          "2019-10-05"
         ],
         "y": [
          null,
          null,
          null,
          null,
          null,
          null,
          null,
          null,
          null,
          null,
          null,
          null,
          null,
          null,
          null
         ]
        },
        {
         "name": "priceToBookRatio",
         "type": "scatter",
         "x": [
          "2009-12-31",
          "2010-12-31",
          "2011-12-31",
          "2012-12-31",
          "2013-12-31",
          "2014-12-31",
          "2015-12-31",
          "2016-12-31",
          "2017-12-31",
          "2018-03-31",
          "2018-06-30",
          "2018-09-30",
          "2018-12-31",
          "2019-03-31",
          "2019-10-05"
         ],
         "y": [
          null,
          null,
          null,
          null,
          null,
          null,
          null,
          null,
          null,
          null,
          null,
          null,
          null,
          null,
          null
         ]
        },
        {
         "name": "priceToSalesRatio",
         "type": "scatter",
         "x": [
          "2009-12-31",
          "2010-12-31",
          "2011-12-31",
          "2012-12-31",
          "2013-12-31",
          "2014-12-31",
          "2015-12-31",
          "2016-12-31",
          "2017-12-31",
          "2018-03-31",
          "2018-06-30",
          "2018-09-30",
          "2018-12-31",
          "2019-03-31",
          "2019-10-05"
         ],
         "y": [
          2.5899,
          3.7993,
          3.8688,
          4.1597,
          3.6616,
          3.4104,
          2.0343,
          2.5267,
          3.1682,
          null,
          null,
          null,
          2.3002,
          null,
          null
         ]
        },
        {
         "name": "priceEarningsRatio",
         "type": "scatter",
         "x": [
          "2009-12-31",
          "2010-12-31",
          "2011-12-31",
          "2012-12-31",
          "2013-12-31",
          "2014-12-31",
          "2015-12-31",
          "2016-12-31",
          "2017-12-31",
          "2018-03-31",
          "2018-06-30",
          "2018-09-30",
          "2018-12-31",
          "2019-03-31",
          "2019-10-05"
         ],
         "y": [
          17.0706,
          21.1875,
          20.5152,
          25.5632,
          20.0756,
          23.1932,
          0,
          379.1597,
          18.2548,
          null,
          null,
          null,
          12.2947,
          null,
          null
         ]
        },
        {
         "name": "receivablesTurnover_x",
         "type": "scatter",
         "x": [
          "2009-12-31",
          "2010-12-31",
          "2011-12-31",
          "2012-12-31",
          "2013-12-31",
          "2014-12-31",
          "2015-12-31",
          "2016-12-31",
          "2017-12-31",
          "2018-03-31",
          "2018-06-30",
          "2018-09-30",
          "2018-12-31",
          "2019-03-31",
          "2019-10-05"
         ],
         "y": [
          7.9214,
          6.2576,
          6.541,
          7.568,
          7.8262,
          8.0249,
          7.6977,
          7.3312,
          5.9941,
          null,
          null,
          null,
          5.2515,
          null,
          null
         ]
        },
        {
         "name": "priceToFreeCashFlowsRatio",
         "type": "scatter",
         "x": [
          "2009-12-31",
          "2010-12-31",
          "2011-12-31",
          "2012-12-31",
          "2013-12-31",
          "2014-12-31",
          "2015-12-31",
          "2016-12-31",
          "2017-12-31",
          "2018-03-31",
          "2018-06-30",
          "2018-09-30",
          "2018-12-31",
          "2019-03-31",
          "2019-10-05"
         ],
         "y": [
          0,
          0,
          26.0692,
          34.2863,
          0,
          0,
          0,
          0,
          0,
          null,
          null,
          null,
          0,
          null,
          null
         ]
        },
        {
         "name": "priceToOperatingCashFlowsRatio",
         "type": "scatter",
         "x": [
          "2009-12-31",
          "2010-12-31",
          "2011-12-31",
          "2012-12-31",
          "2013-12-31",
          "2014-12-31",
          "2015-12-31",
          "2016-12-31",
          "2017-12-31",
          "2018-03-31",
          "2018-06-30",
          "2018-09-30",
          "2018-12-31",
          "2019-03-31",
          "2019-10-05"
         ],
         "y": [
          6.7495,
          6.7495,
          6.7495,
          6.7495,
          6.7495,
          6.7495,
          6.7495,
          6.7495,
          6.7495,
          null,
          null,
          null,
          6.7495,
          null,
          null
         ]
        },
        {
         "name": "priceCashFlowRatio",
         "type": "scatter",
         "x": [
          "2009-12-31",
          "2010-12-31",
          "2011-12-31",
          "2012-12-31",
          "2013-12-31",
          "2014-12-31",
          "2015-12-31",
          "2016-12-31",
          "2017-12-31",
          "2018-03-31",
          "2018-06-30",
          "2018-09-30",
          "2018-12-31",
          "2019-03-31",
          "2019-10-05"
         ],
         "y": [
          0,
          0,
          0,
          0,
          0,
          6.7538609559868,
          4.516300889598701,
          6.024474531465301,
          7.6764844359461,
          null,
          null,
          null,
          4.8519068497325994,
          null,
          null
         ]
        },
        {
         "name": "priceEarningsToGrowthRatio",
         "type": "scatter",
         "x": [
          "2009-12-31",
          "2010-12-31",
          "2011-12-31",
          "2012-12-31",
          "2013-12-31",
          "2014-12-31",
          "2015-12-31",
          "2016-12-31",
          "2017-12-31",
          "2018-03-31",
          "2018-06-30",
          "2018-09-30",
          "2018-12-31",
          "2019-03-31",
          "2019-10-05"
         ],
         "y": [
          0,
          0,
          0,
          0,
          0,
          15.511856739129998,
          null,
          131.0646412017,
          12.717140829900998,
          null,
          null,
          null,
          8.5910992436515,
          null,
          null
         ]
        },
        {
         "name": "priceSalesRatio",
         "type": "scatter",
         "x": [
          "2009-12-31",
          "2010-12-31",
          "2011-12-31",
          "2012-12-31",
          "2013-12-31",
          "2014-12-31",
          "2015-12-31",
          "2016-12-31",
          "2017-12-31",
          "2018-03-31",
          "2018-06-30",
          "2018-09-30",
          "2018-12-31",
          "2019-03-31",
          "2019-10-05"
         ],
         "y": [
          0,
          0,
          0,
          0,
          0,
          2.8023383799706,
          1.7439851228751,
          2.433893472543,
          2.9852043720721,
          null,
          null,
          null,
          2.3250419913735,
          null,
          null
         ]
        },
        {
         "name": "dividendYield",
         "type": "scatter",
         "x": [
          "2009-12-31",
          "2010-12-31",
          "2011-12-31",
          "2012-12-31",
          "2013-12-31",
          "2014-12-31",
          "2015-12-31",
          "2016-12-31",
          "2017-12-31",
          "2018-03-31",
          "2018-06-30",
          "2018-09-30",
          "2018-12-31",
          "2019-03-31",
          "2019-10-05"
         ],
         "y": [
          null,
          null,
          null,
          null,
          null,
          0.04712384037338099,
          0.07303228338549901,
          0.047023286160533,
          0.033351587785653995,
          null,
          null,
          null,
          0.049395914999966,
          null,
          null
         ]
        },
        {
         "name": "enterpriseValueMultiple",
         "type": "scatter",
         "x": [
          "2009-12-31",
          "2010-12-31",
          "2011-12-31",
          "2012-12-31",
          "2013-12-31",
          "2014-12-31",
          "2015-12-31",
          "2016-12-31",
          "2017-12-31",
          "2018-03-31",
          "2018-06-30",
          "2018-09-30",
          "2018-12-31",
          "2019-03-31",
          "2019-10-05"
         ],
         "y": [
          4.5583853916387005,
          5.5524673851389,
          4.3867903189324,
          4.6904818988253,
          4.906924183275099,
          9.699054087591199,
          25.688315916956,
          16.319562450243,
          11.140018576196,
          null,
          null,
          null,
          8.7172533318092,
          null,
          null
         ]
        },
        {
         "name": "priceFairValue",
         "type": "scatter",
         "x": [
          "2009-12-31",
          "2010-12-31",
          "2011-12-31",
          "2012-12-31",
          "2013-12-31",
          "2014-12-31",
          "2015-12-31",
          "2016-12-31",
          "2017-12-31",
          "2018-03-31",
          "2018-06-30",
          "2018-09-30",
          "2018-12-31",
          "2019-03-31",
          "2019-10-05"
         ],
         "y": [
          0,
          0,
          0,
          0,
          0,
          1.4966867540639999,
          1.2044934359412,
          1.2589380962196002,
          1.6034192100323001,
          null,
          null,
          null,
          1.0840633103824,
          null,
          null
         ]
        },
        {
         "name": "debtRatio",
         "type": "scatter",
         "x": [
          "2009-12-31",
          "2010-12-31",
          "2011-12-31",
          "2012-12-31",
          "2013-12-31",
          "2014-12-31",
          "2015-12-31",
          "2016-12-31",
          "2017-12-31",
          "2018-03-31",
          "2018-06-30",
          "2018-09-30",
          "2018-12-31",
          "2019-03-31",
          "2019-10-05"
         ],
         "y": [
          0.4642,
          0.4673,
          0.455,
          0.4583,
          0.4781,
          0.485,
          0.5448,
          0.5094,
          0.5053,
          null,
          null,
          null,
          0.5079,
          null,
          null
         ]
        },
        {
         "name": "debtEquityRatio",
         "type": "scatter",
         "x": [
          "2009-12-31",
          "2010-12-31",
          "2011-12-31",
          "2012-12-31",
          "2013-12-31",
          "2014-12-31",
          "2015-12-31",
          "2016-12-31",
          "2017-12-31",
          "2018-03-31",
          "2018-06-30",
          "2018-09-30",
          "2018-12-31",
          "2019-03-31",
          "2019-10-05"
         ],
         "y": [
          1.3954,
          1.3072,
          1.2825,
          1.3117,
          1.3911,
          1.4884,
          2.1343,
          1.8492,
          1.7377,
          null,
          null,
          null,
          1.7125,
          null,
          null
         ]
        },
        {
         "name": "longtermDebtToCapitalization",
         "type": "scatter",
         "x": [
          "2009-12-31",
          "2010-12-31",
          "2011-12-31",
          "2012-12-31",
          "2013-12-31",
          "2014-12-31",
          "2015-12-31",
          "2016-12-31",
          "2017-12-31",
          "2018-03-31",
          "2018-06-30",
          "2018-09-30",
          "2018-12-31",
          "2019-03-31",
          "2019-10-05"
         ],
         "y": [
          0.5520577395577401,
          0.52936045693706,
          0.52738222547419,
          0.52925620754927,
          0.55339922854388,
          0.55846260708497,
          0.65579194237373,
          0.63523308270677,
          0.60828209821498,
          null,
          null,
          null,
          0.6000545293435999,
          null,
          null
         ]
        },
        {
         "name": "totalDebtToCapitalization",
         "type": "scatter",
         "x": [
          "2009-12-31",
          "2010-12-31",
          "2011-12-31",
          "2012-12-31",
          "2013-12-31",
          "2014-12-31",
          "2015-12-31",
          "2016-12-31",
          "2017-12-31",
          "2018-03-31",
          "2018-06-30",
          "2018-09-30",
          "2018-12-31",
          "2019-03-31",
          "2019-10-05"
         ],
         "y": [
          0.58253427598248,
          0.56656820066335,
          0.5618804132317601,
          0.56741616146113,
          0.58178123941754,
          0.5981371433388101,
          0.6809456338192199,
          0.6490189836786701,
          0.63473377097009,
          null,
          null,
          null,
          0.6313348999107801,
          null,
          null
         ]
        },
        {
         "name": "interestCoverage",
         "type": "scatter",
         "x": [
          "2009-12-31",
          "2010-12-31",
          "2011-12-31",
          "2012-12-31",
          "2013-12-31",
          "2014-12-31",
          "2015-12-31",
          "2016-12-31",
          "2017-12-31",
          "2018-03-31",
          "2018-06-30",
          "2018-09-30",
          "2018-12-31",
          "2019-03-31",
          "2019-10-05"
         ],
         "y": [
          2.7358,
          3.3752,
          3.301,
          2.8648,
          3.4335,
          3.2295,
          0.1883,
          1.2928,
          2.4828,
          null,
          null,
          null,
          2.8252,
          null,
          null
         ]
        },
        {
         "name": "cashFlowToDebtRatio",
         "type": "scatter",
         "x": [
          "2009-12-31",
          "2010-12-31",
          "2011-12-31",
          "2012-12-31",
          "2013-12-31",
          "2014-12-31",
          "2015-12-31",
          "2016-12-31",
          "2017-12-31",
          "2018-03-31",
          "2018-06-30",
          "2018-09-30",
          "2018-12-31",
          "2019-03-31",
          "2019-10-05"
         ],
         "y": [
          0.14691430817610002,
          0.13153441573291,
          0.17113938155818,
          0.1609863853575,
          0.14256887854094,
          0.14888669673055,
          0.12496080722857,
          0.11300858321257001,
          0.12019948978419,
          null,
          null,
          null,
          0.13047112915746,
          null,
          null
         ]
        },
        {
         "name": "companyEquityMultiplier",
         "type": "scatter",
         "x": [
          "2009-12-31",
          "2010-12-31",
          "2011-12-31",
          "2012-12-31",
          "2013-12-31",
          "2014-12-31",
          "2015-12-31",
          "2016-12-31",
          "2017-12-31",
          "2018-03-31",
          "2018-06-30",
          "2018-09-30",
          "2018-12-31",
          "2019-03-31",
          "2019-10-05"
         ],
         "y": [
          3.0058964689749996,
          2.7975130029293998,
          2.8187447898059,
          2.8618059251375003,
          2.9094736842105,
          3.0689564761404995,
          3.9176298819808,
          3.6299212598425,
          3.4386756659611,
          null,
          null,
          null,
          3.3717363146772,
          null,
          null
         ]
        },
        {
         "name": "operatingCashFlowPerShare",
         "type": "scatter",
         "x": [
          "2009-12-31",
          "2010-12-31",
          "2011-12-31",
          "2012-12-31",
          "2013-12-31",
          "2014-12-31",
          "2015-12-31",
          "2016-12-31",
          "2017-12-31",
          "2018-03-31",
          "2018-06-30",
          "2018-09-30",
          "2018-12-31",
          "2019-03-31",
          "2019-10-05"
         ],
         "y": [
          5.083,
          4.1496,
          5.3661,
          5.035,
          5.5295,
          6.9358,
          8.5512,
          8.9765,
          7.6355,
          null,
          null,
          null,
          9.8112,
          null,
          null
         ]
        },
        {
         "name": "freeCashFlowPerShare",
         "type": "scatter",
         "x": [
          "2009-12-31",
          "2010-12-31",
          "2011-12-31",
          "2012-12-31",
          "2013-12-31",
          "2014-12-31",
          "2015-12-31",
          "2016-12-31",
          "2017-12-31",
          "2018-03-31",
          "2018-06-30",
          "2018-09-30",
          "2018-12-31",
          "2019-03-31",
          "2019-10-05"
         ],
         "y": [
          -4.1259,
          -2.1643,
          1.7077,
          1.3719,
          -1.6224,
          -0.1822,
          -0.0878,
          -0.4126,
          -2.4308,
          null,
          null,
          null,
          -4.3241,
          null,
          null
         ]
        },
        {
         "name": "cashPerShare",
         "type": "scatter",
         "x": [
          "2009-12-31",
          "2010-12-31",
          "2011-12-31",
          "2012-12-31",
          "2013-12-31",
          "2014-12-31",
          "2015-12-31",
          "2016-12-31",
          "2017-12-31",
          "2018-03-31",
          "2018-06-30",
          "2018-09-30",
          "2018-12-31",
          "2019-03-31",
          "2019-10-05"
         ],
         "y": [
          1.6949,
          1.1023,
          0.9521,
          0.7769,
          1.3952,
          0.8026,
          1.6580000000000001,
          1.7992,
          1.5899,
          null,
          null,
          null,
          0.6676,
          null,
          null
         ]
        },
        {
         "name": "payoutRatio",
         "type": "scatter",
         "x": [
          "2009-12-31",
          "2010-12-31",
          "2011-12-31",
          "2012-12-31",
          "2013-12-31",
          "2014-12-31",
          "2015-12-31",
          "2016-12-31",
          "2017-12-31",
          "2018-03-31",
          "2018-06-30",
          "2018-09-30",
          "2018-12-31",
          "2019-03-31",
          "2019-10-05"
         ],
         "y": [
          0.6527,
          0.8877,
          0.773,
          0.9588,
          0.7293,
          0.7014,
          -0.9154,
          10.6659,
          0.564,
          null,
          null,
          null,
          0.5348,
          null,
          null
         ]
        },
        {
         "name": "receivablesTurnover_y",
         "type": "scatter",
         "x": [
          "2009-12-31",
          "2010-12-31",
          "2011-12-31",
          "2012-12-31",
          "2013-12-31",
          "2014-12-31",
          "2015-12-31",
          "2016-12-31",
          "2017-12-31",
          "2018-03-31",
          "2018-06-30",
          "2018-09-30",
          "2018-12-31",
          "2019-03-31",
          "2019-10-05"
         ],
         "y": [
          7.9214,
          6.2576,
          6.541,
          7.568,
          7.8262,
          8.0249,
          7.6977,
          7.3312,
          5.9941,
          null,
          null,
          null,
          5.2515,
          null,
          null
         ]
        },
        {
         "name": "operatingCashFlowSalesRatio",
         "type": "scatter",
         "x": [
          "2009-12-31",
          "2010-12-31",
          "2011-12-31",
          "2012-12-31",
          "2013-12-31",
          "2014-12-31",
          "2015-12-31",
          "2016-12-31",
          "2017-12-31",
          "2018-03-31",
          "2018-06-30",
          "2018-09-30",
          "2018-12-31",
          "2019-03-31",
          "2019-10-05"
         ],
         "y": [
          0.36548099254370003,
          0.41973146526562,
          0.4702130373772199,
          0.44598476333209003,
          0.41764237808344,
          0.41492390770741,
          0.38615343961948,
          0.40400095640392,
          0.38887649639378,
          null,
          null,
          null,
          0.47920169603042,
          null,
          null
         ]
        },
        {
         "name": "freeCashFlowOperatingCashFlowRatio",
         "type": "scatter",
         "x": [
          "2009-12-31",
          "2010-12-31",
          "2011-12-31",
          "2012-12-31",
          "2013-12-31",
          "2014-12-31",
          "2015-12-31",
          "2016-12-31",
          "2017-12-31",
          "2018-03-31",
          "2018-06-30",
          "2018-09-30",
          "2018-12-31",
          "2019-03-31",
          "2019-10-05"
         ],
         "y": [
          -0.81170568561873,
          -0.52155771905425,
          0.31823114487248,
          0.27247269672359997,
          -0.29341317365268,
          -0.026265972550865,
          -0.010264598540131,
          -0.045965673702901,
          -0.31835564053537,
          null,
          null,
          null,
          -0.44073226544621996,
          null,
          null
         ]
        },
        {
         "name": "cashFlowCoverageRatios",
         "type": "scatter",
         "x": [
          "2009-12-31",
          "2010-12-31",
          "2011-12-31",
          "2012-12-31",
          "2013-12-31",
          "2014-12-31",
          "2015-12-31",
          "2016-12-31",
          "2017-12-31",
          "2018-03-31",
          "2018-06-30",
          "2018-09-30",
          "2018-12-31",
          "2019-03-31",
          "2019-10-05"
         ],
         "y": [
          0.14691430817610002,
          0.13153441573291,
          0.17113938155818,
          0.1609863853575,
          0.14256887854094,
          0.14888669673055,
          0.12496080722857,
          0.11300858321257001,
          0.12019948978419,
          null,
          null,
          null,
          0.13047112915746,
          null,
          null
         ]
        },
        {
         "name": "shortTermCoverageRatios",
         "type": "scatter",
         "x": [
          "2009-12-31",
          "2010-12-31",
          "2011-12-31",
          "2012-12-31",
          "2013-12-31",
          "2014-12-31",
          "2015-12-31",
          "2016-12-31",
          "2017-12-31",
          "2018-03-31",
          "2018-06-30",
          "2018-09-30",
          "2018-12-31",
          "2019-03-31",
          "2019-10-05"
         ],
         "y": [
          1.2578880942364,
          0.94264175680106,
          1.3173695496784,
          1.1268538971285,
          1.3051509769093999,
          0.9910881801125699,
          1.1644090305445,
          1.9406584992343,
          1.1298336573774,
          null,
          null,
          null,
          1.0531812339331998,
          null,
          null
         ]
        },
        {
         "name": "capitalExpenditureCoverageRatios",
         "type": "scatter",
         "x": [
          "2009-12-31",
          "2010-12-31",
          "2011-12-31",
          "2012-12-31",
          "2013-12-31",
          "2014-12-31",
          "2015-12-31",
          "2016-12-31",
          "2017-12-31",
          "2018-03-31",
          "2018-06-30",
          "2018-09-30",
          "2018-12-31",
          "2019-03-31",
          "2019-10-05"
         ],
         "y": [
          0.5519660328595101,
          0.6572212065813701,
          1.4667727815361002,
          1.3745188606621,
          0.77314814814816,
          0.97440627161634,
          0.98983969293293,
          0.95605431912486,
          0.75852066715011,
          null,
          null,
          null,
          0.6940914866582,
          null,
          null
         ]
        },
        {
         "name": "dividendpaidAndCapexCoverageRatios",
         "type": "scatter",
         "x": [
          "2009-12-31",
          "2010-12-31",
          "2011-12-31",
          "2012-12-31",
          "2013-12-31",
          "2014-12-31",
          "2015-12-31",
          "2016-12-31",
          "2017-12-31",
          "2018-03-31",
          "2018-06-30",
          "2018-09-30",
          "2018-12-31",
          "2019-03-31",
          "2019-10-05"
         ],
         "y": [
          0.48657445077299,
          0.56062378167642,
          1.0444885236611,
          0.93383891213391,
          0.60858042073878,
          0.7437521999296101,
          0.74621276595744,
          0.75230038587118,
          0.6351712411950501,
          null,
          null,
          null,
          0.59509759418974,
          null,
          null
         ]
        },
        {
         "name": "dividendPayoutRatio",
         "type": "scatter",
         "x": [
          "2009-12-31",
          "2010-12-31",
          "2011-12-31",
          "2012-12-31",
          "2013-12-31",
          "2014-12-31",
          "2015-12-31",
          "2016-12-31",
          "2017-12-31",
          "2018-03-31",
          "2018-06-30",
          "2018-09-30",
          "2018-12-31",
          "2019-03-31",
          "2019-10-05"
         ],
         "y": [
          0.52753623188403,
          0.58998435054778,
          0.6426312460468101,
          0.90546528803544,
          0.7194848824188299,
          0.73097826086953,
          null,
          6.1630901287553,
          0.42413683877098,
          null,
          null,
          null,
          0.42436520799567995,
          null,
          null
         ]
        },
        {
         "name": "niperEBT",
         "type": "scatter",
         "x": [
          "2009-12-31",
          "2010-12-31",
          "2011-12-31",
          "2012-12-31",
          "2013-12-31",
          "2014-12-31",
          "2015-12-31",
          "2016-12-31",
          "2017-12-31",
          "2018-03-31",
          "2018-06-30",
          "2018-09-30",
          "2018-12-31",
          "2019-03-31",
          "2019-10-05"
         ],
         "y": [
          0.78098471986418,
          0.7675675675675401,
          0.73330241187382,
          0.74395604395604,
          0.7450980392156701,
          0.68888056907527,
          null,
          0.39829059829057,
          1.0290091264667,
          null,
          null,
          null,
          0.8955007256894,
          null,
          null
         ]
        },
        {
         "name": "ebtperEBIT",
         "type": "scatter",
         "x": [
          "2009-12-31",
          "2010-12-31",
          "2011-12-31",
          "2012-12-31",
          "2013-12-31",
          "2014-12-31",
          "2015-12-31",
          "2016-12-31",
          "2017-12-31",
          "2018-03-31",
          "2018-06-30",
          "2018-09-30",
          "2018-12-31",
          "2019-03-31",
          "2019-10-05"
         ],
         "y": [
          0.6344703770197601,
          0.7037193575655301,
          0.6970578726155799,
          0.6509298998569499,
          0.70875221762272,
          0.69035926596018,
          -4.3100775193803,
          0.22648083623696,
          0.5972357407046899,
          null,
          null,
          null,
          0.6460384435067901,
          null,
          null
         ]
        },
        {
         "name": "ebitperRevenue",
         "type": "scatter",
         "x": [
          "2009-12-31",
          "2010-12-31",
          "2011-12-31",
          "2012-12-31",
          "2013-12-31",
          "2014-12-31",
          "2015-12-31",
          "2016-12-31",
          "2017-12-31",
          "2018-03-31",
          "2018-06-30",
          "2018-09-30",
          "2018-12-31",
          "2019-03-31",
          "2019-10-05"
         ],
         "y": [
          0.34042293118201,
          0.34530064214827,
          0.39456563337161,
          0.34919445485201,
          0.38444924406046993,
          0.37987236131565993,
          0.022725270853516003,
          0.20586594405037,
          0.38196148412521,
          null,
          null,
          null,
          0.46779735360772,
          null,
          null
         ]
        },
        {
         "name": "grossProfitMargin",
         "type": "scatter",
         "x": [
          "2009-12-31",
          "2010-12-31",
          "2011-12-31",
          "2012-12-31",
          "2013-12-31",
          "2014-12-31",
          "2015-12-31",
          "2016-12-31",
          "2017-12-31",
          "2018-03-31",
          "2018-06-30",
          "2018-09-30",
          "2018-12-31",
          "2019-03-31",
          "2019-10-05"
         ],
         "y": [
          0.5056839017235101,
          0.52612375948628,
          0.5727771399413101,
          0.5471462470338401,
          0.5463226099806799,
          0.52783505154639,
          0.51202325376552,
          0.51916792858851,
          0.5324559446799,
          null,
          null,
          null,
          0.6287009284304399,
          null,
          null
         ]
        },
        {
         "name": "operatingProfitMargin",
         "type": "scatter",
         "x": [
          "2009-12-31",
          "2010-12-31",
          "2011-12-31",
          "2012-12-31",
          "2013-12-31",
          "2014-12-31",
          "2015-12-31",
          "2016-12-31",
          "2017-12-31",
          "2018-03-31",
          "2018-06-30",
          "2018-09-30",
          "2018-12-31",
          "2019-03-31",
          "2019-10-05"
         ],
         "y": [
          1,
          1,
          1,
          1,
          1,
          1,
          1,
          1,
          1,
          null,
          null,
          null,
          1,
          null,
          null
         ]
        },
        {
         "name": "pretaxProfitMargin",
         "type": "scatter",
         "x": [
          "2009-12-31",
          "2010-12-31",
          "2011-12-31",
          "2012-12-31",
          "2013-12-31",
          "2014-12-31",
          "2015-12-31",
          "2016-12-31",
          "2017-12-31",
          "2018-03-31",
          "2018-06-30",
          "2018-09-30",
          "2018-12-31",
          "2019-03-31",
          "2019-10-05"
         ],
         "y": [
          0.33736707004033,
          0.28225335668418,
          0.35106518688607996,
          0.32121893343324,
          0.32692963510288,
          0.33470790378006,
          -0.018849643266101,
          0.20977126006216001,
          0.2438843036657,
          null,
          null,
          null,
          0.35675122450471,
          null,
          null
         ]
        },
        {
         "name": "netProfitMargin",
         "type": "scatter",
         "x": [
          "2009-12-31",
          "2010-12-31",
          "2011-12-31",
          "2012-12-31",
          "2013-12-31",
          "2014-12-31",
          "2015-12-31",
          "2016-12-31",
          "2017-12-31",
          "2018-03-31",
          "2018-06-30",
          "2018-09-30",
          "2018-12-31",
          "2019-03-31",
          "2019-10-05"
         ],
         "y": [
          0.16868353502017003,
          0.18651488616462,
          0.20168388825105,
          0.16910203571875,
          0.20302375809935,
          0.18065783014236997,
          -0.10094248216330001,
          0.018570176137723,
          0.23473864227823,
          null,
          null,
          null,
          0.27063381826157,
          null,
          null
         ]
        },
        {
         "name": "effectiveTaxRate",
         "type": "scatter",
         "x": [
          "2009-12-31",
          "2010-12-31",
          "2011-12-31",
          "2012-12-31",
          "2013-12-31",
          "2014-12-31",
          "2015-12-31",
          "2016-12-31",
          "2017-12-31",
          "2018-03-31",
          "2018-06-30",
          "2018-09-30",
          "2018-12-31",
          "2019-03-31",
          "2019-10-05"
         ],
         "y": [
          0.21901528013582003,
          0.2324324324324,
          0.26669758812618,
          0.25604395604396,
          0.25490196078433,
          0.31111943092473,
          null,
          0.6017094017094301,
          -0.029009126466749,
          null,
          null,
          null,
          0.10449927431060001,
          null,
          null
         ]
        },
        {
         "name": "returnOnAssets",
         "type": "scatter",
         "x": [
          "2009-12-31",
          "2010-12-31",
          "2011-12-31",
          "2012-12-31",
          "2013-12-31",
          "2014-12-31",
          "2015-12-31",
          "2016-12-31",
          "2017-12-31",
          "2018-03-31",
          "2018-06-30",
          "2018-09-30",
          "2018-12-31",
          "2019-03-31",
          "2019-10-05"
         ],
         "y": [
          0.0445,
          0.0377,
          0.0527,
          0.0441,
          0.0507,
          0.0503,
          -0.0286,
          0.0042,
          0.0623,
          null,
          null,
          null,
          0.0662,
          null,
          null
         ]
        },
        {
         "name": "returnOnEquity",
         "type": "scatter",
         "x": [
          "2009-12-31",
          "2010-12-31",
          "2011-12-31",
          "2012-12-31",
          "2013-12-31",
          "2014-12-31",
          "2015-12-31",
          "2016-12-31",
          "2017-12-31",
          "2018-03-31",
          "2018-06-30",
          "2018-09-30",
          "2018-12-31",
          "2019-03-31",
          "2019-10-05"
         ],
         "y": [
          0.0946,
          0.0764,
          0.0941,
          0.0801,
          0.0964,
          0.0965,
          -0.0697,
          0.0096,
          0.1261,
          null,
          null,
          null,
          0.1262,
          null,
          null
         ]
        },
        {
         "name": "returnOnCapitalEmployed",
         "type": "scatter",
         "x": [
          "2009-12-31",
          "2010-12-31",
          "2011-12-31",
          "2012-12-31",
          "2013-12-31",
          "2014-12-31",
          "2015-12-31",
          "2016-12-31",
          "2017-12-31",
          "2018-03-31",
          "2018-06-30",
          "2018-09-30",
          "2018-12-31",
          "2019-03-31",
          "2019-10-05"
         ],
         "y": [
          0.0441,
          0.0286,
          0.0405,
          0.0368,
          0.0368,
          0.0401,
          -0.0023,
          0.0205,
          0.0263,
          null,
          null,
          null,
          0.0339,
          null,
          null
         ]
        },
        {
         "name": "nIperEBT",
         "type": "scatter",
         "x": [
          "2009-12-31",
          "2010-12-31",
          "2011-12-31",
          "2012-12-31",
          "2013-12-31",
          "2014-12-31",
          "2015-12-31",
          "2016-12-31",
          "2017-12-31",
          "2018-03-31",
          "2018-06-30",
          "2018-09-30",
          "2018-12-31",
          "2019-03-31",
          "2019-10-05"
         ],
         "y": [
          0.78098471986418,
          0.7675675675675401,
          0.73330241187382,
          0.74395604395604,
          0.7450980392156701,
          0.68888056907527,
          null,
          0.39829059829057,
          1.0290091264667,
          null,
          null,
          null,
          0.8955007256894,
          null,
          null
         ]
        },
        {
         "name": "eBTperEBIT",
         "type": "scatter",
         "x": [
          "2009-12-31",
          "2010-12-31",
          "2011-12-31",
          "2012-12-31",
          "2013-12-31",
          "2014-12-31",
          "2015-12-31",
          "2016-12-31",
          "2017-12-31",
          "2018-03-31",
          "2018-06-30",
          "2018-09-30",
          "2018-12-31",
          "2019-03-31",
          "2019-10-05"
         ],
         "y": [
          0.6344703770197601,
          0.7037193575655301,
          0.6970578726155799,
          0.6509298998569499,
          0.70875221762272,
          0.69035926596018,
          -4.3100775193803,
          0.22648083623696,
          0.5972357407046899,
          null,
          null,
          null,
          0.6460384435067901,
          null,
          null
         ]
        },
        {
         "name": "eBITperRevenue",
         "type": "scatter",
         "x": [
          "2009-12-31",
          "2010-12-31",
          "2011-12-31",
          "2012-12-31",
          "2013-12-31",
          "2014-12-31",
          "2015-12-31",
          "2016-12-31",
          "2017-12-31",
          "2018-03-31",
          "2018-06-30",
          "2018-09-30",
          "2018-12-31",
          "2019-03-31",
          "2019-10-05"
         ],
         "y": [
          0.34042293118201,
          0.34530064214827,
          0.39456563337161,
          0.34919445485201,
          0.38444924406046993,
          0.37987236131565993,
          0.022725270853516003,
          0.20586594405037,
          0.38196148412521,
          null,
          null,
          null,
          0.46779735360772,
          null,
          null
         ]
        },
        {
         "name": "receivablesTurnover",
         "type": "scatter",
         "x": [
          "2009-12-31",
          "2010-12-31",
          "2011-12-31",
          "2012-12-31",
          "2013-12-31",
          "2014-12-31",
          "2015-12-31",
          "2016-12-31",
          "2017-12-31",
          "2018-03-31",
          "2018-06-30",
          "2018-09-30",
          "2018-12-31",
          "2019-03-31",
          "2019-10-05"
         ],
         "y": [
          7.9214,
          6.2576,
          6.541,
          7.568,
          7.8262,
          8.0249,
          7.6977,
          7.3312,
          5.9941,
          null,
          null,
          null,
          5.2515,
          null,
          null
         ]
        },
        {
         "name": "payablesTurnover",
         "type": "scatter",
         "x": [
          "2009-12-31",
          "2010-12-31",
          "2011-12-31",
          "2012-12-31",
          "2013-12-31",
          "2014-12-31",
          "2015-12-31",
          "2016-12-31",
          "2017-12-31",
          "2018-03-31",
          "2018-06-30",
          "2018-09-30",
          "2018-12-31",
          "2019-03-31",
          "2019-10-05"
         ],
         "y": [
          null,
          null,
          null,
          null,
          null,
          null,
          null,
          null,
          null,
          null,
          null,
          null,
          1.0855,
          null,
          null
         ]
        },
        {
         "name": "inventoryTurnover",
         "type": "scatter",
         "x": [
          "2009-12-31",
          "2010-12-31",
          "2011-12-31",
          "2012-12-31",
          "2013-12-31",
          "2014-12-31",
          "2015-12-31",
          "2016-12-31",
          "2017-12-31",
          "2018-03-31",
          "2018-06-30",
          "2018-09-30",
          "2018-12-31",
          "2019-03-31",
          "2019-10-05"
         ],
         "y": [
          17.5735,
          15.0406,
          22.9326,
          34.4235,
          35.8494,
          35.9819,
          33.8625,
          36.8006,
          37.0211,
          null,
          null,
          null,
          32.8876,
          null,
          null
         ]
        },
        {
         "name": "fixedAssetTurnover",
         "type": "scatter",
         "x": [
          "2009-12-31",
          "2010-12-31",
          "2011-12-31",
          "2012-12-31",
          "2013-12-31",
          "2014-12-31",
          "2015-12-31",
          "2016-12-31",
          "2017-12-31",
          "2018-03-31",
          "2018-06-30",
          "2018-09-30",
          "2018-12-31",
          "2019-03-31",
          "2019-10-05"
         ],
         "y": [
          0.24882143617507,
          0.18905198101754997,
          0.24144515970062,
          0.23750482009907,
          0.23392543743020003,
          0.24381194044142002,
          0.25331905303791,
          0.23032583754016,
          0.23480629222898997,
          null,
          null,
          null,
          0.20568996887358,
          null,
          null
         ]
        },
        {
         "name": "assetTurnover",
         "type": "scatter",
         "x": [
          "2009-12-31",
          "2010-12-31",
          "2011-12-31",
          "2012-12-31",
          "2013-12-31",
          "2014-12-31",
          "2015-12-31",
          "2016-12-31",
          "2017-12-31",
          "2018-03-31",
          "2018-06-30",
          "2018-09-30",
          "2018-12-31",
          "2019-03-31",
          "2019-10-05"
         ],
         "y": [
          0.18660614493283,
          0.14642902936274,
          0.16559634965567002,
          0.16544755764939,
          0.16321570373669,
          0.17402819307988,
          0.17629429485387998,
          0.14249696198793999,
          0.15620027641955,
          null,
          null,
          null,
          0.13828346138294,
          null,
          null
         ]
        },
        {
         "name": "currentRatio",
         "type": "scatter",
         "x": [
          "2009-12-31",
          "2010-12-31",
          "2011-12-31",
          "2012-12-31",
          "2013-12-31",
          "2014-12-31",
          "2015-12-31",
          "2016-12-31",
          "2017-12-31",
          "2018-03-31",
          "2018-06-30",
          "2018-09-30",
          "2018-12-31",
          "2019-03-31",
          "2019-10-05"
         ],
         "y": [
          0.6126,
          0.5868,
          0.5509,
          0.4829,
          0.5517,
          0.3537,
          0.3847,
          0.7835,
          0.3723,
          null,
          null,
          null,
          0.2941,
          null,
          null
         ]
        },
        {
         "name": "quickRatio",
         "type": "scatter",
         "x": [
          "2009-12-31",
          "2010-12-31",
          "2011-12-31",
          "2012-12-31",
          "2013-12-31",
          "2014-12-31",
          "2015-12-31",
          "2016-12-31",
          "2017-12-31",
          "2018-03-31",
          "2018-06-30",
          "2018-09-30",
          "2018-12-31",
          "2019-03-31",
          "2019-10-05"
         ],
         "y": [
          0.39664578702768,
          0.35764499121266,
          0.3165519739225,
          0.27257269171909,
          0.38241881298992997,
          0.2377308707124,
          0.30385764737845,
          0.40247395833334004,
          0.3655968411460999,
          null,
          null,
          null,
          0.23026417426232998,
          null,
          null
         ]
        },
        {
         "name": "cashRatio",
         "type": "scatter",
         "x": [
          "2009-12-31",
          "2010-12-31",
          "2011-12-31",
          "2012-12-31",
          "2013-12-31",
          "2014-12-31",
          "2015-12-31",
          "2016-12-31",
          "2017-12-31",
          "2018-03-31",
          "2018-06-30",
          "2018-09-30",
          "2018-12-31",
          "2019-03-31",
          "2019-10-05"
         ],
         "y": [
          0.20145483936148997,
          0.13427065026363,
          0.11843534951105,
          0.093691549056282,
          0.17301231802912,
          0.064511873350921,
          0.11545775604456,
          0.13229166666667,
          0.11025615065303,
          null,
          null,
          null,
          0.034450795612548,
          null,
          null
         ]
        },
        {
         "name": "daysOfSalesOutstanding",
         "type": "scatter",
         "x": [
          "2009-12-31",
          "2010-12-31",
          "2011-12-31",
          "2012-12-31",
          "2013-12-31",
          "2014-12-31",
          "2015-12-31",
          "2016-12-31",
          "2017-12-31",
          "2018-03-31",
          "2018-06-30",
          "2018-09-30",
          "2018-12-31",
          "2019-03-31",
          "2019-10-05"
         ],
         "y": [
          -46.1214,
          -47.7749,
          -27.029,
          -22.5483,
          -22.9554,
          -22.1626,
          -21.2807,
          -22.2642,
          -21.9418,
          null,
          null,
          null,
          -30.9736,
          null,
          null
         ]
        },
        {
         "name": "daysOfInventoryOutstanding",
         "type": "scatter",
         "x": [
          "2009-12-31",
          "2010-12-31",
          "2011-12-31",
          "2012-12-31",
          "2013-12-31",
          "2014-12-31",
          "2015-12-31",
          "2016-12-31",
          "2017-12-31",
          "2018-03-31",
          "2018-06-30",
          "2018-09-30",
          "2018-12-31",
          "2019-03-31",
          "2019-10-05"
         ],
         "y": [
          43.0986,
          67.705,
          50.9389,
          47.9555,
          46.5534,
          47.053999999999995,
          44.5922,
          60.363,
          68.446,
          null,
          null,
          null,
          67.642,
          null,
          null
         ]
        },
        {
         "name": "operatingCycle",
         "type": "scatter",
         "x": [
          "2009-12-31",
          "2010-12-31",
          "2011-12-31",
          "2012-12-31",
          "2013-12-31",
          "2014-12-31",
          "2015-12-31",
          "2016-12-31",
          "2017-12-31",
          "2018-03-31",
          "2018-06-30",
          "2018-09-30",
          "2018-12-31",
          "2019-03-31",
          "2019-10-05"
         ],
         "y": [
          null,
          null,
          null,
          null,
          null,
          null,
          null,
          null,
          null,
          null,
          null,
          null,
          null,
          null,
          null
         ]
        },
        {
         "name": "daysOfPayablesOutstanding",
         "type": "scatter",
         "x": [
          "2009-12-31",
          "2010-12-31",
          "2011-12-31",
          "2012-12-31",
          "2013-12-31",
          "2014-12-31",
          "2015-12-31",
          "2016-12-31",
          "2017-12-31",
          "2018-03-31",
          "2018-06-30",
          "2018-09-30",
          "2018-12-31",
          "2019-03-31",
          "2019-10-05"
         ],
         "y": [
          97.9312,
          121.0274,
          109.8399,
          106.8515,
          89.414,
          103.6406,
          85.2942,
          112.3189,
          110.1052,
          null,
          null,
          null,
          144.3029,
          null,
          null
         ]
        },
        {
         "name": "cashConversionCycle",
         "type": "scatter",
         "x": [
          "2009-12-31",
          "2010-12-31",
          "2011-12-31",
          "2012-12-31",
          "2013-12-31",
          "2014-12-31",
          "2015-12-31",
          "2016-12-31",
          "2017-12-31",
          "2018-03-31",
          "2018-06-30",
          "2018-09-30",
          "2018-12-31",
          "2019-03-31",
          "2019-10-05"
         ],
         "y": [
          null,
          null,
          null,
          null,
          null,
          null,
          null,
          null,
          null,
          null,
          null,
          null,
          null,
          null,
          null
         ]
        },
        {
         "name": "date_x",
         "type": "scatter",
         "x": [
          "2009-12-31",
          "2010-12-31",
          "2011-12-31",
          "2012-12-31",
          "2013-12-31",
          "2014-12-31",
          "2015-12-31",
          "2016-12-31",
          "2017-12-31",
          "2018-03-31",
          "2018-06-30",
          "2018-09-30",
          "2018-12-31",
          "2019-03-31",
          "2019-10-05"
         ],
         "y": [
          null,
          null,
          null,
          null,
          null,
          null,
          null,
          null,
          null,
          null,
          "2018-06-30",
          "2018-09-30",
          "2018-12-31",
          "2019-03-31",
          null
         ]
        },
        {
         "name": "Cash and cash equivalents",
         "type": "scatter",
         "x": [
          "2009-12-31",
          "2010-12-31",
          "2011-12-31",
          "2012-12-31",
          "2013-12-31",
          "2014-12-31",
          "2015-12-31",
          "2016-12-31",
          "2017-12-31",
          "2018-03-31",
          "2018-06-30",
          "2018-09-30",
          "2018-12-31",
          "2019-03-31",
          "2019-10-05"
         ],
         "y": [
          null,
          null,
          null,
          null,
          null,
          null,
          null,
          null,
          null,
          null,
          1185263475.7663,
          846076999.9232,
          446000000,
          653134596.6594,
          null
         ]
        },
        {
         "name": "Short-term investments",
         "type": "scatter",
         "x": [
          "2009-12-31",
          "2010-12-31",
          "2011-12-31",
          "2012-12-31",
          "2013-12-31",
          "2014-12-31",
          "2015-12-31",
          "2016-12-31",
          "2017-12-31",
          "2018-03-31",
          "2018-06-30",
          "2018-09-30",
          "2018-12-31",
          "2019-03-31",
          "2019-10-05"
         ],
         "y": [
          null,
          null,
          null,
          null,
          null,
          null,
          null,
          null,
          null,
          null,
          0,
          0,
          0,
          0,
          null
         ]
        },
        {
         "name": "Cash and short-term investments",
         "type": "scatter",
         "x": [
          "2009-12-31",
          "2010-12-31",
          "2011-12-31",
          "2012-12-31",
          "2013-12-31",
          "2014-12-31",
          "2015-12-31",
          "2016-12-31",
          "2017-12-31",
          "2018-03-31",
          "2018-06-30",
          "2018-09-30",
          "2018-12-31",
          "2019-03-31",
          "2019-10-05"
         ],
         "y": [
          null,
          null,
          null,
          null,
          null,
          null,
          null,
          null,
          null,
          null,
          1185263475.7663,
          846076999.9232,
          446000000,
          653134596.6594,
          null
         ]
        },
        {
         "name": "Receivables",
         "type": "scatter",
         "x": [
          "2009-12-31",
          "2010-12-31",
          "2011-12-31",
          "2012-12-31",
          "2013-12-31",
          "2014-12-31",
          "2015-12-31",
          "2016-12-31",
          "2017-12-31",
          "2018-03-31",
          "2018-06-30",
          "2018-09-30",
          "2018-12-31",
          "2019-03-31",
          "2019-10-05"
         ],
         "y": [
          null,
          null,
          null,
          null,
          null,
          null,
          null,
          null,
          null,
          null,
          2111000000,
          2170000000,
          2694000000,
          2214000000,
          null
         ]
        },
        {
         "name": "Inventories",
         "type": "scatter",
         "x": [
          "2009-12-31",
          "2010-12-31",
          "2011-12-31",
          "2012-12-31",
          "2013-12-31",
          "2014-12-31",
          "2015-12-31",
          "2016-12-31",
          "2017-12-31",
          "2018-03-31",
          "2018-06-30",
          "2018-09-30",
          "2018-12-31",
          "2019-03-31",
          "2019-10-05"
         ],
         "y": [
          null,
          null,
          null,
          null,
          null,
          null,
          null,
          null,
          null,
          null,
          403000000,
          381000000,
          431000000,
          407000000,
          null
         ]
        },
        {
         "name": "Total current assets",
         "type": "scatter",
         "x": [
          "2009-12-31",
          "2010-12-31",
          "2011-12-31",
          "2012-12-31",
          "2013-12-31",
          "2014-12-31",
          "2015-12-31",
          "2016-12-31",
          "2017-12-31",
          "2018-03-31",
          "2018-06-30",
          "2018-09-30",
          "2018-12-31",
          "2019-03-31",
          "2019-10-05"
         ],
         "y": [
          null,
          null,
          null,
          null,
          null,
          null,
          null,
          null,
          null,
          null,
          null,
          null,
          null,
          null,
          null
         ]
        },
        {
         "name": "Property, Plant & Equipment Net",
         "type": "scatter",
         "x": [
          "2009-12-31",
          "2010-12-31",
          "2011-12-31",
          "2012-12-31",
          "2013-12-31",
          "2014-12-31",
          "2015-12-31",
          "2016-12-31",
          "2017-12-31",
          "2018-03-31",
          "2018-06-30",
          "2018-09-30",
          "2018-12-31",
          "2019-03-31",
          "2019-10-05"
         ],
         "y": [
          null,
          null,
          null,
          null,
          null,
          null,
          null,
          null,
          null,
          null,
          61446000000,
          63212000000,
          66503000000,
          67520000000,
          null
         ]
        },
        {
         "name": "Goodwill and Intangible Assets",
         "type": "scatter",
         "x": [
          "2009-12-31",
          "2010-12-31",
          "2011-12-31",
          "2012-12-31",
          "2013-12-31",
          "2014-12-31",
          "2015-12-31",
          "2016-12-31",
          "2017-12-31",
          "2018-03-31",
          "2018-06-30",
          "2018-09-30",
          "2018-12-31",
          "2019-03-31",
          "2019-10-05"
         ],
         "y": [
          null,
          null,
          null,
          null,
          null,
          null,
          null,
          null,
          null,
          null,
          10368413105.8433,
          1418581418.5814,
          0,
          1363942775.822,
          null
         ]
        },
        {
         "name": "Long-term investments",
         "type": "scatter",
         "x": [
          "2009-12-31",
          "2010-12-31",
          "2011-12-31",
          "2012-12-31",
          "2013-12-31",
          "2014-12-31",
          "2015-12-31",
          "2016-12-31",
          "2017-12-31",
          "2018-03-31",
          "2018-06-30",
          "2018-09-30",
          "2018-12-31",
          "2019-03-31",
          "2019-10-05"
         ],
         "y": [
          null,
          null,
          null,
          null,
          null,
          null,
          null,
          null,
          null,
          null,
          5049826362.6755,
          5199415968.6467,
          5263042042.7031,
          5243052954.8348,
          null
         ]
        },
        {
         "name": "Tax assets",
         "type": "scatter",
         "x": [
          "2009-12-31",
          "2010-12-31",
          "2011-12-31",
          "2012-12-31",
          "2013-12-31",
          "2014-12-31",
          "2015-12-31",
          "2016-12-31",
          "2017-12-31",
          "2018-03-31",
          "2018-06-30",
          "2018-09-30",
          "2018-12-31",
          "2019-03-31",
          "2019-10-05"
         ],
         "y": [
          null,
          null,
          null,
          null,
          null,
          null,
          null,
          null,
          null,
          null,
          null,
          null,
          null,
          null,
          null
         ]
        },
        {
         "name": "Total non-current assets",
         "type": "scatter",
         "x": [
          "2009-12-31",
          "2010-12-31",
          "2011-12-31",
          "2012-12-31",
          "2013-12-31",
          "2014-12-31",
          "2015-12-31",
          "2016-12-31",
          "2017-12-31",
          "2018-03-31",
          "2018-06-30",
          "2018-09-30",
          "2018-12-31",
          "2019-03-31",
          "2019-10-05"
         ],
         "y": [
          null,
          null,
          null,
          null,
          null,
          null,
          null,
          null,
          null,
          null,
          null,
          null,
          null,
          null,
          null
         ]
        },
        {
         "name": "Total assets",
         "type": "scatter",
         "x": [
          "2009-12-31",
          "2010-12-31",
          "2011-12-31",
          "2012-12-31",
          "2013-12-31",
          "2014-12-31",
          "2015-12-31",
          "2016-12-31",
          "2017-12-31",
          "2018-03-31",
          "2018-06-30",
          "2018-09-30",
          "2018-12-31",
          "2019-03-31",
          "2019-10-05"
         ],
         "y": [
          null,
          null,
          null,
          null,
          null,
          null,
          null,
          null,
          null,
          null,
          92583000000,
          94177000000,
          98598000000,
          99347000000,
          null
         ]
        },
        {
         "name": "Payables",
         "type": "scatter",
         "x": [
          "2009-12-31",
          "2010-12-31",
          "2011-12-31",
          "2012-12-31",
          "2013-12-31",
          "2014-12-31",
          "2015-12-31",
          "2016-12-31",
          "2017-12-31",
          "2018-03-31",
          "2018-06-30",
          "2018-09-30",
          "2018-12-31",
          "2019-03-31",
          "2019-10-05"
         ],
         "y": [
          null,
          null,
          null,
          null,
          null,
          null,
          null,
          null,
          null,
          null,
          3627000000,
          3883000000,
          3895000000,
          4249000000,
          null
         ]
        },
        {
         "name": "Short-term debt",
         "type": "scatter",
         "x": [
          "2009-12-31",
          "2010-12-31",
          "2011-12-31",
          "2012-12-31",
          "2013-12-31",
          "2014-12-31",
          "2015-12-31",
          "2016-12-31",
          "2017-12-31",
          "2018-03-31",
          "2018-06-30",
          "2018-09-30",
          "2018-12-31",
          "2019-03-31",
          "2019-10-05"
         ],
         "y": [
          null,
          null,
          null,
          null,
          null,
          null,
          null,
          null,
          null,
          null,
          2127434697.2671,
          1287942826.4044,
          2542372881.3559,
          1358699722.8672,
          null
         ]
        },
        {
         "name": "Total current liabilities",
         "type": "scatter",
         "x": [
          "2009-12-31",
          "2010-12-31",
          "2011-12-31",
          "2012-12-31",
          "2013-12-31",
          "2014-12-31",
          "2015-12-31",
          "2016-12-31",
          "2017-12-31",
          "2018-03-31",
          "2018-06-30",
          "2018-09-30",
          "2018-12-31",
          "2019-03-31",
          "2019-10-05"
         ],
         "y": [
          null,
          null,
          null,
          null,
          null,
          null,
          null,
          null,
          null,
          null,
          10431000000,
          10961000000,
          12946000000,
          13355000000,
          null
         ]
        },
        {
         "name": "Long-term debt",
         "type": "scatter",
         "x": [
          "2009-12-31",
          "2010-12-31",
          "2011-12-31",
          "2012-12-31",
          "2013-12-31",
          "2014-12-31",
          "2015-12-31",
          "2016-12-31",
          "2017-12-31",
          "2018-03-31",
          "2018-06-30",
          "2018-09-30",
          "2018-12-31",
          "2019-03-31",
          "2019-10-05"
         ],
         "y": [
          null,
          null,
          null,
          null,
          null,
          null,
          null,
          null,
          null,
          null,
          41867000000,
          42215000000,
          44017000000,
          43237000000,
          null
         ]
        },
        {
         "name": "Total debt",
         "type": "scatter",
         "x": [
          "2009-12-31",
          "2010-12-31",
          "2011-12-31",
          "2012-12-31",
          "2013-12-31",
          "2014-12-31",
          "2015-12-31",
          "2016-12-31",
          "2017-12-31",
          "2018-03-31",
          "2018-06-30",
          "2018-09-30",
          "2018-12-31",
          "2019-03-31",
          "2019-10-05"
         ],
         "y": [
          null,
          null,
          null,
          null,
          null,
          null,
          null,
          null,
          null,
          null,
          null,
          null,
          null,
          null,
          null
         ]
        },
        {
         "name": "Deferred revenue",
         "type": "scatter",
         "x": [
          "2009-12-31",
          "2010-12-31",
          "2011-12-31",
          "2012-12-31",
          "2013-12-31",
          "2014-12-31",
          "2015-12-31",
          "2016-12-31",
          "2017-12-31",
          "2018-03-31",
          "2018-06-30",
          "2018-09-30",
          "2018-12-31",
          "2019-03-31",
          "2019-10-05"
         ],
         "y": [
          null,
          null,
          null,
          null,
          null,
          null,
          null,
          null,
          null,
          null,
          null,
          null,
          null,
          null,
          null
         ]
        },
        {
         "name": "Tax Liabilities",
         "type": "scatter",
         "x": [
          "2009-12-31",
          "2010-12-31",
          "2011-12-31",
          "2012-12-31",
          "2013-12-31",
          "2014-12-31",
          "2015-12-31",
          "2016-12-31",
          "2017-12-31",
          "2018-03-31",
          "2018-06-30",
          "2018-09-30",
          "2018-12-31",
          "2019-03-31",
          "2019-10-05"
         ],
         "y": [
          null,
          null,
          null,
          null,
          null,
          null,
          null,
          null,
          null,
          null,
          null,
          null,
          null,
          null,
          null
         ]
        },
        {
         "name": "Deposit Liabilities",
         "type": "scatter",
         "x": [
          "2009-12-31",
          "2010-12-31",
          "2011-12-31",
          "2012-12-31",
          "2013-12-31",
          "2014-12-31",
          "2015-12-31",
          "2016-12-31",
          "2017-12-31",
          "2018-03-31",
          "2018-06-30",
          "2018-09-30",
          "2018-12-31",
          "2019-03-31",
          "2019-10-05"
         ],
         "y": [
          null,
          null,
          null,
          null,
          null,
          null,
          null,
          null,
          null,
          null,
          null,
          null,
          null,
          null,
          null
         ]
        },
        {
         "name": "Total non-current liabilities",
         "type": "scatter",
         "x": [
          "2009-12-31",
          "2010-12-31",
          "2011-12-31",
          "2012-12-31",
          "2013-12-31",
          "2014-12-31",
          "2015-12-31",
          "2016-12-31",
          "2017-12-31",
          "2018-03-31",
          "2018-06-30",
          "2018-09-30",
          "2018-12-31",
          "2019-03-31",
          "2019-10-05"
         ],
         "y": [
          null,
          null,
          null,
          null,
          null,
          null,
          null,
          null,
          null,
          null,
          null,
          null,
          null,
          null,
          null
         ]
        },
        {
         "name": "Total liabilities",
         "type": "scatter",
         "x": [
          "2009-12-31",
          "2010-12-31",
          "2011-12-31",
          "2012-12-31",
          "2013-12-31",
          "2014-12-31",
          "2015-12-31",
          "2016-12-31",
          "2017-12-31",
          "2018-03-31",
          "2018-06-30",
          "2018-09-30",
          "2018-12-31",
          "2019-03-31",
          "2019-10-05"
         ],
         "y": [
          null,
          null,
          null,
          null,
          null,
          null,
          null,
          null,
          null,
          null,
          63267000000,
          64240000000,
          67605000000,
          68050000000,
          null
         ]
        },
        {
         "name": "Other comprehensive income",
         "type": "scatter",
         "x": [
          "2009-12-31",
          "2010-12-31",
          "2011-12-31",
          "2012-12-31",
          "2013-12-31",
          "2014-12-31",
          "2015-12-31",
          "2016-12-31",
          "2017-12-31",
          "2018-03-31",
          "2018-06-30",
          "2018-09-30",
          "2018-12-31",
          "2019-03-31",
          "2019-10-05"
         ],
         "y": [
          null,
          null,
          null,
          null,
          null,
          null,
          null,
          null,
          null,
          null,
          null,
          null,
          null,
          null,
          null
         ]
        },
        {
         "name": "Retained earnings (deficit)",
         "type": "scatter",
         "x": [
          "2009-12-31",
          "2010-12-31",
          "2011-12-31",
          "2012-12-31",
          "2013-12-31",
          "2014-12-31",
          "2015-12-31",
          "2016-12-31",
          "2017-12-31",
          "2018-03-31",
          "2018-06-30",
          "2018-09-30",
          "2018-12-31",
          "2019-03-31",
          "2019-10-05"
         ],
         "y": [
          null,
          null,
          null,
          null,
          null,
          null,
          null,
          null,
          null,
          null,
          1577000000,
          1880000000,
          2397000000,
          2732000000,
          null
         ]
        },
        {
         "name": "Total shareholders equity",
         "type": "scatter",
         "x": [
          "2009-12-31",
          "2010-12-31",
          "2011-12-31",
          "2012-12-31",
          "2013-12-31",
          "2014-12-31",
          "2015-12-31",
          "2016-12-31",
          "2017-12-31",
          "2018-03-31",
          "2018-06-30",
          "2018-09-30",
          "2018-12-31",
          "2019-03-31",
          "2019-10-05"
         ],
         "y": [
          null,
          null,
          null,
          null,
          null,
          null,
          null,
          null,
          null,
          null,
          23283000000,
          23934000000,
          25358000000,
          25657000000,
          null
         ]
        },
        {
         "name": "Investments",
         "type": "scatter",
         "x": [
          "2009-12-31",
          "2010-12-31",
          "2011-12-31",
          "2012-12-31",
          "2013-12-31",
          "2014-12-31",
          "2015-12-31",
          "2016-12-31",
          "2017-12-31",
          "2018-03-31",
          "2018-06-30",
          "2018-09-30",
          "2018-12-31",
          "2019-03-31",
          "2019-10-05"
         ],
         "y": [
          null,
          null,
          null,
          null,
          null,
          null,
          null,
          null,
          null,
          null,
          -138909859.5803,
          -181357104.43400002,
          -42556313.7428,
          -18725189.1244,
          null
         ]
        },
        {
         "name": "Net Debt",
         "type": "scatter",
         "x": [
          "2009-12-31",
          "2010-12-31",
          "2011-12-31",
          "2012-12-31",
          "2013-12-31",
          "2014-12-31",
          "2015-12-31",
          "2016-12-31",
          "2017-12-31",
          "2018-03-31",
          "2018-06-30",
          "2018-09-30",
          "2018-12-31",
          "2019-03-31",
          "2019-10-05"
         ],
         "y": [
          null,
          null,
          null,
          null,
          null,
          null,
          null,
          null,
          null,
          null,
          42809171221.5008,
          42656865826.4812,
          46113372881.3559,
          43942565126.2078,
          null
         ]
        },
        {
         "name": "Other Assets",
         "type": "scatter",
         "x": [
          "2009-12-31",
          "2010-12-31",
          "2011-12-31",
          "2012-12-31",
          "2013-12-31",
          "2014-12-31",
          "2015-12-31",
          "2016-12-31",
          "2017-12-31",
          "2018-03-31",
          "2018-06-30",
          "2018-09-30",
          "2018-12-31",
          "2019-03-31",
          "2019-10-05"
         ],
         "y": [
          null,
          null,
          null,
          null,
          null,
          null,
          null,
          null,
          null,
          null,
          1730736524.2337,
          1715923000.0768,
          1564000000,
          1630865403.3406,
          null
         ]
        },
        {
         "name": "Other Liabilities",
         "type": "scatter",
         "x": [
          "2009-12-31",
          "2010-12-31",
          "2011-12-31",
          "2012-12-31",
          "2013-12-31",
          "2014-12-31",
          "2015-12-31",
          "2016-12-31",
          "2017-12-31",
          "2018-03-31",
          "2018-06-30",
          "2018-09-30",
          "2018-12-31",
          "2019-03-31",
          "2019-10-05"
         ],
         "y": [
          null,
          null,
          null,
          null,
          null,
          null,
          null,
          null,
          null,
          null,
          4676565302.7329,
          5790057173.5956,
          6508627118.6441,
          7747300277.1328,
          null
         ]
        },
        {
         "name": "date_y",
         "type": "scatter",
         "x": [
          "2009-12-31",
          "2010-12-31",
          "2011-12-31",
          "2012-12-31",
          "2013-12-31",
          "2014-12-31",
          "2015-12-31",
          "2016-12-31",
          "2017-12-31",
          "2018-03-31",
          "2018-06-30",
          "2018-09-30",
          "2018-12-31",
          "2019-03-31",
          "2019-10-05"
         ],
         "y": [
          null,
          null,
          null,
          null,
          null,
          null,
          null,
          null,
          null,
          "2018-03-31",
          "2018-06-30",
          "2018-09-30",
          "2018-12-31",
          "2019-03-31",
          null
         ]
        },
        {
         "name": "Depreciation & Amortization",
         "type": "scatter",
         "x": [
          "2009-12-31",
          "2010-12-31",
          "2011-12-31",
          "2012-12-31",
          "2013-12-31",
          "2014-12-31",
          "2015-12-31",
          "2016-12-31",
          "2017-12-31",
          "2018-03-31",
          "2018-06-30",
          "2018-09-30",
          "2018-12-31",
          "2019-03-31",
          "2019-10-05"
         ],
         "y": [
          null,
          null,
          null,
          null,
          null,
          null,
          null,
          null,
          null,
          535000000,
          1105000000,
          564000000,
          681000000,
          608000000,
          null
         ]
        },
        {
         "name": "Stock-based compensation",
         "type": "scatter",
         "x": [
          "2009-12-31",
          "2010-12-31",
          "2011-12-31",
          "2012-12-31",
          "2013-12-31",
          "2014-12-31",
          "2015-12-31",
          "2016-12-31",
          "2017-12-31",
          "2018-03-31",
          "2018-06-30",
          "2018-09-30",
          "2018-12-31",
          "2019-03-31",
          "2019-10-05"
         ],
         "y": [
          null,
          null,
          null,
          null,
          null,
          null,
          null,
          null,
          null,
          null,
          null,
          null,
          null,
          null,
          null
         ]
        },
        {
         "name": "Operating Cash Flow",
         "type": "scatter",
         "x": [
          "2009-12-31",
          "2010-12-31",
          "2011-12-31",
          "2012-12-31",
          "2013-12-31",
          "2014-12-31",
          "2015-12-31",
          "2016-12-31",
          "2017-12-31",
          "2018-03-31",
          "2018-06-30",
          "2018-09-30",
          "2018-12-31",
          "2019-03-31",
          "2019-10-05"
         ],
         "y": [
          null,
          null,
          null,
          null,
          null,
          null,
          null,
          null,
          null,
          1412000000,
          3217000000,
          4516000000,
          6676000000,
          1949000000,
          null
         ]
        },
        {
         "name": "Capital Expenditure",
         "type": "scatter",
         "x": [
          "2009-12-31",
          "2010-12-31",
          "2011-12-31",
          "2012-12-31",
          "2013-12-31",
          "2014-12-31",
          "2015-12-31",
          "2016-12-31",
          "2017-12-31",
          "2018-03-31",
          "2018-06-30",
          "2018-09-30",
          "2018-12-31",
          "2019-03-31",
          "2019-10-05"
         ],
         "y": [
          null,
          null,
          null,
          null,
          null,
          null,
          null,
          null,
          null,
          -1738000000,
          -4151000000,
          -6713000000,
          -9914000000,
          -2186000000,
          null
         ]
        },
        {
         "name": "Acquisitions and disposals",
         "type": "scatter",
         "x": [
          "2009-12-31",
          "2010-12-31",
          "2011-12-31",
          "2012-12-31",
          "2013-12-31",
          "2014-12-31",
          "2015-12-31",
          "2016-12-31",
          "2017-12-31",
          "2018-03-31",
          "2018-06-30",
          "2018-09-30",
          "2018-12-31",
          "2019-03-31",
          "2019-10-05"
         ],
         "y": [
          null,
          null,
          null,
          null,
          null,
          null,
          null,
          null,
          null,
          null,
          null,
          null,
          null,
          null,
          null
         ]
        },
        {
         "name": "Investment purchases and sales",
         "type": "scatter",
         "x": [
          "2009-12-31",
          "2010-12-31",
          "2011-12-31",
          "2012-12-31",
          "2013-12-31",
          "2014-12-31",
          "2015-12-31",
          "2016-12-31",
          "2017-12-31",
          "2018-03-31",
          "2018-06-30",
          "2018-09-30",
          "2018-12-31",
          "2019-03-31",
          "2019-10-05"
         ],
         "y": [
          null,
          null,
          null,
          null,
          null,
          null,
          null,
          null,
          null,
          null,
          null,
          null,
          null,
          null,
          null
         ]
        },
        {
         "name": "Investing Cash flow",
         "type": "scatter",
         "x": [
          "2009-12-31",
          "2010-12-31",
          "2011-12-31",
          "2012-12-31",
          "2013-12-31",
          "2014-12-31",
          "2015-12-31",
          "2016-12-31",
          "2017-12-31",
          "2018-03-31",
          "2018-06-30",
          "2018-09-30",
          "2018-12-31",
          "2019-03-31",
          "2019-10-05"
         ],
         "y": [
          null,
          null,
          null,
          null,
          null,
          null,
          null,
          null,
          null,
          -1865000000,
          -4478000000,
          -7292000000,
          -10140000000,
          -2237000000,
          null
         ]
        },
        {
         "name": "Issuance (repayment) of debt",
         "type": "scatter",
         "x": [
          "2009-12-31",
          "2010-12-31",
          "2011-12-31",
          "2012-12-31",
          "2013-12-31",
          "2014-12-31",
          "2015-12-31",
          "2016-12-31",
          "2017-12-31",
          "2018-03-31",
          "2018-06-30",
          "2018-09-30",
          "2018-12-31",
          "2019-03-31",
          "2019-10-05"
         ],
         "y": [
          null,
          null,
          null,
          null,
          null,
          null,
          null,
          null,
          null,
          null,
          834214102.3705,
          933681702.9125,
          371267150.9282,
          874840835.8924,
          null
         ]
        },
        {
         "name": "Issuance (buybacks) of shares",
         "type": "scatter",
         "x": [
          "2009-12-31",
          "2010-12-31",
          "2011-12-31",
          "2012-12-31",
          "2013-12-31",
          "2014-12-31",
          "2015-12-31",
          "2016-12-31",
          "2017-12-31",
          "2018-03-31",
          "2018-06-30",
          "2018-09-30",
          "2018-12-31",
          "2019-03-31",
          "2019-10-05"
         ],
         "y": [
          null,
          null,
          null,
          null,
          null,
          null,
          null,
          null,
          null,
          null,
          0,
          0,
          0,
          50932514.4184,
          null
         ]
        },
        {
         "name": "Dividend payments",
         "type": "scatter",
         "x": [
          "2009-12-31",
          "2010-12-31",
          "2011-12-31",
          "2012-12-31",
          "2013-12-31",
          "2014-12-31",
          "2015-12-31",
          "2016-12-31",
          "2017-12-31",
          "2018-03-31",
          "2018-06-30",
          "2018-09-30",
          "2018-12-31",
          "2019-03-31",
          "2019-10-05"
         ],
         "y": [
          null,
          null,
          null,
          null,
          null,
          null,
          null,
          null,
          null,
          null,
          -316321908.5007,
          -350418811.9573,
          -335314403.111,
          -343794472.3242,
          null
         ]
        },
        {
         "name": "Financing Cash Flow",
         "type": "scatter",
         "x": [
          "2009-12-31",
          "2010-12-31",
          "2011-12-31",
          "2012-12-31",
          "2013-12-31",
          "2014-12-31",
          "2015-12-31",
          "2016-12-31",
          "2017-12-31",
          "2018-03-31",
          "2018-06-30",
          "2018-09-30",
          "2018-12-31",
          "2019-03-31",
          "2019-10-05"
         ],
         "y": [
          null,
          null,
          null,
          null,
          null,
          null,
          null,
          null,
          null,
          602000000,
          1685000000,
          2741000000,
          2748000000,
          721000000,
          null
         ]
        },
        {
         "name": "Effect of forex changes on cash",
         "type": "scatter",
         "x": [
          "2009-12-31",
          "2010-12-31",
          "2011-12-31",
          "2012-12-31",
          "2013-12-31",
          "2014-12-31",
          "2015-12-31",
          "2016-12-31",
          "2017-12-31",
          "2018-03-31",
          "2018-06-30",
          "2018-09-30",
          "2018-12-31",
          "2019-03-31",
          "2019-10-05"
         ],
         "y": [
          null,
          null,
          null,
          null,
          null,
          null,
          null,
          null,
          null,
          29000000,
          57000000,
          47000000,
          73000000,
          -7000000,
          null
         ]
        },
        {
         "name": "Net cash flow / Change in cash",
         "type": "scatter",
         "x": [
          "2009-12-31",
          "2010-12-31",
          "2011-12-31",
          "2012-12-31",
          "2013-12-31",
          "2014-12-31",
          "2015-12-31",
          "2016-12-31",
          "2017-12-31",
          "2018-03-31",
          "2018-06-30",
          "2018-09-30",
          "2018-12-31",
          "2019-03-31",
          "2019-10-05"
         ],
         "y": [
          null,
          null,
          null,
          null,
          null,
          null,
          null,
          null,
          null,
          178000000,
          481000000,
          12000000,
          -643000000,
          426000000,
          null
         ]
        },
        {
         "name": "Free Cash Flow",
         "type": "scatter",
         "x": [
          "2009-12-31",
          "2010-12-31",
          "2011-12-31",
          "2012-12-31",
          "2013-12-31",
          "2014-12-31",
          "2015-12-31",
          "2016-12-31",
          "2017-12-31",
          "2018-03-31",
          "2018-06-30",
          "2018-09-30",
          "2018-12-31",
          "2019-03-31",
          "2019-10-05"
         ],
         "y": [
          null,
          null,
          null,
          null,
          null,
          null,
          null,
          null,
          null,
          null,
          null,
          null,
          null,
          null,
          null
         ]
        },
        {
         "name": "Net Cash/Marketcap",
         "type": "scatter",
         "x": [
          "2009-12-31",
          "2010-12-31",
          "2011-12-31",
          "2012-12-31",
          "2013-12-31",
          "2014-12-31",
          "2015-12-31",
          "2016-12-31",
          "2017-12-31",
          "2018-03-31",
          "2018-06-30",
          "2018-09-30",
          "2018-12-31",
          "2019-03-31",
          "2019-10-05"
         ],
         "y": [
          null,
          null,
          null,
          null,
          null,
          null,
          null,
          null,
          null,
          -1.115,
          -1.115,
          -1.1276,
          -1.4071,
          -1.0375,
          null
         ]
        },
        {
         "name": "date_x.1",
         "type": "scatter",
         "x": [
          "2009-12-31",
          "2010-12-31",
          "2011-12-31",
          "2012-12-31",
          "2013-12-31",
          "2014-12-31",
          "2015-12-31",
          "2016-12-31",
          "2017-12-31",
          "2018-03-31",
          "2018-06-30",
          "2018-09-30",
          "2018-12-31",
          "2019-03-31",
          "2019-10-05"
         ],
         "y": [
          null,
          null,
          null,
          null,
          null,
          null,
          null,
          null,
          null,
          null,
          "2018-06-30",
          "2018-09-30",
          "2018-12-31",
          "2019-03-31",
          null
         ]
        },
        {
         "name": "Stock Price_x",
         "type": "scatter",
         "x": [
          "2009-12-31",
          "2010-12-31",
          "2011-12-31",
          "2012-12-31",
          "2013-12-31",
          "2014-12-31",
          "2015-12-31",
          "2016-12-31",
          "2017-12-31",
          "2018-03-31",
          "2018-06-30",
          "2018-09-30",
          "2018-12-31",
          "2019-03-31",
          "2019-10-05"
         ],
         "y": [
          null,
          null,
          null,
          null,
          null,
          null,
          null,
          null,
          null,
          null,
          40.8189,
          40.3076,
          35.2597,
          45.84,
          null
         ]
        },
        {
         "name": "Number of Shares",
         "type": "scatter",
         "x": [
          "2009-12-31",
          "2010-12-31",
          "2011-12-31",
          "2012-12-31",
          "2013-12-31",
          "2014-12-31",
          "2015-12-31",
          "2016-12-31",
          "2017-12-31",
          "2018-03-31",
          "2018-06-30",
          "2018-09-30",
          "2018-12-31",
          "2019-03-31",
          "2019-10-05"
         ],
         "y": [
          null,
          null,
          null,
          null,
          null,
          null,
          null,
          null,
          null,
          null,
          null,
          null,
          null,
          null,
          null
         ]
        },
        {
         "name": "Market Capitalization",
         "type": "scatter",
         "x": [
          "2009-12-31",
          "2010-12-31",
          "2011-12-31",
          "2012-12-31",
          "2013-12-31",
          "2014-12-31",
          "2015-12-31",
          "2016-12-31",
          "2017-12-31",
          "2018-03-31",
          "2018-06-30",
          "2018-09-30",
          "2018-12-31",
          "2019-03-31",
          "2019-10-05"
         ],
         "y": [
          null,
          null,
          null,
          null,
          null,
          null,
          null,
          null,
          null,
          null,
          0,
          0,
          0,
          0,
          null
         ]
        },
        {
         "name": "- Cash & Cash Equivalents",
         "type": "scatter",
         "x": [
          "2009-12-31",
          "2010-12-31",
          "2011-12-31",
          "2012-12-31",
          "2013-12-31",
          "2014-12-31",
          "2015-12-31",
          "2016-12-31",
          "2017-12-31",
          "2018-03-31",
          "2018-06-30",
          "2018-09-30",
          "2018-12-31",
          "2019-03-31",
          "2019-10-05"
         ],
         "y": [
          null,
          null,
          null,
          null,
          null,
          null,
          null,
          null,
          null,
          null,
          1185263475.7663,
          846076999.9232,
          446000000,
          653134596.6594,
          null
         ]
        },
        {
         "name": "+ Total Debt",
         "type": "scatter",
         "x": [
          "2009-12-31",
          "2010-12-31",
          "2011-12-31",
          "2012-12-31",
          "2013-12-31",
          "2014-12-31",
          "2015-12-31",
          "2016-12-31",
          "2017-12-31",
          "2018-03-31",
          "2018-06-30",
          "2018-09-30",
          "2018-12-31",
          "2019-03-31",
          "2019-10-05"
         ],
         "y": [
          null,
          null,
          null,
          null,
          null,
          null,
          null,
          null,
          null,
          null,
          43994434697.2671,
          43502942826.4044,
          46559372881.355896,
          44595699722.8672,
          null
         ]
        },
        {
         "name": "Enterprise Value_x",
         "type": "scatter",
         "x": [
          "2009-12-31",
          "2010-12-31",
          "2011-12-31",
          "2012-12-31",
          "2013-12-31",
          "2014-12-31",
          "2015-12-31",
          "2016-12-31",
          "2017-12-31",
          "2018-03-31",
          "2018-06-30",
          "2018-09-30",
          "2018-12-31",
          "2019-03-31",
          "2019-10-05"
         ],
         "y": [
          null,
          null,
          null,
          null,
          null,
          null,
          null,
          null,
          null,
          null,
          42809171221.5008,
          42656865826.4812,
          46113372881.355896,
          43942565126.2078,
          null
         ]
        },
        {
         "name": "date_y.1",
         "type": "scatter",
         "x": [
          "2009-12-31",
          "2010-12-31",
          "2011-12-31",
          "2012-12-31",
          "2013-12-31",
          "2014-12-31",
          "2015-12-31",
          "2016-12-31",
          "2017-12-31",
          "2018-03-31",
          "2018-06-30",
          "2018-09-30",
          "2018-12-31",
          "2019-03-31",
          "2019-10-05"
         ],
         "y": [
          null,
          null,
          null,
          null,
          null,
          null,
          null,
          null,
          null,
          null,
          "2018-06-30",
          "2018-09-30",
          "2018-12-31",
          "2019-03-31",
          "2019-10-05"
         ]
        },
        {
         "name": "Stock Price_y",
         "type": "scatter",
         "x": [
          "2009-12-31",
          "2010-12-31",
          "2011-12-31",
          "2012-12-31",
          "2013-12-31",
          "2014-12-31",
          "2015-12-31",
          "2016-12-31",
          "2017-12-31",
          "2018-03-31",
          "2018-06-30",
          "2018-09-30",
          "2018-12-31",
          "2019-03-31",
          "2019-10-05"
         ],
         "y": [
          null,
          null,
          null,
          null,
          null,
          null,
          null,
          null,
          null,
          null,
          40.8189,
          40.3076,
          35.2597,
          45.84,
          51.405
         ]
        },
        {
         "name": "DCF",
         "type": "scatter",
         "x": [
          "2009-12-31",
          "2010-12-31",
          "2011-12-31",
          "2012-12-31",
          "2013-12-31",
          "2014-12-31",
          "2015-12-31",
          "2016-12-31",
          "2017-12-31",
          "2018-03-31",
          "2018-06-30",
          "2018-09-30",
          "2018-12-31",
          "2019-03-31",
          "2019-10-05"
         ],
         "y": [
          null,
          null,
          null,
          null,
          null,
          null,
          null,
          null,
          null,
          null,
          0,
          0,
          0,
          0,
          51.405
         ]
        },
        {
         "name": "date",
         "type": "scatter",
         "x": [
          "2009-12-31",
          "2010-12-31",
          "2011-12-31",
          "2012-12-31",
          "2013-12-31",
          "2014-12-31",
          "2015-12-31",
          "2016-12-31",
          "2017-12-31",
          "2018-03-31",
          "2018-06-30",
          "2018-09-30",
          "2018-12-31",
          "2019-03-31",
          "2019-10-05"
         ],
         "y": [
          null,
          null,
          null,
          null,
          null,
          null,
          null,
          null,
          null,
          "2018-03-31",
          "2018-06-30",
          "2018-09-30",
          "2018-12-31",
          "2019-03-31",
          null
         ]
        },
        {
         "name": "Revenue per Share",
         "type": "scatter",
         "x": [
          "2009-12-31",
          "2010-12-31",
          "2011-12-31",
          "2012-12-31",
          "2013-12-31",
          "2014-12-31",
          "2015-12-31",
          "2016-12-31",
          "2017-12-31",
          "2018-03-31",
          "2018-06-30",
          "2018-09-30",
          "2018-12-31",
          "2019-03-31",
          "2019-10-05"
         ],
         "y": [
          null,
          null,
          null,
          null,
          null,
          null,
          null,
          null,
          null,
          null,
          null,
          null,
          null,
          null,
          null
         ]
        },
        {
         "name": "Net Income per Share",
         "type": "scatter",
         "x": [
          "2009-12-31",
          "2010-12-31",
          "2011-12-31",
          "2012-12-31",
          "2013-12-31",
          "2014-12-31",
          "2015-12-31",
          "2016-12-31",
          "2017-12-31",
          "2018-03-31",
          "2018-06-30",
          "2018-09-30",
          "2018-12-31",
          "2019-03-31",
          "2019-10-05"
         ],
         "y": [
          null,
          null,
          null,
          null,
          null,
          null,
          null,
          null,
          null,
          null,
          null,
          null,
          null,
          null,
          null
         ]
        },
        {
         "name": "Operating Cash Flow per Share",
         "type": "scatter",
         "x": [
          "2009-12-31",
          "2010-12-31",
          "2011-12-31",
          "2012-12-31",
          "2013-12-31",
          "2014-12-31",
          "2015-12-31",
          "2016-12-31",
          "2017-12-31",
          "2018-03-31",
          "2018-06-30",
          "2018-09-30",
          "2018-12-31",
          "2019-03-31",
          "2019-10-05"
         ],
         "y": [
          null,
          null,
          null,
          null,
          null,
          null,
          null,
          null,
          null,
          null,
          null,
          null,
          null,
          null,
          null
         ]
        },
        {
         "name": "Free Cash Flow per Share",
         "type": "scatter",
         "x": [
          "2009-12-31",
          "2010-12-31",
          "2011-12-31",
          "2012-12-31",
          "2013-12-31",
          "2014-12-31",
          "2015-12-31",
          "2016-12-31",
          "2017-12-31",
          "2018-03-31",
          "2018-06-30",
          "2018-09-30",
          "2018-12-31",
          "2019-03-31",
          "2019-10-05"
         ],
         "y": [
          null,
          null,
          null,
          null,
          null,
          null,
          null,
          null,
          null,
          null,
          null,
          null,
          null,
          null,
          null
         ]
        },
        {
         "name": "Cash per Share",
         "type": "scatter",
         "x": [
          "2009-12-31",
          "2010-12-31",
          "2011-12-31",
          "2012-12-31",
          "2013-12-31",
          "2014-12-31",
          "2015-12-31",
          "2016-12-31",
          "2017-12-31",
          "2018-03-31",
          "2018-06-30",
          "2018-09-30",
          "2018-12-31",
          "2019-03-31",
          "2019-10-05"
         ],
         "y": [
          null,
          null,
          null,
          null,
          null,
          null,
          null,
          null,
          null,
          null,
          null,
          null,
          null,
          null,
          null
         ]
        },
        {
         "name": "Book Value per Share",
         "type": "scatter",
         "x": [
          "2009-12-31",
          "2010-12-31",
          "2011-12-31",
          "2012-12-31",
          "2013-12-31",
          "2014-12-31",
          "2015-12-31",
          "2016-12-31",
          "2017-12-31",
          "2018-03-31",
          "2018-06-30",
          "2018-09-30",
          "2018-12-31",
          "2019-03-31",
          "2019-10-05"
         ],
         "y": [
          null,
          null,
          null,
          null,
          null,
          null,
          null,
          null,
          null,
          null,
          null,
          null,
          null,
          null,
          null
         ]
        },
        {
         "name": "Tangible Book Value per Share",
         "type": "scatter",
         "x": [
          "2009-12-31",
          "2010-12-31",
          "2011-12-31",
          "2012-12-31",
          "2013-12-31",
          "2014-12-31",
          "2015-12-31",
          "2016-12-31",
          "2017-12-31",
          "2018-03-31",
          "2018-06-30",
          "2018-09-30",
          "2018-12-31",
          "2019-03-31",
          "2019-10-05"
         ],
         "y": [
          null,
          null,
          null,
          null,
          null,
          null,
          null,
          null,
          null,
          null,
          null,
          null,
          null,
          null,
          null
         ]
        },
        {
         "name": "Shareholders Equity per Share",
         "type": "scatter",
         "x": [
          "2009-12-31",
          "2010-12-31",
          "2011-12-31",
          "2012-12-31",
          "2013-12-31",
          "2014-12-31",
          "2015-12-31",
          "2016-12-31",
          "2017-12-31",
          "2018-03-31",
          "2018-06-30",
          "2018-09-30",
          "2018-12-31",
          "2019-03-31",
          "2019-10-05"
         ],
         "y": [
          null,
          null,
          null,
          null,
          null,
          null,
          null,
          null,
          null,
          null,
          null,
          null,
          null,
          null,
          null
         ]
        },
        {
         "name": "Interest Debt per Share",
         "type": "scatter",
         "x": [
          "2009-12-31",
          "2010-12-31",
          "2011-12-31",
          "2012-12-31",
          "2013-12-31",
          "2014-12-31",
          "2015-12-31",
          "2016-12-31",
          "2017-12-31",
          "2018-03-31",
          "2018-06-30",
          "2018-09-30",
          "2018-12-31",
          "2019-03-31",
          "2019-10-05"
         ],
         "y": [
          null,
          null,
          null,
          null,
          null,
          null,
          null,
          null,
          null,
          null,
          null,
          null,
          null,
          null,
          null
         ]
        },
        {
         "name": "Market Cap",
         "type": "scatter",
         "x": [
          "2009-12-31",
          "2010-12-31",
          "2011-12-31",
          "2012-12-31",
          "2013-12-31",
          "2014-12-31",
          "2015-12-31",
          "2016-12-31",
          "2017-12-31",
          "2018-03-31",
          "2018-06-30",
          "2018-09-30",
          "2018-12-31",
          "2019-03-31",
          "2019-10-05"
         ],
         "y": [
          null,
          null,
          null,
          null,
          null,
          null,
          null,
          null,
          null,
          32772600000,
          38392880000,
          37830460000,
          32772600000,
          42356160000,
          null
         ]
        },
        {
         "name": "Enterprise Value_y",
         "type": "scatter",
         "x": [
          "2009-12-31",
          "2010-12-31",
          "2011-12-31",
          "2012-12-31",
          "2013-12-31",
          "2014-12-31",
          "2015-12-31",
          "2016-12-31",
          "2017-12-31",
          "2018-03-31",
          "2018-06-30",
          "2018-09-30",
          "2018-12-31",
          "2019-03-31",
          "2019-10-05"
         ],
         "y": [
          null,
          null,
          null,
          null,
          null,
          null,
          null,
          null,
          null,
          null,
          null,
          null,
          null,
          null,
          null
         ]
        },
        {
         "name": "PE ratio",
         "type": "scatter",
         "x": [
          "2009-12-31",
          "2010-12-31",
          "2011-12-31",
          "2012-12-31",
          "2013-12-31",
          "2014-12-31",
          "2015-12-31",
          "2016-12-31",
          "2017-12-31",
          "2018-03-31",
          "2018-06-30",
          "2018-09-30",
          "2018-12-31",
          "2019-03-31",
          "2019-10-05"
         ],
         "y": [
          null,
          null,
          null,
          null,
          null,
          null,
          null,
          null,
          null,
          14.9465,
          15.7162,
          15.3166,
          12.2947,
          15.7868,
          null
         ]
        },
        {
         "name": "Price to Sales Ratio",
         "type": "scatter",
         "x": [
          "2009-12-31",
          "2010-12-31",
          "2011-12-31",
          "2012-12-31",
          "2013-12-31",
          "2014-12-31",
          "2015-12-31",
          "2016-12-31",
          "2017-12-31",
          "2018-03-31",
          "2018-06-30",
          "2018-09-30",
          "2018-12-31",
          "2019-03-31",
          "2019-10-05"
         ],
         "y": [
          null,
          null,
          null,
          null,
          null,
          null,
          null,
          null,
          null,
          2.594,
          2.3002,
          2.6583,
          2.3002,
          2.9536,
          null
         ]
        },
        {
         "name": "POCF ratio",
         "type": "scatter",
         "x": [
          "2009-12-31",
          "2010-12-31",
          "2011-12-31",
          "2012-12-31",
          "2013-12-31",
          "2014-12-31",
          "2015-12-31",
          "2016-12-31",
          "2017-12-31",
          "2018-03-31",
          "2018-06-30",
          "2018-09-30",
          "2018-12-31",
          "2019-03-31",
          "2019-10-05"
         ],
         "y": [
          null,
          null,
          null,
          null,
          null,
          null,
          null,
          null,
          null,
          6.7495,
          6.7495,
          6.7495,
          6.7495,
          8.7232,
          null
         ]
        },
        {
         "name": "PFCF ratio",
         "type": "scatter",
         "x": [
          "2009-12-31",
          "2010-12-31",
          "2011-12-31",
          "2012-12-31",
          "2013-12-31",
          "2014-12-31",
          "2015-12-31",
          "2016-12-31",
          "2017-12-31",
          "2018-03-31",
          "2018-06-30",
          "2018-09-30",
          "2018-12-31",
          "2019-03-31",
          "2019-10-05"
         ],
         "y": [
          null,
          null,
          null,
          null,
          null,
          null,
          null,
          null,
          null,
          0,
          0,
          0,
          0,
          0,
          null
         ]
        },
        {
         "name": "PB ratio",
         "type": "scatter",
         "x": [
          "2009-12-31",
          "2010-12-31",
          "2011-12-31",
          "2012-12-31",
          "2013-12-31",
          "2014-12-31",
          "2015-12-31",
          "2016-12-31",
          "2017-12-31",
          "2018-03-31",
          "2018-06-30",
          "2018-09-30",
          "2018-12-31",
          "2019-03-31",
          "2019-10-05"
         ],
         "y": [
          null,
          null,
          null,
          null,
          null,
          null,
          null,
          null,
          null,
          null,
          null,
          null,
          null,
          null,
          null
         ]
        },
        {
         "name": "PTB ratio",
         "type": "scatter",
         "x": [
          "2009-12-31",
          "2010-12-31",
          "2011-12-31",
          "2012-12-31",
          "2013-12-31",
          "2014-12-31",
          "2015-12-31",
          "2016-12-31",
          "2017-12-31",
          "2018-03-31",
          "2018-06-30",
          "2018-09-30",
          "2018-12-31",
          "2019-03-31",
          "2019-10-05"
         ],
         "y": [
          null,
          null,
          null,
          null,
          null,
          null,
          null,
          null,
          null,
          null,
          null,
          null,
          null,
          null,
          null
         ]
        },
        {
         "name": "EV to Sales",
         "type": "scatter",
         "x": [
          "2009-12-31",
          "2010-12-31",
          "2011-12-31",
          "2012-12-31",
          "2013-12-31",
          "2014-12-31",
          "2015-12-31",
          "2016-12-31",
          "2017-12-31",
          "2018-03-31",
          "2018-06-30",
          "2018-09-30",
          "2018-12-31",
          "2019-03-31",
          "2019-10-05"
         ],
         "y": [
          null,
          null,
          null,
          null,
          null,
          null,
          null,
          null,
          null,
          null,
          null,
          null,
          null,
          null,
          null
         ]
        },
        {
         "name": "Enterprise Value over EBITDA",
         "type": "scatter",
         "x": [
          "2009-12-31",
          "2010-12-31",
          "2011-12-31",
          "2012-12-31",
          "2013-12-31",
          "2014-12-31",
          "2015-12-31",
          "2016-12-31",
          "2017-12-31",
          "2018-03-31",
          "2018-06-30",
          "2018-09-30",
          "2018-12-31",
          "2019-03-31",
          "2019-10-05"
         ],
         "y": [
          null,
          null,
          null,
          null,
          null,
          null,
          null,
          null,
          null,
          null,
          null,
          null,
          null,
          null,
          null
         ]
        },
        {
         "name": "EV to Operating cash flow",
         "type": "scatter",
         "x": [
          "2009-12-31",
          "2010-12-31",
          "2011-12-31",
          "2012-12-31",
          "2013-12-31",
          "2014-12-31",
          "2015-12-31",
          "2016-12-31",
          "2017-12-31",
          "2018-03-31",
          "2018-06-30",
          "2018-09-30",
          "2018-12-31",
          "2019-03-31",
          "2019-10-05"
         ],
         "y": [
          null,
          null,
          null,
          null,
          null,
          null,
          null,
          null,
          null,
          null,
          null,
          null,
          null,
          null,
          null
         ]
        },
        {
         "name": "EV to Free cash flow",
         "type": "scatter",
         "x": [
          "2009-12-31",
          "2010-12-31",
          "2011-12-31",
          "2012-12-31",
          "2013-12-31",
          "2014-12-31",
          "2015-12-31",
          "2016-12-31",
          "2017-12-31",
          "2018-03-31",
          "2018-06-30",
          "2018-09-30",
          "2018-12-31",
          "2019-03-31",
          "2019-10-05"
         ],
         "y": [
          null,
          null,
          null,
          null,
          null,
          null,
          null,
          null,
          null,
          null,
          null,
          null,
          null,
          null,
          null
         ]
        },
        {
         "name": "Earnings Yield",
         "type": "scatter",
         "x": [
          "2009-12-31",
          "2010-12-31",
          "2011-12-31",
          "2012-12-31",
          "2013-12-31",
          "2014-12-31",
          "2015-12-31",
          "2016-12-31",
          "2017-12-31",
          "2018-03-31",
          "2018-06-30",
          "2018-09-30",
          "2018-12-31",
          "2019-03-31",
          "2019-10-05"
         ],
         "y": [
          null,
          null,
          null,
          null,
          null,
          null,
          null,
          null,
          null,
          0.0669,
          0.0636,
          0.0813,
          0.0813,
          0.0633,
          null
         ]
        },
        {
         "name": "Free Cash Flow Yield",
         "type": "scatter",
         "x": [
          "2009-12-31",
          "2010-12-31",
          "2011-12-31",
          "2012-12-31",
          "2013-12-31",
          "2014-12-31",
          "2015-12-31",
          "2016-12-31",
          "2017-12-31",
          "2018-03-31",
          "2018-06-30",
          "2018-09-30",
          "2018-12-31",
          "2019-03-31",
          "2019-10-05"
         ],
         "y": [
          null,
          null,
          null,
          null,
          null,
          null,
          null,
          null,
          null,
          -0.0653,
          -0.0653,
          -0.0653,
          -0.0653,
          -0.0505,
          null
         ]
        },
        {
         "name": "Debt to Equity",
         "type": "scatter",
         "x": [
          "2009-12-31",
          "2010-12-31",
          "2011-12-31",
          "2012-12-31",
          "2013-12-31",
          "2014-12-31",
          "2015-12-31",
          "2016-12-31",
          "2017-12-31",
          "2018-03-31",
          "2018-06-30",
          "2018-09-30",
          "2018-12-31",
          "2019-03-31",
          "2019-10-05"
         ],
         "y": [
          null,
          null,
          null,
          null,
          null,
          null,
          null,
          null,
          null,
          null,
          null,
          null,
          null,
          null,
          null
         ]
        },
        {
         "name": "Debt to Assets",
         "type": "scatter",
         "x": [
          "2009-12-31",
          "2010-12-31",
          "2011-12-31",
          "2012-12-31",
          "2013-12-31",
          "2014-12-31",
          "2015-12-31",
          "2016-12-31",
          "2017-12-31",
          "2018-03-31",
          "2018-06-30",
          "2018-09-30",
          "2018-12-31",
          "2019-03-31",
          "2019-10-05"
         ],
         "y": [
          null,
          null,
          null,
          null,
          null,
          null,
          null,
          null,
          null,
          null,
          null,
          null,
          null,
          null,
          null
         ]
        },
        {
         "name": "Net Debt to EBITDA",
         "type": "scatter",
         "x": [
          "2009-12-31",
          "2010-12-31",
          "2011-12-31",
          "2012-12-31",
          "2013-12-31",
          "2014-12-31",
          "2015-12-31",
          "2016-12-31",
          "2017-12-31",
          "2018-03-31",
          "2018-06-30",
          "2018-09-30",
          "2018-12-31",
          "2019-03-31",
          "2019-10-05"
         ],
         "y": [
          null,
          null,
          null,
          null,
          null,
          null,
          null,
          null,
          null,
          null,
          null,
          null,
          null,
          null,
          null
         ]
        },
        {
         "name": "Current ratio",
         "type": "scatter",
         "x": [
          "2009-12-31",
          "2010-12-31",
          "2011-12-31",
          "2012-12-31",
          "2013-12-31",
          "2014-12-31",
          "2015-12-31",
          "2016-12-31",
          "2017-12-31",
          "2018-03-31",
          "2018-06-30",
          "2018-09-30",
          "2018-12-31",
          "2019-03-31",
          "2019-10-05"
         ],
         "y": [
          null,
          null,
          null,
          null,
          null,
          null,
          null,
          null,
          null,
          null,
          null,
          null,
          null,
          null,
          null
         ]
        },
        {
         "name": "Interest Coverage",
         "type": "scatter",
         "x": [
          "2009-12-31",
          "2010-12-31",
          "2011-12-31",
          "2012-12-31",
          "2013-12-31",
          "2014-12-31",
          "2015-12-31",
          "2016-12-31",
          "2017-12-31",
          "2018-03-31",
          "2018-06-30",
          "2018-09-30",
          "2018-12-31",
          "2019-03-31",
          "2019-10-05"
         ],
         "y": [
          null,
          null,
          null,
          null,
          null,
          null,
          null,
          null,
          null,
          null,
          -2.3781,
          -2.1889,
          -3.0580000000000003,
          -2.5785,
          null
         ]
        },
        {
         "name": "Income Quality",
         "type": "scatter",
         "x": [
          "2009-12-31",
          "2010-12-31",
          "2011-12-31",
          "2012-12-31",
          "2013-12-31",
          "2014-12-31",
          "2015-12-31",
          "2016-12-31",
          "2017-12-31",
          "2018-03-31",
          "2018-06-30",
          "2018-09-30",
          "2018-12-31",
          "2019-03-31",
          "2019-10-05"
         ],
         "y": [
          null,
          null,
          null,
          null,
          null,
          null,
          null,
          null,
          null,
          1.9237,
          4.0981,
          4.8664,
          7.2173,
          1.9412,
          null
         ]
        },
        {
         "name": "Dividend Yield",
         "type": "scatter",
         "x": [
          "2009-12-31",
          "2010-12-31",
          "2011-12-31",
          "2012-12-31",
          "2013-12-31",
          "2014-12-31",
          "2015-12-31",
          "2016-12-31",
          "2017-12-31",
          "2018-03-31",
          "2018-06-30",
          "2018-09-30",
          "2018-12-31",
          "2019-03-31",
          "2019-10-05"
         ],
         "y": [
          null,
          null,
          null,
          null,
          null,
          null,
          null,
          null,
          null,
          0.0377,
          0.0435,
          0.0435,
          0.0435,
          0.0339,
          null
         ]
        },
        {
         "name": "Payout Ratio",
         "type": "scatter",
         "x": [
          "2009-12-31",
          "2010-12-31",
          "2011-12-31",
          "2012-12-31",
          "2013-12-31",
          "2014-12-31",
          "2015-12-31",
          "2016-12-31",
          "2017-12-31",
          "2018-03-31",
          "2018-06-30",
          "2018-09-30",
          "2018-12-31",
          "2019-03-31",
          "2019-10-05"
         ],
         "y": [
          null,
          null,
          null,
          null,
          null,
          null,
          null,
          null,
          null,
          null,
          null,
          null,
          null,
          null,
          null
         ]
        },
        {
         "name": "SG&A to Revenue",
         "type": "scatter",
         "x": [
          "2009-12-31",
          "2010-12-31",
          "2011-12-31",
          "2012-12-31",
          "2013-12-31",
          "2014-12-31",
          "2015-12-31",
          "2016-12-31",
          "2017-12-31",
          "2018-03-31",
          "2018-06-30",
          "2018-09-30",
          "2018-12-31",
          "2019-03-31",
          "2019-10-05"
         ],
         "y": [
          null,
          null,
          null,
          null,
          null,
          null,
          null,
          null,
          null,
          null,
          null,
          null,
          null,
          null,
          null
         ]
        },
        {
         "name": "R&D to Revenue",
         "type": "scatter",
         "x": [
          "2009-12-31",
          "2010-12-31",
          "2011-12-31",
          "2012-12-31",
          "2013-12-31",
          "2014-12-31",
          "2015-12-31",
          "2016-12-31",
          "2017-12-31",
          "2018-03-31",
          "2018-06-30",
          "2018-09-30",
          "2018-12-31",
          "2019-03-31",
          "2019-10-05"
         ],
         "y": [
          null,
          null,
          null,
          null,
          null,
          null,
          null,
          null,
          null,
          null,
          null,
          null,
          null,
          null,
          null
         ]
        },
        {
         "name": "Intangibles to Total Assets",
         "type": "scatter",
         "x": [
          "2009-12-31",
          "2010-12-31",
          "2011-12-31",
          "2012-12-31",
          "2013-12-31",
          "2014-12-31",
          "2015-12-31",
          "2016-12-31",
          "2017-12-31",
          "2018-03-31",
          "2018-06-30",
          "2018-09-30",
          "2018-12-31",
          "2019-03-31",
          "2019-10-05"
         ],
         "y": [
          null,
          null,
          null,
          null,
          null,
          null,
          null,
          null,
          null,
          null,
          0.11199999999999999,
          0.0151,
          0,
          0.0137,
          null
         ]
        },
        {
         "name": "Capex to Operating Cash Flow",
         "type": "scatter",
         "x": [
          "2009-12-31",
          "2010-12-31",
          "2011-12-31",
          "2012-12-31",
          "2013-12-31",
          "2014-12-31",
          "2015-12-31",
          "2016-12-31",
          "2017-12-31",
          "2018-03-31",
          "2018-06-30",
          "2018-09-30",
          "2018-12-31",
          "2019-03-31",
          "2019-10-05"
         ],
         "y": [
          null,
          null,
          null,
          null,
          null,
          null,
          null,
          null,
          null,
          1.2309,
          1.2903,
          1.4865,
          1.485,
          1.1216,
          null
         ]
        },
        {
         "name": "Capex to Revenue",
         "type": "scatter",
         "x": [
          "2009-12-31",
          "2010-12-31",
          "2011-12-31",
          "2012-12-31",
          "2013-12-31",
          "2014-12-31",
          "2015-12-31",
          "2016-12-31",
          "2017-12-31",
          "2018-03-31",
          "2018-06-30",
          "2018-09-30",
          "2018-12-31",
          "2019-03-31",
          "2019-10-05"
         ],
         "y": [
          null,
          null,
          null,
          null,
          null,
          null,
          null,
          null,
          null,
          0.5076,
          1.2992,
          2.1271,
          2.5394,
          0.6269,
          null
         ]
        },
        {
         "name": "Capex to Depreciation",
         "type": "scatter",
         "x": [
          "2009-12-31",
          "2010-12-31",
          "2011-12-31",
          "2012-12-31",
          "2013-12-31",
          "2014-12-31",
          "2015-12-31",
          "2016-12-31",
          "2017-12-31",
          "2018-03-31",
          "2018-06-30",
          "2018-09-30",
          "2018-12-31",
          "2019-03-31",
          "2019-10-05"
         ],
         "y": [
          null,
          null,
          null,
          null,
          null,
          null,
          null,
          null,
          null,
          -3.2486,
          -3.7566,
          -11.9025,
          -14.558,
          -3.5954,
          null
         ]
        },
        {
         "name": "Stock-based compensation to Revenue",
         "type": "scatter",
         "x": [
          "2009-12-31",
          "2010-12-31",
          "2011-12-31",
          "2012-12-31",
          "2013-12-31",
          "2014-12-31",
          "2015-12-31",
          "2016-12-31",
          "2017-12-31",
          "2018-03-31",
          "2018-06-30",
          "2018-09-30",
          "2018-12-31",
          "2019-03-31",
          "2019-10-05"
         ],
         "y": [
          null,
          null,
          null,
          null,
          null,
          null,
          null,
          null,
          null,
          null,
          null,
          null,
          null,
          null,
          null
         ]
        },
        {
         "name": "Graham Number",
         "type": "scatter",
         "x": [
          "2009-12-31",
          "2010-12-31",
          "2011-12-31",
          "2012-12-31",
          "2013-12-31",
          "2014-12-31",
          "2015-12-31",
          "2016-12-31",
          "2017-12-31",
          "2018-03-31",
          "2018-06-30",
          "2018-09-30",
          "2018-12-31",
          "2019-03-31",
          "2019-10-05"
         ],
         "y": [
          null,
          null,
          null,
          null,
          null,
          null,
          null,
          null,
          null,
          null,
          null,
          null,
          null,
          null,
          null
         ]
        },
        {
         "name": "Graham Net-Net",
         "type": "scatter",
         "x": [
          "2009-12-31",
          "2010-12-31",
          "2011-12-31",
          "2012-12-31",
          "2013-12-31",
          "2014-12-31",
          "2015-12-31",
          "2016-12-31",
          "2017-12-31",
          "2018-03-31",
          "2018-06-30",
          "2018-09-30",
          "2018-12-31",
          "2019-03-31",
          "2019-10-05"
         ],
         "y": [
          null,
          null,
          null,
          null,
          null,
          null,
          null,
          null,
          null,
          -1.5631,
          -1.5065,
          -1.5629,
          -1.9062,
          -1.4908,
          null
         ]
        },
        {
         "name": "Working Capital",
         "type": "scatter",
         "x": [
          "2009-12-31",
          "2010-12-31",
          "2011-12-31",
          "2012-12-31",
          "2013-12-31",
          "2014-12-31",
          "2015-12-31",
          "2016-12-31",
          "2017-12-31",
          "2018-03-31",
          "2018-06-30",
          "2018-09-30",
          "2018-12-31",
          "2019-03-31",
          "2019-10-05"
         ],
         "y": [
          null,
          null,
          null,
          null,
          null,
          null,
          null,
          null,
          null,
          null,
          null,
          null,
          null,
          null,
          null
         ]
        },
        {
         "name": "Tangible Asset Value",
         "type": "scatter",
         "x": [
          "2009-12-31",
          "2010-12-31",
          "2011-12-31",
          "2012-12-31",
          "2013-12-31",
          "2014-12-31",
          "2015-12-31",
          "2016-12-31",
          "2017-12-31",
          "2018-03-31",
          "2018-06-30",
          "2018-09-30",
          "2018-12-31",
          "2019-03-31",
          "2019-10-05"
         ],
         "y": [
          null,
          null,
          null,
          null,
          null,
          null,
          null,
          null,
          null,
          null,
          5936131662.3886,
          6596480442.6343,
          8203096338.6896,
          7456370309.3401,
          null
         ]
        },
        {
         "name": "Net Current Asset Value",
         "type": "scatter",
         "x": [
          "2009-12-31",
          "2010-12-31",
          "2011-12-31",
          "2012-12-31",
          "2013-12-31",
          "2014-12-31",
          "2015-12-31",
          "2016-12-31",
          "2017-12-31",
          "2018-03-31",
          "2018-06-30",
          "2018-09-30",
          "2018-12-31",
          "2019-03-31",
          "2019-10-05"
         ],
         "y": [
          null,
          null,
          null,
          null,
          null,
          null,
          null,
          null,
          null,
          -56253000000,
          -57837000000,
          -59127000000,
          -62470000000,
          -63145000000,
          null
         ]
        },
        {
         "name": "Invested Capital",
         "type": "scatter",
         "x": [
          "2009-12-31",
          "2010-12-31",
          "2011-12-31",
          "2012-12-31",
          "2013-12-31",
          "2014-12-31",
          "2015-12-31",
          "2016-12-31",
          "2017-12-31",
          "2018-03-31",
          "2018-06-30",
          "2018-09-30",
          "2018-12-31",
          "2019-03-31",
          "2019-10-05"
         ],
         "y": [
          null,
          null,
          null,
          null,
          null,
          null,
          null,
          null,
          null,
          null,
          null,
          null,
          null,
          null,
          null
         ]
        },
        {
         "name": "Average Receivables",
         "type": "scatter",
         "x": [
          "2009-12-31",
          "2010-12-31",
          "2011-12-31",
          "2012-12-31",
          "2013-12-31",
          "2014-12-31",
          "2015-12-31",
          "2016-12-31",
          "2017-12-31",
          "2018-03-31",
          "2018-06-30",
          "2018-09-30",
          "2018-12-31",
          "2019-03-31",
          "2019-10-05"
         ],
         "y": [
          null,
          null,
          null,
          null,
          null,
          null,
          null,
          null,
          null,
          null,
          null,
          null,
          null,
          2211000000,
          null
         ]
        },
        {
         "name": "Average Payables",
         "type": "scatter",
         "x": [
          "2009-12-31",
          "2010-12-31",
          "2011-12-31",
          "2012-12-31",
          "2013-12-31",
          "2014-12-31",
          "2015-12-31",
          "2016-12-31",
          "2017-12-31",
          "2018-03-31",
          "2018-06-30",
          "2018-09-30",
          "2018-12-31",
          "2019-03-31",
          "2019-10-05"
         ],
         "y": [
          null,
          null,
          null,
          null,
          null,
          null,
          null,
          null,
          null,
          null,
          null,
          null,
          null,
          3822500000,
          null
         ]
        },
        {
         "name": "Average Inventory",
         "type": "scatter",
         "x": [
          "2009-12-31",
          "2010-12-31",
          "2011-12-31",
          "2012-12-31",
          "2013-12-31",
          "2014-12-31",
          "2015-12-31",
          "2016-12-31",
          "2017-12-31",
          "2018-03-31",
          "2018-06-30",
          "2018-09-30",
          "2018-12-31",
          "2019-03-31",
          "2019-10-05"
         ],
         "y": [
          null,
          null,
          null,
          null,
          null,
          null,
          null,
          null,
          null,
          null,
          null,
          null,
          null,
          395500000,
          null
         ]
        },
        {
         "name": "Capex per Share",
         "type": "scatter",
         "x": [
          "2009-12-31",
          "2010-12-31",
          "2011-12-31",
          "2012-12-31",
          "2013-12-31",
          "2014-12-31",
          "2015-12-31",
          "2016-12-31",
          "2017-12-31",
          "2018-03-31",
          "2018-06-30",
          "2018-09-30",
          "2018-12-31",
          "2019-03-31",
          "2019-10-05"
         ],
         "y": [
          null,
          null,
          null,
          null,
          null,
          null,
          null,
          null,
          null,
          null,
          null,
          null,
          null,
          null,
          null
         ]
        }
       ],
       "layout": {
        "autosize": true,
        "dragmode": "zoom",
        "template": {
         "data": {
          "bar": [
           {
            "error_x": {
             "color": "#2a3f5f"
            },
            "error_y": {
             "color": "#2a3f5f"
            },
            "marker": {
             "line": {
              "color": "#E5ECF6",
              "width": 0.5
             }
            },
            "type": "bar"
           }
          ],
          "barpolar": [
           {
            "marker": {
             "line": {
              "color": "#E5ECF6",
              "width": 0.5
             }
            },
            "type": "barpolar"
           }
          ],
          "carpet": [
           {
            "aaxis": {
             "endlinecolor": "#2a3f5f",
             "gridcolor": "white",
             "linecolor": "white",
             "minorgridcolor": "white",
             "startlinecolor": "#2a3f5f"
            },
            "baxis": {
             "endlinecolor": "#2a3f5f",
             "gridcolor": "white",
             "linecolor": "white",
             "minorgridcolor": "white",
             "startlinecolor": "#2a3f5f"
            },
            "type": "carpet"
           }
          ],
          "choropleth": [
           {
            "colorbar": {
             "outlinewidth": 0,
             "ticks": ""
            },
            "type": "choropleth"
           }
          ],
          "contour": [
           {
            "colorbar": {
             "outlinewidth": 0,
             "ticks": ""
            },
            "colorscale": [
             [
              0,
              "#0d0887"
             ],
             [
              0.1111111111111111,
              "#46039f"
             ],
             [
              0.2222222222222222,
              "#7201a8"
             ],
             [
              0.3333333333333333,
              "#9c179e"
             ],
             [
              0.4444444444444444,
              "#bd3786"
             ],
             [
              0.5555555555555556,
              "#d8576b"
             ],
             [
              0.6666666666666666,
              "#ed7953"
             ],
             [
              0.7777777777777778,
              "#fb9f3a"
             ],
             [
              0.8888888888888888,
              "#fdca26"
             ],
             [
              1,
              "#f0f921"
             ]
            ],
            "type": "contour"
           }
          ],
          "contourcarpet": [
           {
            "colorbar": {
             "outlinewidth": 0,
             "ticks": ""
            },
            "type": "contourcarpet"
           }
          ],
          "heatmap": [
           {
            "colorbar": {
             "outlinewidth": 0,
             "ticks": ""
            },
            "colorscale": [
             [
              0,
              "#0d0887"
             ],
             [
              0.1111111111111111,
              "#46039f"
             ],
             [
              0.2222222222222222,
              "#7201a8"
             ],
             [
              0.3333333333333333,
              "#9c179e"
             ],
             [
              0.4444444444444444,
              "#bd3786"
             ],
             [
              0.5555555555555556,
              "#d8576b"
             ],
             [
              0.6666666666666666,
              "#ed7953"
             ],
             [
              0.7777777777777778,
              "#fb9f3a"
             ],
             [
              0.8888888888888888,
              "#fdca26"
             ],
             [
              1,
              "#f0f921"
             ]
            ],
            "type": "heatmap"
           }
          ],
          "heatmapgl": [
           {
            "colorbar": {
             "outlinewidth": 0,
             "ticks": ""
            },
            "colorscale": [
             [
              0,
              "#0d0887"
             ],
             [
              0.1111111111111111,
              "#46039f"
             ],
             [
              0.2222222222222222,
              "#7201a8"
             ],
             [
              0.3333333333333333,
              "#9c179e"
             ],
             [
              0.4444444444444444,
              "#bd3786"
             ],
             [
              0.5555555555555556,
              "#d8576b"
             ],
             [
              0.6666666666666666,
              "#ed7953"
             ],
             [
              0.7777777777777778,
              "#fb9f3a"
             ],
             [
              0.8888888888888888,
              "#fdca26"
             ],
             [
              1,
              "#f0f921"
             ]
            ],
            "type": "heatmapgl"
           }
          ],
          "histogram": [
           {
            "marker": {
             "colorbar": {
              "outlinewidth": 0,
              "ticks": ""
             }
            },
            "type": "histogram"
           }
          ],
          "histogram2d": [
           {
            "colorbar": {
             "outlinewidth": 0,
             "ticks": ""
            },
            "colorscale": [
             [
              0,
              "#0d0887"
             ],
             [
              0.1111111111111111,
              "#46039f"
             ],
             [
              0.2222222222222222,
              "#7201a8"
             ],
             [
              0.3333333333333333,
              "#9c179e"
             ],
             [
              0.4444444444444444,
              "#bd3786"
             ],
             [
              0.5555555555555556,
              "#d8576b"
             ],
             [
              0.6666666666666666,
              "#ed7953"
             ],
             [
              0.7777777777777778,
              "#fb9f3a"
             ],
             [
              0.8888888888888888,
              "#fdca26"
             ],
             [
              1,
              "#f0f921"
             ]
            ],
            "type": "histogram2d"
           }
          ],
          "histogram2dcontour": [
           {
            "colorbar": {
             "outlinewidth": 0,
             "ticks": ""
            },
            "colorscale": [
             [
              0,
              "#0d0887"
             ],
             [
              0.1111111111111111,
              "#46039f"
             ],
             [
              0.2222222222222222,
              "#7201a8"
             ],
             [
              0.3333333333333333,
              "#9c179e"
             ],
             [
              0.4444444444444444,
              "#bd3786"
             ],
             [
              0.5555555555555556,
              "#d8576b"
             ],
             [
              0.6666666666666666,
              "#ed7953"
             ],
             [
              0.7777777777777778,
              "#fb9f3a"
             ],
             [
              0.8888888888888888,
              "#fdca26"
             ],
             [
              1,
              "#f0f921"
             ]
            ],
            "type": "histogram2dcontour"
           }
          ],
          "mesh3d": [
           {
            "colorbar": {
             "outlinewidth": 0,
             "ticks": ""
            },
            "type": "mesh3d"
           }
          ],
          "parcoords": [
           {
            "line": {
             "colorbar": {
              "outlinewidth": 0,
              "ticks": ""
             }
            },
            "type": "parcoords"
           }
          ],
          "scatter": [
           {
            "marker": {
             "colorbar": {
              "outlinewidth": 0,
              "ticks": ""
             }
            },
            "type": "scatter"
           }
          ],
          "scatter3d": [
           {
            "line": {
             "colorbar": {
              "outlinewidth": 0,
              "ticks": ""
             }
            },
            "marker": {
             "colorbar": {
              "outlinewidth": 0,
              "ticks": ""
             }
            },
            "type": "scatter3d"
           }
          ],
          "scattercarpet": [
           {
            "marker": {
             "colorbar": {
              "outlinewidth": 0,
              "ticks": ""
             }
            },
            "type": "scattercarpet"
           }
          ],
          "scattergeo": [
           {
            "marker": {
             "colorbar": {
              "outlinewidth": 0,
              "ticks": ""
             }
            },
            "type": "scattergeo"
           }
          ],
          "scattergl": [
           {
            "marker": {
             "colorbar": {
              "outlinewidth": 0,
              "ticks": ""
             }
            },
            "type": "scattergl"
           }
          ],
          "scattermapbox": [
           {
            "marker": {
             "colorbar": {
              "outlinewidth": 0,
              "ticks": ""
             }
            },
            "type": "scattermapbox"
           }
          ],
          "scatterpolar": [
           {
            "marker": {
             "colorbar": {
              "outlinewidth": 0,
              "ticks": ""
             }
            },
            "type": "scatterpolar"
           }
          ],
          "scatterpolargl": [
           {
            "marker": {
             "colorbar": {
              "outlinewidth": 0,
              "ticks": ""
             }
            },
            "type": "scatterpolargl"
           }
          ],
          "scatterternary": [
           {
            "marker": {
             "colorbar": {
              "outlinewidth": 0,
              "ticks": ""
             }
            },
            "type": "scatterternary"
           }
          ],
          "surface": [
           {
            "colorbar": {
             "outlinewidth": 0,
             "ticks": ""
            },
            "colorscale": [
             [
              0,
              "#0d0887"
             ],
             [
              0.1111111111111111,
              "#46039f"
             ],
             [
              0.2222222222222222,
              "#7201a8"
             ],
             [
              0.3333333333333333,
              "#9c179e"
             ],
             [
              0.4444444444444444,
              "#bd3786"
             ],
             [
              0.5555555555555556,
              "#d8576b"
             ],
             [
              0.6666666666666666,
              "#ed7953"
             ],
             [
              0.7777777777777778,
              "#fb9f3a"
             ],
             [
              0.8888888888888888,
              "#fdca26"
             ],
             [
              1,
              "#f0f921"
             ]
            ],
            "type": "surface"
           }
          ],
          "table": [
           {
            "cells": {
             "fill": {
              "color": "#EBF0F8"
             },
             "line": {
              "color": "white"
             }
            },
            "header": {
             "fill": {
              "color": "#C8D4E3"
             },
             "line": {
              "color": "white"
             }
            },
            "type": "table"
           }
          ]
         },
         "layout": {
          "annotationdefaults": {
           "arrowcolor": "#2a3f5f",
           "arrowhead": 0,
           "arrowwidth": 1
          },
          "colorscale": {
           "diverging": [
            [
             0,
             "#8e0152"
            ],
            [
             0.1,
             "#c51b7d"
            ],
            [
             0.2,
             "#de77ae"
            ],
            [
             0.3,
             "#f1b6da"
            ],
            [
             0.4,
             "#fde0ef"
            ],
            [
             0.5,
             "#f7f7f7"
            ],
            [
             0.6,
             "#e6f5d0"
            ],
            [
             0.7,
             "#b8e186"
            ],
            [
             0.8,
             "#7fbc41"
            ],
            [
             0.9,
             "#4d9221"
            ],
            [
             1,
             "#276419"
            ]
           ],
           "sequential": [
            [
             0,
             "#0d0887"
            ],
            [
             0.1111111111111111,
             "#46039f"
            ],
            [
             0.2222222222222222,
             "#7201a8"
            ],
            [
             0.3333333333333333,
             "#9c179e"
            ],
            [
             0.4444444444444444,
             "#bd3786"
            ],
            [
             0.5555555555555556,
             "#d8576b"
            ],
            [
             0.6666666666666666,
             "#ed7953"
            ],
            [
             0.7777777777777778,
             "#fb9f3a"
            ],
            [
             0.8888888888888888,
             "#fdca26"
            ],
            [
             1,
             "#f0f921"
            ]
           ],
           "sequentialminus": [
            [
             0,
             "#0d0887"
            ],
            [
             0.1111111111111111,
             "#46039f"
            ],
            [
             0.2222222222222222,
             "#7201a8"
            ],
            [
             0.3333333333333333,
             "#9c179e"
            ],
            [
             0.4444444444444444,
             "#bd3786"
            ],
            [
             0.5555555555555556,
             "#d8576b"
            ],
            [
             0.6666666666666666,
             "#ed7953"
            ],
            [
             0.7777777777777778,
             "#fb9f3a"
            ],
            [
             0.8888888888888888,
             "#fdca26"
            ],
            [
             1,
             "#f0f921"
            ]
           ]
          },
          "colorway": [
           "#636efa",
           "#EF553B",
           "#00cc96",
           "#ab63fa",
           "#FFA15A",
           "#19d3f3",
           "#FF6692",
           "#B6E880",
           "#FF97FF",
           "#FECB52"
          ],
          "font": {
           "color": "#2a3f5f"
          },
          "geo": {
           "bgcolor": "white",
           "lakecolor": "white",
           "landcolor": "#E5ECF6",
           "showlakes": true,
           "showland": true,
           "subunitcolor": "white"
          },
          "hoverlabel": {
           "align": "left"
          },
          "hovermode": "closest",
          "mapbox": {
           "style": "light"
          },
          "paper_bgcolor": "white",
          "plot_bgcolor": "#E5ECF6",
          "polar": {
           "angularaxis": {
            "gridcolor": "white",
            "linecolor": "white",
            "ticks": ""
           },
           "bgcolor": "#E5ECF6",
           "radialaxis": {
            "gridcolor": "white",
            "linecolor": "white",
            "ticks": ""
           }
          },
          "scene": {
           "xaxis": {
            "backgroundcolor": "#E5ECF6",
            "gridcolor": "white",
            "gridwidth": 2,
            "linecolor": "white",
            "showbackground": true,
            "ticks": "",
            "zerolinecolor": "white"
           },
           "yaxis": {
            "backgroundcolor": "#E5ECF6",
            "gridcolor": "white",
            "gridwidth": 2,
            "linecolor": "white",
            "showbackground": true,
            "ticks": "",
            "zerolinecolor": "white"
           },
           "zaxis": {
            "backgroundcolor": "#E5ECF6",
            "gridcolor": "white",
            "gridwidth": 2,
            "linecolor": "white",
            "showbackground": true,
            "ticks": "",
            "zerolinecolor": "white"
           }
          },
          "shapedefaults": {
           "line": {
            "color": "#2a3f5f"
           }
          },
          "ternary": {
           "aaxis": {
            "gridcolor": "white",
            "linecolor": "white",
            "ticks": ""
           },
           "baxis": {
            "gridcolor": "white",
            "linecolor": "white",
            "ticks": ""
           },
           "bgcolor": "#E5ECF6",
           "caxis": {
            "gridcolor": "white",
            "linecolor": "white",
            "ticks": ""
           }
          },
          "title": {
           "x": 0.05
          },
          "xaxis": {
           "automargin": true,
           "gridcolor": "white",
           "linecolor": "white",
           "ticks": "",
           "zerolinecolor": "white",
           "zerolinewidth": 2
          },
          "yaxis": {
           "automargin": true,
           "gridcolor": "white",
           "linecolor": "white",
           "ticks": "",
           "zerolinecolor": "white",
           "zerolinewidth": 2
          }
         }
        },
        "xaxis": {
         "autorange": true,
         "range": [
          "2009-06-03 20:24:16.1798",
          "2020-05-02 03:35:43.8202"
         ],
         "type": "date"
        },
        "yaxis": {
         "autorange": true,
         "range": [
          -75047280254.77707,
          111249280254.77707
         ],
         "type": "linear"
        }
       }
      },
      "image/png": "[encoded data removed]",
      "text/html": [
       "<div>\n",
       "        \n",
       "        \n",
       "            <div id=\"2a8bd9f0-b098-4188-be3c-cc218b7ff01f\" class=\"plotly-graph-div\" style=\"height:525px; width:100%;\"></div>\n",
       "            <script type=\"text/javascript\">\n",
       "                require([\"plotly\"], function(Plotly) {\n",
       "                    window.PLOTLYENV=window.PLOTLYENV || {};\n",
       "                    \n",
       "                if (document.getElementById(\"2a8bd9f0-b098-4188-be3c-cc218b7ff01f\")) {\n",
       "                    Plotly.newPlot(\n",
       "                        '2a8bd9f0-b098-4188-be3c-cc218b7ff01f',\n",
       "                        [{\"name\": \"Unnamed: 0\", \"type\": \"scatter\", \"x\": [\"2009-12-31\", \"2010-12-31\", \"2011-12-31\", \"2012-12-31\", \"2013-12-31\", \"2014-12-31\", \"2015-12-31\", \"2016-12-31\", \"2017-12-31\", \"2018-03-31\", \"2018-06-30\", \"2018-09-30\", \"2018-12-31\", \"2019-03-31\", \"2019-10-05\"], \"y\": [0, 1, 2, 3, 4, 5, 6, 7, 8, 9, 10, 11, 12, 13, 14]}, {\"name\": \"index\", \"type\": \"scatter\", \"x\": [\"2009-12-31\", \"2010-12-31\", \"2011-12-31\", \"2012-12-31\", \"2013-12-31\", \"2014-12-31\", \"2015-12-31\", \"2016-12-31\", \"2017-12-31\", \"2018-03-31\", \"2018-06-30\", \"2018-09-30\", \"2018-12-31\", \"2019-03-31\", \"2019-10-05\"], \"y\": [\"2009-12-31\", \"2010-12-31\", \"2011-12-31\", \"2012-12-31\", \"2013-12-31\", \"2014-12-31\", \"2015-12-31\", \"2016-12-31\", \"2017-12-31\", \"2018-03-31\", \"2018-06-30\", \"2018-09-30\", \"2018-12-31\", \"2019-03-31\", \"2019-10-05\"]}, {\"name\": \"priceBookValueRatio\", \"type\": \"scatter\", \"x\": [\"2009-12-31\", \"2010-12-31\", \"2011-12-31\", \"2012-12-31\", \"2013-12-31\", \"2014-12-31\", \"2015-12-31\", \"2016-12-31\", \"2017-12-31\", \"2018-03-31\", \"2018-06-30\", \"2018-09-30\", \"2018-12-31\", \"2019-03-31\", \"2019-10-05\"], \"y\": [null, null, null, null, null, null, null, null, null, null, null, null, null, null, null]}, {\"name\": \"priceToBookRatio\", \"type\": \"scatter\", \"x\": [\"2009-12-31\", \"2010-12-31\", \"2011-12-31\", \"2012-12-31\", \"2013-12-31\", \"2014-12-31\", \"2015-12-31\", \"2016-12-31\", \"2017-12-31\", \"2018-03-31\", \"2018-06-30\", \"2018-09-30\", \"2018-12-31\", \"2019-03-31\", \"2019-10-05\"], \"y\": [null, null, null, null, null, null, null, null, null, null, null, null, null, null, null]}, {\"name\": \"priceToSalesRatio\", \"type\": \"scatter\", \"x\": [\"2009-12-31\", \"2010-12-31\", \"2011-12-31\", \"2012-12-31\", \"2013-12-31\", \"2014-12-31\", \"2015-12-31\", \"2016-12-31\", \"2017-12-31\", \"2018-03-31\", \"2018-06-30\", \"2018-09-30\", \"2018-12-31\", \"2019-03-31\", \"2019-10-05\"], \"y\": [2.5899, 3.7993, 3.8688, 4.1597, 3.6616, 3.4104, 2.0343, 2.5267, 3.1682, null, null, null, 2.3002, null, null]}, {\"name\": \"priceEarningsRatio\", \"type\": \"scatter\", \"x\": [\"2009-12-31\", \"2010-12-31\", \"2011-12-31\", \"2012-12-31\", \"2013-12-31\", \"2014-12-31\", \"2015-12-31\", \"2016-12-31\", \"2017-12-31\", \"2018-03-31\", \"2018-06-30\", \"2018-09-30\", \"2018-12-31\", \"2019-03-31\", \"2019-10-05\"], \"y\": [17.0706, 21.1875, 20.5152, 25.5632, 20.0756, 23.1932, 0.0, 379.1597, 18.2548, null, null, null, 12.2947, null, null]}, {\"name\": \"receivablesTurnover_x\", \"type\": \"scatter\", \"x\": [\"2009-12-31\", \"2010-12-31\", \"2011-12-31\", \"2012-12-31\", \"2013-12-31\", \"2014-12-31\", \"2015-12-31\", \"2016-12-31\", \"2017-12-31\", \"2018-03-31\", \"2018-06-30\", \"2018-09-30\", \"2018-12-31\", \"2019-03-31\", \"2019-10-05\"], \"y\": [7.9214, 6.2576, 6.541, 7.568, 7.8262, 8.0249, 7.6977, 7.3312, 5.9941, null, null, null, 5.2515, null, null]}, {\"name\": \"priceToFreeCashFlowsRatio\", \"type\": \"scatter\", \"x\": [\"2009-12-31\", \"2010-12-31\", \"2011-12-31\", \"2012-12-31\", \"2013-12-31\", \"2014-12-31\", \"2015-12-31\", \"2016-12-31\", \"2017-12-31\", \"2018-03-31\", \"2018-06-30\", \"2018-09-30\", \"2018-12-31\", \"2019-03-31\", \"2019-10-05\"], \"y\": [0.0, 0.0, 26.0692, 34.2863, 0.0, 0.0, 0.0, 0.0, 0.0, null, null, null, 0.0, null, null]}, {\"name\": \"priceToOperatingCashFlowsRatio\", \"type\": \"scatter\", \"x\": [\"2009-12-31\", \"2010-12-31\", \"2011-12-31\", \"2012-12-31\", \"2013-12-31\", \"2014-12-31\", \"2015-12-31\", \"2016-12-31\", \"2017-12-31\", \"2018-03-31\", \"2018-06-30\", \"2018-09-30\", \"2018-12-31\", \"2019-03-31\", \"2019-10-05\"], \"y\": [6.7495, 6.7495, 6.7495, 6.7495, 6.7495, 6.7495, 6.7495, 6.7495, 6.7495, null, null, null, 6.7495, null, null]}, {\"name\": \"priceCashFlowRatio\", \"type\": \"scatter\", \"x\": [\"2009-12-31\", \"2010-12-31\", \"2011-12-31\", \"2012-12-31\", \"2013-12-31\", \"2014-12-31\", \"2015-12-31\", \"2016-12-31\", \"2017-12-31\", \"2018-03-31\", \"2018-06-30\", \"2018-09-30\", \"2018-12-31\", \"2019-03-31\", \"2019-10-05\"], \"y\": [0.0, 0.0, 0.0, 0.0, 0.0, 6.7538609559868, 4.516300889598701, 6.024474531465301, 7.6764844359461, null, null, null, 4.8519068497325994, null, null]}, {\"name\": \"priceEarningsToGrowthRatio\", \"type\": \"scatter\", \"x\": [\"2009-12-31\", \"2010-12-31\", \"2011-12-31\", \"2012-12-31\", \"2013-12-31\", \"2014-12-31\", \"2015-12-31\", \"2016-12-31\", \"2017-12-31\", \"2018-03-31\", \"2018-06-30\", \"2018-09-30\", \"2018-12-31\", \"2019-03-31\", \"2019-10-05\"], \"y\": [0.0, 0.0, 0.0, 0.0, 0.0, 15.511856739129998, null, 131.0646412017, 12.717140829900998, null, null, null, 8.5910992436515, null, null]}, {\"name\": \"priceSalesRatio\", \"type\": \"scatter\", \"x\": [\"2009-12-31\", \"2010-12-31\", \"2011-12-31\", \"2012-12-31\", \"2013-12-31\", \"2014-12-31\", \"2015-12-31\", \"2016-12-31\", \"2017-12-31\", \"2018-03-31\", \"2018-06-30\", \"2018-09-30\", \"2018-12-31\", \"2019-03-31\", \"2019-10-05\"], \"y\": [0.0, 0.0, 0.0, 0.0, 0.0, 2.8023383799706, 1.7439851228751, 2.433893472543, 2.9852043720721, null, null, null, 2.3250419913735, null, null]}, {\"name\": \"dividendYield\", \"type\": \"scatter\", \"x\": [\"2009-12-31\", \"2010-12-31\", \"2011-12-31\", \"2012-12-31\", \"2013-12-31\", \"2014-12-31\", \"2015-12-31\", \"2016-12-31\", \"2017-12-31\", \"2018-03-31\", \"2018-06-30\", \"2018-09-30\", \"2018-12-31\", \"2019-03-31\", \"2019-10-05\"], \"y\": [null, null, null, null, null, 0.04712384037338099, 0.07303228338549901, 0.047023286160533, 0.033351587785653995, null, null, null, 0.049395914999966, null, null]}, {\"name\": \"enterpriseValueMultiple\", \"type\": \"scatter\", \"x\": [\"2009-12-31\", \"2010-12-31\", \"2011-12-31\", \"2012-12-31\", \"2013-12-31\", \"2014-12-31\", \"2015-12-31\", \"2016-12-31\", \"2017-12-31\", \"2018-03-31\", \"2018-06-30\", \"2018-09-30\", \"2018-12-31\", \"2019-03-31\", \"2019-10-05\"], \"y\": [4.5583853916387005, 5.5524673851389, 4.3867903189324, 4.6904818988253, 4.906924183275099, 9.699054087591199, 25.688315916956, 16.319562450243, 11.140018576196, null, null, null, 8.7172533318092, null, null]}, {\"name\": \"priceFairValue\", \"type\": \"scatter\", \"x\": [\"2009-12-31\", \"2010-12-31\", \"2011-12-31\", \"2012-12-31\", \"2013-12-31\", \"2014-12-31\", \"2015-12-31\", \"2016-12-31\", \"2017-12-31\", \"2018-03-31\", \"2018-06-30\", \"2018-09-30\", \"2018-12-31\", \"2019-03-31\", \"2019-10-05\"], \"y\": [0.0, 0.0, 0.0, 0.0, 0.0, 1.4966867540639999, 1.2044934359412, 1.2589380962196002, 1.6034192100323001, null, null, null, 1.0840633103824, null, null]}, {\"name\": \"debtRatio\", \"type\": \"scatter\", \"x\": [\"2009-12-31\", \"2010-12-31\", \"2011-12-31\", \"2012-12-31\", \"2013-12-31\", \"2014-12-31\", \"2015-12-31\", \"2016-12-31\", \"2017-12-31\", \"2018-03-31\", \"2018-06-30\", \"2018-09-30\", \"2018-12-31\", \"2019-03-31\", \"2019-10-05\"], \"y\": [0.4642, 0.4673, 0.455, 0.4583, 0.4781, 0.485, 0.5448, 0.5094, 0.5053, null, null, null, 0.5079, null, null]}, {\"name\": \"debtEquityRatio\", \"type\": \"scatter\", \"x\": [\"2009-12-31\", \"2010-12-31\", \"2011-12-31\", \"2012-12-31\", \"2013-12-31\", \"2014-12-31\", \"2015-12-31\", \"2016-12-31\", \"2017-12-31\", \"2018-03-31\", \"2018-06-30\", \"2018-09-30\", \"2018-12-31\", \"2019-03-31\", \"2019-10-05\"], \"y\": [1.3954, 1.3072, 1.2825, 1.3117, 1.3911, 1.4884, 2.1343, 1.8492, 1.7377, null, null, null, 1.7125, null, null]}, {\"name\": \"longtermDebtToCapitalization\", \"type\": \"scatter\", \"x\": [\"2009-12-31\", \"2010-12-31\", \"2011-12-31\", \"2012-12-31\", \"2013-12-31\", \"2014-12-31\", \"2015-12-31\", \"2016-12-31\", \"2017-12-31\", \"2018-03-31\", \"2018-06-30\", \"2018-09-30\", \"2018-12-31\", \"2019-03-31\", \"2019-10-05\"], \"y\": [0.5520577395577401, 0.52936045693706, 0.52738222547419, 0.52925620754927, 0.55339922854388, 0.55846260708497, 0.65579194237373, 0.63523308270677, 0.60828209821498, null, null, null, 0.6000545293435999, null, null]}, {\"name\": \"totalDebtToCapitalization\", \"type\": \"scatter\", \"x\": [\"2009-12-31\", \"2010-12-31\", \"2011-12-31\", \"2012-12-31\", \"2013-12-31\", \"2014-12-31\", \"2015-12-31\", \"2016-12-31\", \"2017-12-31\", \"2018-03-31\", \"2018-06-30\", \"2018-09-30\", \"2018-12-31\", \"2019-03-31\", \"2019-10-05\"], \"y\": [0.58253427598248, 0.56656820066335, 0.5618804132317601, 0.56741616146113, 0.58178123941754, 0.5981371433388101, 0.6809456338192199, 0.6490189836786701, 0.63473377097009, null, null, null, 0.6313348999107801, null, null]}, {\"name\": \"interestCoverage\", \"type\": \"scatter\", \"x\": [\"2009-12-31\", \"2010-12-31\", \"2011-12-31\", \"2012-12-31\", \"2013-12-31\", \"2014-12-31\", \"2015-12-31\", \"2016-12-31\", \"2017-12-31\", \"2018-03-31\", \"2018-06-30\", \"2018-09-30\", \"2018-12-31\", \"2019-03-31\", \"2019-10-05\"], \"y\": [2.7358, 3.3752, 3.301, 2.8648, 3.4335, 3.2295, 0.1883, 1.2928, 2.4828, null, null, null, 2.8252, null, null]}, {\"name\": \"cashFlowToDebtRatio\", \"type\": \"scatter\", \"x\": [\"2009-12-31\", \"2010-12-31\", \"2011-12-31\", \"2012-12-31\", \"2013-12-31\", \"2014-12-31\", \"2015-12-31\", \"2016-12-31\", \"2017-12-31\", \"2018-03-31\", \"2018-06-30\", \"2018-09-30\", \"2018-12-31\", \"2019-03-31\", \"2019-10-05\"], \"y\": [0.14691430817610002, 0.13153441573291, 0.17113938155818, 0.1609863853575, 0.14256887854094, 0.14888669673055, 0.12496080722857, 0.11300858321257001, 0.12019948978419, null, null, null, 0.13047112915746, null, null]}, {\"name\": \"companyEquityMultiplier\", \"type\": \"scatter\", \"x\": [\"2009-12-31\", \"2010-12-31\", \"2011-12-31\", \"2012-12-31\", \"2013-12-31\", \"2014-12-31\", \"2015-12-31\", \"2016-12-31\", \"2017-12-31\", \"2018-03-31\", \"2018-06-30\", \"2018-09-30\", \"2018-12-31\", \"2019-03-31\", \"2019-10-05\"], \"y\": [3.0058964689749996, 2.7975130029293998, 2.8187447898059, 2.8618059251375003, 2.9094736842105, 3.0689564761404995, 3.9176298819808, 3.6299212598425, 3.4386756659611, null, null, null, 3.3717363146772, null, null]}, {\"name\": \"operatingCashFlowPerShare\", \"type\": \"scatter\", \"x\": [\"2009-12-31\", \"2010-12-31\", \"2011-12-31\", \"2012-12-31\", \"2013-12-31\", \"2014-12-31\", \"2015-12-31\", \"2016-12-31\", \"2017-12-31\", \"2018-03-31\", \"2018-06-30\", \"2018-09-30\", \"2018-12-31\", \"2019-03-31\", \"2019-10-05\"], \"y\": [5.083, 4.1496, 5.3661, 5.035, 5.5295, 6.9358, 8.5512, 8.9765, 7.6355, null, null, null, 9.8112, null, null]}, {\"name\": \"freeCashFlowPerShare\", \"type\": \"scatter\", \"x\": [\"2009-12-31\", \"2010-12-31\", \"2011-12-31\", \"2012-12-31\", \"2013-12-31\", \"2014-12-31\", \"2015-12-31\", \"2016-12-31\", \"2017-12-31\", \"2018-03-31\", \"2018-06-30\", \"2018-09-30\", \"2018-12-31\", \"2019-03-31\", \"2019-10-05\"], \"y\": [-4.1259, -2.1643, 1.7077, 1.3719, -1.6224, -0.1822, -0.0878, -0.4126, -2.4308, null, null, null, -4.3241, null, null]}, {\"name\": \"cashPerShare\", \"type\": \"scatter\", \"x\": [\"2009-12-31\", \"2010-12-31\", \"2011-12-31\", \"2012-12-31\", \"2013-12-31\", \"2014-12-31\", \"2015-12-31\", \"2016-12-31\", \"2017-12-31\", \"2018-03-31\", \"2018-06-30\", \"2018-09-30\", \"2018-12-31\", \"2019-03-31\", \"2019-10-05\"], \"y\": [1.6949, 1.1023, 0.9521, 0.7769, 1.3952, 0.8026, 1.6580000000000001, 1.7992, 1.5899, null, null, null, 0.6676, null, null]}, {\"name\": \"payoutRatio\", \"type\": \"scatter\", \"x\": [\"2009-12-31\", \"2010-12-31\", \"2011-12-31\", \"2012-12-31\", \"2013-12-31\", \"2014-12-31\", \"2015-12-31\", \"2016-12-31\", \"2017-12-31\", \"2018-03-31\", \"2018-06-30\", \"2018-09-30\", \"2018-12-31\", \"2019-03-31\", \"2019-10-05\"], \"y\": [0.6527, 0.8877, 0.773, 0.9588, 0.7293, 0.7014, -0.9154, 10.6659, 0.564, null, null, null, 0.5348, null, null]}, {\"name\": \"receivablesTurnover_y\", \"type\": \"scatter\", \"x\": [\"2009-12-31\", \"2010-12-31\", \"2011-12-31\", \"2012-12-31\", \"2013-12-31\", \"2014-12-31\", \"2015-12-31\", \"2016-12-31\", \"2017-12-31\", \"2018-03-31\", \"2018-06-30\", \"2018-09-30\", \"2018-12-31\", \"2019-03-31\", \"2019-10-05\"], \"y\": [7.9214, 6.2576, 6.541, 7.568, 7.8262, 8.0249, 7.6977, 7.3312, 5.9941, null, null, null, 5.2515, null, null]}, {\"name\": \"operatingCashFlowSalesRatio\", \"type\": \"scatter\", \"x\": [\"2009-12-31\", \"2010-12-31\", \"2011-12-31\", \"2012-12-31\", \"2013-12-31\", \"2014-12-31\", \"2015-12-31\", \"2016-12-31\", \"2017-12-31\", \"2018-03-31\", \"2018-06-30\", \"2018-09-30\", \"2018-12-31\", \"2019-03-31\", \"2019-10-05\"], \"y\": [0.36548099254370003, 0.41973146526562, 0.4702130373772199, 0.44598476333209003, 0.41764237808344, 0.41492390770741, 0.38615343961948, 0.40400095640392, 0.38887649639378, null, null, null, 0.47920169603042, null, null]}, {\"name\": \"freeCashFlowOperatingCashFlowRatio\", \"type\": \"scatter\", \"x\": [\"2009-12-31\", \"2010-12-31\", \"2011-12-31\", \"2012-12-31\", \"2013-12-31\", \"2014-12-31\", \"2015-12-31\", \"2016-12-31\", \"2017-12-31\", \"2018-03-31\", \"2018-06-30\", \"2018-09-30\", \"2018-12-31\", \"2019-03-31\", \"2019-10-05\"], \"y\": [-0.81170568561873, -0.52155771905425, 0.31823114487248, 0.27247269672359997, -0.29341317365268, -0.026265972550865, -0.010264598540131, -0.045965673702901, -0.31835564053537, null, null, null, -0.44073226544621996, null, null]}, {\"name\": \"cashFlowCoverageRatios\", \"type\": \"scatter\", \"x\": [\"2009-12-31\", \"2010-12-31\", \"2011-12-31\", \"2012-12-31\", \"2013-12-31\", \"2014-12-31\", \"2015-12-31\", \"2016-12-31\", \"2017-12-31\", \"2018-03-31\", \"2018-06-30\", \"2018-09-30\", \"2018-12-31\", \"2019-03-31\", \"2019-10-05\"], \"y\": [0.14691430817610002, 0.13153441573291, 0.17113938155818, 0.1609863853575, 0.14256887854094, 0.14888669673055, 0.12496080722857, 0.11300858321257001, 0.12019948978419, null, null, null, 0.13047112915746, null, null]}, {\"name\": \"shortTermCoverageRatios\", \"type\": \"scatter\", \"x\": [\"2009-12-31\", \"2010-12-31\", \"2011-12-31\", \"2012-12-31\", \"2013-12-31\", \"2014-12-31\", \"2015-12-31\", \"2016-12-31\", \"2017-12-31\", \"2018-03-31\", \"2018-06-30\", \"2018-09-30\", \"2018-12-31\", \"2019-03-31\", \"2019-10-05\"], \"y\": [1.2578880942364, 0.94264175680106, 1.3173695496784, 1.1268538971285, 1.3051509769093999, 0.9910881801125699, 1.1644090305445, 1.9406584992343, 1.1298336573774, null, null, null, 1.0531812339331998, null, null]}, {\"name\": \"capitalExpenditureCoverageRatios\", \"type\": \"scatter\", \"x\": [\"2009-12-31\", \"2010-12-31\", \"2011-12-31\", \"2012-12-31\", \"2013-12-31\", \"2014-12-31\", \"2015-12-31\", \"2016-12-31\", \"2017-12-31\", \"2018-03-31\", \"2018-06-30\", \"2018-09-30\", \"2018-12-31\", \"2019-03-31\", \"2019-10-05\"], \"y\": [0.5519660328595101, 0.6572212065813701, 1.4667727815361002, 1.3745188606621, 0.77314814814816, 0.97440627161634, 0.98983969293293, 0.95605431912486, 0.75852066715011, null, null, null, 0.6940914866582, null, null]}, {\"name\": \"dividendpaidAndCapexCoverageRatios\", \"type\": \"scatter\", \"x\": [\"2009-12-31\", \"2010-12-31\", \"2011-12-31\", \"2012-12-31\", \"2013-12-31\", \"2014-12-31\", \"2015-12-31\", \"2016-12-31\", \"2017-12-31\", \"2018-03-31\", \"2018-06-30\", \"2018-09-30\", \"2018-12-31\", \"2019-03-31\", \"2019-10-05\"], \"y\": [0.48657445077299, 0.56062378167642, 1.0444885236611, 0.93383891213391, 0.60858042073878, 0.7437521999296101, 0.74621276595744, 0.75230038587118, 0.6351712411950501, null, null, null, 0.59509759418974, null, null]}, {\"name\": \"dividendPayoutRatio\", \"type\": \"scatter\", \"x\": [\"2009-12-31\", \"2010-12-31\", \"2011-12-31\", \"2012-12-31\", \"2013-12-31\", \"2014-12-31\", \"2015-12-31\", \"2016-12-31\", \"2017-12-31\", \"2018-03-31\", \"2018-06-30\", \"2018-09-30\", \"2018-12-31\", \"2019-03-31\", \"2019-10-05\"], \"y\": [0.52753623188403, 0.58998435054778, 0.6426312460468101, 0.90546528803544, 0.7194848824188299, 0.73097826086953, null, 6.1630901287553, 0.42413683877098, null, null, null, 0.42436520799567995, null, null]}, {\"name\": \"niperEBT\", \"type\": \"scatter\", \"x\": [\"2009-12-31\", \"2010-12-31\", \"2011-12-31\", \"2012-12-31\", \"2013-12-31\", \"2014-12-31\", \"2015-12-31\", \"2016-12-31\", \"2017-12-31\", \"2018-03-31\", \"2018-06-30\", \"2018-09-30\", \"2018-12-31\", \"2019-03-31\", \"2019-10-05\"], \"y\": [0.78098471986418, 0.7675675675675401, 0.73330241187382, 0.74395604395604, 0.7450980392156701, 0.68888056907527, null, 0.39829059829057, 1.0290091264667, null, null, null, 0.8955007256894, null, null]}, {\"name\": \"ebtperEBIT\", \"type\": \"scatter\", \"x\": [\"2009-12-31\", \"2010-12-31\", \"2011-12-31\", \"2012-12-31\", \"2013-12-31\", \"2014-12-31\", \"2015-12-31\", \"2016-12-31\", \"2017-12-31\", \"2018-03-31\", \"2018-06-30\", \"2018-09-30\", \"2018-12-31\", \"2019-03-31\", \"2019-10-05\"], \"y\": [0.6344703770197601, 0.7037193575655301, 0.6970578726155799, 0.6509298998569499, 0.70875221762272, 0.69035926596018, -4.3100775193803, 0.22648083623696, 0.5972357407046899, null, null, null, 0.6460384435067901, null, null]}, {\"name\": \"ebitperRevenue\", \"type\": \"scatter\", \"x\": [\"2009-12-31\", \"2010-12-31\", \"2011-12-31\", \"2012-12-31\", \"2013-12-31\", \"2014-12-31\", \"2015-12-31\", \"2016-12-31\", \"2017-12-31\", \"2018-03-31\", \"2018-06-30\", \"2018-09-30\", \"2018-12-31\", \"2019-03-31\", \"2019-10-05\"], \"y\": [0.34042293118201, 0.34530064214827, 0.39456563337161, 0.34919445485201, 0.38444924406046993, 0.37987236131565993, 0.022725270853516003, 0.20586594405037, 0.38196148412521, null, null, null, 0.46779735360772, null, null]}, {\"name\": \"grossProfitMargin\", \"type\": \"scatter\", \"x\": [\"2009-12-31\", \"2010-12-31\", \"2011-12-31\", \"2012-12-31\", \"2013-12-31\", \"2014-12-31\", \"2015-12-31\", \"2016-12-31\", \"2017-12-31\", \"2018-03-31\", \"2018-06-30\", \"2018-09-30\", \"2018-12-31\", \"2019-03-31\", \"2019-10-05\"], \"y\": [0.5056839017235101, 0.52612375948628, 0.5727771399413101, 0.5471462470338401, 0.5463226099806799, 0.52783505154639, 0.51202325376552, 0.51916792858851, 0.5324559446799, null, null, null, 0.6287009284304399, null, null]}, {\"name\": \"operatingProfitMargin\", \"type\": \"scatter\", \"x\": [\"2009-12-31\", \"2010-12-31\", \"2011-12-31\", \"2012-12-31\", \"2013-12-31\", \"2014-12-31\", \"2015-12-31\", \"2016-12-31\", \"2017-12-31\", \"2018-03-31\", \"2018-06-30\", \"2018-09-30\", \"2018-12-31\", \"2019-03-31\", \"2019-10-05\"], \"y\": [1.0, 1.0, 1.0, 1.0, 1.0, 1.0, 1.0, 1.0, 1.0, null, null, null, 1.0, null, null]}, {\"name\": \"pretaxProfitMargin\", \"type\": \"scatter\", \"x\": [\"2009-12-31\", \"2010-12-31\", \"2011-12-31\", \"2012-12-31\", \"2013-12-31\", \"2014-12-31\", \"2015-12-31\", \"2016-12-31\", \"2017-12-31\", \"2018-03-31\", \"2018-06-30\", \"2018-09-30\", \"2018-12-31\", \"2019-03-31\", \"2019-10-05\"], \"y\": [0.33736707004033, 0.28225335668418, 0.35106518688607996, 0.32121893343324, 0.32692963510288, 0.33470790378006, -0.018849643266101, 0.20977126006216001, 0.2438843036657, null, null, null, 0.35675122450471, null, null]}, {\"name\": \"netProfitMargin\", \"type\": \"scatter\", \"x\": [\"2009-12-31\", \"2010-12-31\", \"2011-12-31\", \"2012-12-31\", \"2013-12-31\", \"2014-12-31\", \"2015-12-31\", \"2016-12-31\", \"2017-12-31\", \"2018-03-31\", \"2018-06-30\", \"2018-09-30\", \"2018-12-31\", \"2019-03-31\", \"2019-10-05\"], \"y\": [0.16868353502017003, 0.18651488616462, 0.20168388825105, 0.16910203571875, 0.20302375809935, 0.18065783014236997, -0.10094248216330001, 0.018570176137723, 0.23473864227823, null, null, null, 0.27063381826157, null, null]}, {\"name\": \"effectiveTaxRate\", \"type\": \"scatter\", \"x\": [\"2009-12-31\", \"2010-12-31\", \"2011-12-31\", \"2012-12-31\", \"2013-12-31\", \"2014-12-31\", \"2015-12-31\", \"2016-12-31\", \"2017-12-31\", \"2018-03-31\", \"2018-06-30\", \"2018-09-30\", \"2018-12-31\", \"2019-03-31\", \"2019-10-05\"], \"y\": [0.21901528013582003, 0.2324324324324, 0.26669758812618, 0.25604395604396, 0.25490196078433, 0.31111943092473, null, 0.6017094017094301, -0.029009126466749, null, null, null, 0.10449927431060001, null, null]}, {\"name\": \"returnOnAssets\", \"type\": \"scatter\", \"x\": [\"2009-12-31\", \"2010-12-31\", \"2011-12-31\", \"2012-12-31\", \"2013-12-31\", \"2014-12-31\", \"2015-12-31\", \"2016-12-31\", \"2017-12-31\", \"2018-03-31\", \"2018-06-30\", \"2018-09-30\", \"2018-12-31\", \"2019-03-31\", \"2019-10-05\"], \"y\": [0.0445, 0.0377, 0.0527, 0.0441, 0.0507, 0.0503, -0.0286, 0.0042, 0.0623, null, null, null, 0.0662, null, null]}, {\"name\": \"returnOnEquity\", \"type\": \"scatter\", \"x\": [\"2009-12-31\", \"2010-12-31\", \"2011-12-31\", \"2012-12-31\", \"2013-12-31\", \"2014-12-31\", \"2015-12-31\", \"2016-12-31\", \"2017-12-31\", \"2018-03-31\", \"2018-06-30\", \"2018-09-30\", \"2018-12-31\", \"2019-03-31\", \"2019-10-05\"], \"y\": [0.0946, 0.0764, 0.0941, 0.0801, 0.0964, 0.0965, -0.0697, 0.0096, 0.1261, null, null, null, 0.1262, null, null]}, {\"name\": \"returnOnCapitalEmployed\", \"type\": \"scatter\", \"x\": [\"2009-12-31\", \"2010-12-31\", \"2011-12-31\", \"2012-12-31\", \"2013-12-31\", \"2014-12-31\", \"2015-12-31\", \"2016-12-31\", \"2017-12-31\", \"2018-03-31\", \"2018-06-30\", \"2018-09-30\", \"2018-12-31\", \"2019-03-31\", \"2019-10-05\"], \"y\": [0.0441, 0.0286, 0.0405, 0.0368, 0.0368, 0.0401, -0.0023, 0.0205, 0.0263, null, null, null, 0.0339, null, null]}, {\"name\": \"nIperEBT\", \"type\": \"scatter\", \"x\": [\"2009-12-31\", \"2010-12-31\", \"2011-12-31\", \"2012-12-31\", \"2013-12-31\", \"2014-12-31\", \"2015-12-31\", \"2016-12-31\", \"2017-12-31\", \"2018-03-31\", \"2018-06-30\", \"2018-09-30\", \"2018-12-31\", \"2019-03-31\", \"2019-10-05\"], \"y\": [0.78098471986418, 0.7675675675675401, 0.73330241187382, 0.74395604395604, 0.7450980392156701, 0.68888056907527, null, 0.39829059829057, 1.0290091264667, null, null, null, 0.8955007256894, null, null]}, {\"name\": \"eBTperEBIT\", \"type\": \"scatter\", \"x\": [\"2009-12-31\", \"2010-12-31\", \"2011-12-31\", \"2012-12-31\", \"2013-12-31\", \"2014-12-31\", \"2015-12-31\", \"2016-12-31\", \"2017-12-31\", \"2018-03-31\", \"2018-06-30\", \"2018-09-30\", \"2018-12-31\", \"2019-03-31\", \"2019-10-05\"], \"y\": [0.6344703770197601, 0.7037193575655301, 0.6970578726155799, 0.6509298998569499, 0.70875221762272, 0.69035926596018, -4.3100775193803, 0.22648083623696, 0.5972357407046899, null, null, null, 0.6460384435067901, null, null]}, {\"name\": \"eBITperRevenue\", \"type\": \"scatter\", \"x\": [\"2009-12-31\", \"2010-12-31\", \"2011-12-31\", \"2012-12-31\", \"2013-12-31\", \"2014-12-31\", \"2015-12-31\", \"2016-12-31\", \"2017-12-31\", \"2018-03-31\", \"2018-06-30\", \"2018-09-30\", \"2018-12-31\", \"2019-03-31\", \"2019-10-05\"], \"y\": [0.34042293118201, 0.34530064214827, 0.39456563337161, 0.34919445485201, 0.38444924406046993, 0.37987236131565993, 0.022725270853516003, 0.20586594405037, 0.38196148412521, null, null, null, 0.46779735360772, null, null]}, {\"name\": \"receivablesTurnover\", \"type\": \"scatter\", \"x\": [\"2009-12-31\", \"2010-12-31\", \"2011-12-31\", \"2012-12-31\", \"2013-12-31\", \"2014-12-31\", \"2015-12-31\", \"2016-12-31\", \"2017-12-31\", \"2018-03-31\", \"2018-06-30\", \"2018-09-30\", \"2018-12-31\", \"2019-03-31\", \"2019-10-05\"], \"y\": [7.9214, 6.2576, 6.541, 7.568, 7.8262, 8.0249, 7.6977, 7.3312, 5.9941, null, null, null, 5.2515, null, null]}, {\"name\": \"payablesTurnover\", \"type\": \"scatter\", \"x\": [\"2009-12-31\", \"2010-12-31\", \"2011-12-31\", \"2012-12-31\", \"2013-12-31\", \"2014-12-31\", \"2015-12-31\", \"2016-12-31\", \"2017-12-31\", \"2018-03-31\", \"2018-06-30\", \"2018-09-30\", \"2018-12-31\", \"2019-03-31\", \"2019-10-05\"], \"y\": [null, null, null, null, null, null, null, null, null, null, null, null, 1.0855, null, null]}, {\"name\": \"inventoryTurnover\", \"type\": \"scatter\", \"x\": [\"2009-12-31\", \"2010-12-31\", \"2011-12-31\", \"2012-12-31\", \"2013-12-31\", \"2014-12-31\", \"2015-12-31\", \"2016-12-31\", \"2017-12-31\", \"2018-03-31\", \"2018-06-30\", \"2018-09-30\", \"2018-12-31\", \"2019-03-31\", \"2019-10-05\"], \"y\": [17.5735, 15.0406, 22.9326, 34.4235, 35.8494, 35.9819, 33.8625, 36.8006, 37.0211, null, null, null, 32.8876, null, null]}, {\"name\": \"fixedAssetTurnover\", \"type\": \"scatter\", \"x\": [\"2009-12-31\", \"2010-12-31\", \"2011-12-31\", \"2012-12-31\", \"2013-12-31\", \"2014-12-31\", \"2015-12-31\", \"2016-12-31\", \"2017-12-31\", \"2018-03-31\", \"2018-06-30\", \"2018-09-30\", \"2018-12-31\", \"2019-03-31\", \"2019-10-05\"], \"y\": [0.24882143617507, 0.18905198101754997, 0.24144515970062, 0.23750482009907, 0.23392543743020003, 0.24381194044142002, 0.25331905303791, 0.23032583754016, 0.23480629222898997, null, null, null, 0.20568996887358, null, null]}, {\"name\": \"assetTurnover\", \"type\": \"scatter\", \"x\": [\"2009-12-31\", \"2010-12-31\", \"2011-12-31\", \"2012-12-31\", \"2013-12-31\", \"2014-12-31\", \"2015-12-31\", \"2016-12-31\", \"2017-12-31\", \"2018-03-31\", \"2018-06-30\", \"2018-09-30\", \"2018-12-31\", \"2019-03-31\", \"2019-10-05\"], \"y\": [0.18660614493283, 0.14642902936274, 0.16559634965567002, 0.16544755764939, 0.16321570373669, 0.17402819307988, 0.17629429485387998, 0.14249696198793999, 0.15620027641955, null, null, null, 0.13828346138294, null, null]}, {\"name\": \"currentRatio\", \"type\": \"scatter\", \"x\": [\"2009-12-31\", \"2010-12-31\", \"2011-12-31\", \"2012-12-31\", \"2013-12-31\", \"2014-12-31\", \"2015-12-31\", \"2016-12-31\", \"2017-12-31\", \"2018-03-31\", \"2018-06-30\", \"2018-09-30\", \"2018-12-31\", \"2019-03-31\", \"2019-10-05\"], \"y\": [0.6126, 0.5868, 0.5509, 0.4829, 0.5517, 0.3537, 0.3847, 0.7835, 0.3723, null, null, null, 0.2941, null, null]}, {\"name\": \"quickRatio\", \"type\": \"scatter\", \"x\": [\"2009-12-31\", \"2010-12-31\", \"2011-12-31\", \"2012-12-31\", \"2013-12-31\", \"2014-12-31\", \"2015-12-31\", \"2016-12-31\", \"2017-12-31\", \"2018-03-31\", \"2018-06-30\", \"2018-09-30\", \"2018-12-31\", \"2019-03-31\", \"2019-10-05\"], \"y\": [0.39664578702768, 0.35764499121266, 0.3165519739225, 0.27257269171909, 0.38241881298992997, 0.2377308707124, 0.30385764737845, 0.40247395833334004, 0.3655968411460999, null, null, null, 0.23026417426232998, null, null]}, {\"name\": \"cashRatio\", \"type\": \"scatter\", \"x\": [\"2009-12-31\", \"2010-12-31\", \"2011-12-31\", \"2012-12-31\", \"2013-12-31\", \"2014-12-31\", \"2015-12-31\", \"2016-12-31\", \"2017-12-31\", \"2018-03-31\", \"2018-06-30\", \"2018-09-30\", \"2018-12-31\", \"2019-03-31\", \"2019-10-05\"], \"y\": [0.20145483936148997, 0.13427065026363, 0.11843534951105, 0.093691549056282, 0.17301231802912, 0.064511873350921, 0.11545775604456, 0.13229166666667, 0.11025615065303, null, null, null, 0.034450795612548, null, null]}, {\"name\": \"daysOfSalesOutstanding\", \"type\": \"scatter\", \"x\": [\"2009-12-31\", \"2010-12-31\", \"2011-12-31\", \"2012-12-31\", \"2013-12-31\", \"2014-12-31\", \"2015-12-31\", \"2016-12-31\", \"2017-12-31\", \"2018-03-31\", \"2018-06-30\", \"2018-09-30\", \"2018-12-31\", \"2019-03-31\", \"2019-10-05\"], \"y\": [-46.1214, -47.7749, -27.029, -22.5483, -22.9554, -22.1626, -21.2807, -22.2642, -21.9418, null, null, null, -30.9736, null, null]}, {\"name\": \"daysOfInventoryOutstanding\", \"type\": \"scatter\", \"x\": [\"2009-12-31\", \"2010-12-31\", \"2011-12-31\", \"2012-12-31\", \"2013-12-31\", \"2014-12-31\", \"2015-12-31\", \"2016-12-31\", \"2017-12-31\", \"2018-03-31\", \"2018-06-30\", \"2018-09-30\", \"2018-12-31\", \"2019-03-31\", \"2019-10-05\"], \"y\": [43.0986, 67.705, 50.9389, 47.9555, 46.5534, 47.053999999999995, 44.5922, 60.363, 68.446, null, null, null, 67.642, null, null]}, {\"name\": \"operatingCycle\", \"type\": \"scatter\", \"x\": [\"2009-12-31\", \"2010-12-31\", \"2011-12-31\", \"2012-12-31\", \"2013-12-31\", \"2014-12-31\", \"2015-12-31\", \"2016-12-31\", \"2017-12-31\", \"2018-03-31\", \"2018-06-30\", \"2018-09-30\", \"2018-12-31\", \"2019-03-31\", \"2019-10-05\"], \"y\": [null, null, null, null, null, null, null, null, null, null, null, null, null, null, null]}, {\"name\": \"daysOfPayablesOutstanding\", \"type\": \"scatter\", \"x\": [\"2009-12-31\", \"2010-12-31\", \"2011-12-31\", \"2012-12-31\", \"2013-12-31\", \"2014-12-31\", \"2015-12-31\", \"2016-12-31\", \"2017-12-31\", \"2018-03-31\", \"2018-06-30\", \"2018-09-30\", \"2018-12-31\", \"2019-03-31\", \"2019-10-05\"], \"y\": [97.9312, 121.0274, 109.8399, 106.8515, 89.414, 103.6406, 85.2942, 112.3189, 110.1052, null, null, null, 144.3029, null, null]}, {\"name\": \"cashConversionCycle\", \"type\": \"scatter\", \"x\": [\"2009-12-31\", \"2010-12-31\", \"2011-12-31\", \"2012-12-31\", \"2013-12-31\", \"2014-12-31\", \"2015-12-31\", \"2016-12-31\", \"2017-12-31\", \"2018-03-31\", \"2018-06-30\", \"2018-09-30\", \"2018-12-31\", \"2019-03-31\", \"2019-10-05\"], \"y\": [null, null, null, null, null, null, null, null, null, null, null, null, null, null, null]}, {\"name\": \"date_x\", \"type\": \"scatter\", \"x\": [\"2009-12-31\", \"2010-12-31\", \"2011-12-31\", \"2012-12-31\", \"2013-12-31\", \"2014-12-31\", \"2015-12-31\", \"2016-12-31\", \"2017-12-31\", \"2018-03-31\", \"2018-06-30\", \"2018-09-30\", \"2018-12-31\", \"2019-03-31\", \"2019-10-05\"], \"y\": [null, null, null, null, null, null, null, null, null, null, \"2018-06-30\", \"2018-09-30\", \"2018-12-31\", \"2019-03-31\", null]}, {\"name\": \"Cash and cash equivalents\", \"type\": \"scatter\", \"x\": [\"2009-12-31\", \"2010-12-31\", \"2011-12-31\", \"2012-12-31\", \"2013-12-31\", \"2014-12-31\", \"2015-12-31\", \"2016-12-31\", \"2017-12-31\", \"2018-03-31\", \"2018-06-30\", \"2018-09-30\", \"2018-12-31\", \"2019-03-31\", \"2019-10-05\"], \"y\": [null, null, null, null, null, null, null, null, null, null, 1185263475.7663, 846076999.9232, 446000000.0, 653134596.6594, null]}, {\"name\": \"Short-term investments\", \"type\": \"scatter\", \"x\": [\"2009-12-31\", \"2010-12-31\", \"2011-12-31\", \"2012-12-31\", \"2013-12-31\", \"2014-12-31\", \"2015-12-31\", \"2016-12-31\", \"2017-12-31\", \"2018-03-31\", \"2018-06-30\", \"2018-09-30\", \"2018-12-31\", \"2019-03-31\", \"2019-10-05\"], \"y\": [null, null, null, null, null, null, null, null, null, null, 0.0, 0.0, 0.0, 0.0, null]}, {\"name\": \"Cash and short-term investments\", \"type\": \"scatter\", \"x\": [\"2009-12-31\", \"2010-12-31\", \"2011-12-31\", \"2012-12-31\", \"2013-12-31\", \"2014-12-31\", \"2015-12-31\", \"2016-12-31\", \"2017-12-31\", \"2018-03-31\", \"2018-06-30\", \"2018-09-30\", \"2018-12-31\", \"2019-03-31\", \"2019-10-05\"], \"y\": [null, null, null, null, null, null, null, null, null, null, 1185263475.7663, 846076999.9232, 446000000.0, 653134596.6594, null]}, {\"name\": \"Receivables\", \"type\": \"scatter\", \"x\": [\"2009-12-31\", \"2010-12-31\", \"2011-12-31\", \"2012-12-31\", \"2013-12-31\", \"2014-12-31\", \"2015-12-31\", \"2016-12-31\", \"2017-12-31\", \"2018-03-31\", \"2018-06-30\", \"2018-09-30\", \"2018-12-31\", \"2019-03-31\", \"2019-10-05\"], \"y\": [null, null, null, null, null, null, null, null, null, null, 2111000000.0, 2170000000.0, 2694000000.0, 2214000000.0, null]}, {\"name\": \"Inventories\", \"type\": \"scatter\", \"x\": [\"2009-12-31\", \"2010-12-31\", \"2011-12-31\", \"2012-12-31\", \"2013-12-31\", \"2014-12-31\", \"2015-12-31\", \"2016-12-31\", \"2017-12-31\", \"2018-03-31\", \"2018-06-30\", \"2018-09-30\", \"2018-12-31\", \"2019-03-31\", \"2019-10-05\"], \"y\": [null, null, null, null, null, null, null, null, null, null, 403000000.0, 381000000.0, 431000000.0, 407000000.0, null]}, {\"name\": \"Total current assets\", \"type\": \"scatter\", \"x\": [\"2009-12-31\", \"2010-12-31\", \"2011-12-31\", \"2012-12-31\", \"2013-12-31\", \"2014-12-31\", \"2015-12-31\", \"2016-12-31\", \"2017-12-31\", \"2018-03-31\", \"2018-06-30\", \"2018-09-30\", \"2018-12-31\", \"2019-03-31\", \"2019-10-05\"], \"y\": [null, null, null, null, null, null, null, null, null, null, null, null, null, null, null]}, {\"name\": \"Property, Plant & Equipment Net\", \"type\": \"scatter\", \"x\": [\"2009-12-31\", \"2010-12-31\", \"2011-12-31\", \"2012-12-31\", \"2013-12-31\", \"2014-12-31\", \"2015-12-31\", \"2016-12-31\", \"2017-12-31\", \"2018-03-31\", \"2018-06-30\", \"2018-09-30\", \"2018-12-31\", \"2019-03-31\", \"2019-10-05\"], \"y\": [null, null, null, null, null, null, null, null, null, null, 61446000000.0, 63212000000.0, 66503000000.0, 67520000000.0, null]}, {\"name\": \"Goodwill and Intangible Assets\", \"type\": \"scatter\", \"x\": [\"2009-12-31\", \"2010-12-31\", \"2011-12-31\", \"2012-12-31\", \"2013-12-31\", \"2014-12-31\", \"2015-12-31\", \"2016-12-31\", \"2017-12-31\", \"2018-03-31\", \"2018-06-30\", \"2018-09-30\", \"2018-12-31\", \"2019-03-31\", \"2019-10-05\"], \"y\": [null, null, null, null, null, null, null, null, null, null, 10368413105.8433, 1418581418.5814, 0.0, 1363942775.822, null]}, {\"name\": \"Long-term investments\", \"type\": \"scatter\", \"x\": [\"2009-12-31\", \"2010-12-31\", \"2011-12-31\", \"2012-12-31\", \"2013-12-31\", \"2014-12-31\", \"2015-12-31\", \"2016-12-31\", \"2017-12-31\", \"2018-03-31\", \"2018-06-30\", \"2018-09-30\", \"2018-12-31\", \"2019-03-31\", \"2019-10-05\"], \"y\": [null, null, null, null, null, null, null, null, null, null, 5049826362.6755, 5199415968.6467, 5263042042.7031, 5243052954.8348, null]}, {\"name\": \"Tax assets\", \"type\": \"scatter\", \"x\": [\"2009-12-31\", \"2010-12-31\", \"2011-12-31\", \"2012-12-31\", \"2013-12-31\", \"2014-12-31\", \"2015-12-31\", \"2016-12-31\", \"2017-12-31\", \"2018-03-31\", \"2018-06-30\", \"2018-09-30\", \"2018-12-31\", \"2019-03-31\", \"2019-10-05\"], \"y\": [null, null, null, null, null, null, null, null, null, null, null, null, null, null, null]}, {\"name\": \"Total non-current assets\", \"type\": \"scatter\", \"x\": [\"2009-12-31\", \"2010-12-31\", \"2011-12-31\", \"2012-12-31\", \"2013-12-31\", \"2014-12-31\", \"2015-12-31\", \"2016-12-31\", \"2017-12-31\", \"2018-03-31\", \"2018-06-30\", \"2018-09-30\", \"2018-12-31\", \"2019-03-31\", \"2019-10-05\"], \"y\": [null, null, null, null, null, null, null, null, null, null, null, null, null, null, null]}, {\"name\": \"Total assets\", \"type\": \"scatter\", \"x\": [\"2009-12-31\", \"2010-12-31\", \"2011-12-31\", \"2012-12-31\", \"2013-12-31\", \"2014-12-31\", \"2015-12-31\", \"2016-12-31\", \"2017-12-31\", \"2018-03-31\", \"2018-06-30\", \"2018-09-30\", \"2018-12-31\", \"2019-03-31\", \"2019-10-05\"], \"y\": [null, null, null, null, null, null, null, null, null, null, 92583000000.0, 94177000000.0, 98598000000.0, 99347000000.0, null]}, {\"name\": \"Payables\", \"type\": \"scatter\", \"x\": [\"2009-12-31\", \"2010-12-31\", \"2011-12-31\", \"2012-12-31\", \"2013-12-31\", \"2014-12-31\", \"2015-12-31\", \"2016-12-31\", \"2017-12-31\", \"2018-03-31\", \"2018-06-30\", \"2018-09-30\", \"2018-12-31\", \"2019-03-31\", \"2019-10-05\"], \"y\": [null, null, null, null, null, null, null, null, null, null, 3627000000.0, 3883000000.0, 3895000000.0, 4249000000.0, null]}, {\"name\": \"Short-term debt\", \"type\": \"scatter\", \"x\": [\"2009-12-31\", \"2010-12-31\", \"2011-12-31\", \"2012-12-31\", \"2013-12-31\", \"2014-12-31\", \"2015-12-31\", \"2016-12-31\", \"2017-12-31\", \"2018-03-31\", \"2018-06-30\", \"2018-09-30\", \"2018-12-31\", \"2019-03-31\", \"2019-10-05\"], \"y\": [null, null, null, null, null, null, null, null, null, null, 2127434697.2671, 1287942826.4044, 2542372881.3559, 1358699722.8672, null]}, {\"name\": \"Total current liabilities\", \"type\": \"scatter\", \"x\": [\"2009-12-31\", \"2010-12-31\", \"2011-12-31\", \"2012-12-31\", \"2013-12-31\", \"2014-12-31\", \"2015-12-31\", \"2016-12-31\", \"2017-12-31\", \"2018-03-31\", \"2018-06-30\", \"2018-09-30\", \"2018-12-31\", \"2019-03-31\", \"2019-10-05\"], \"y\": [null, null, null, null, null, null, null, null, null, null, 10431000000.0, 10961000000.0, 12946000000.0, 13355000000.0, null]}, {\"name\": \"Long-term debt\", \"type\": \"scatter\", \"x\": [\"2009-12-31\", \"2010-12-31\", \"2011-12-31\", \"2012-12-31\", \"2013-12-31\", \"2014-12-31\", \"2015-12-31\", \"2016-12-31\", \"2017-12-31\", \"2018-03-31\", \"2018-06-30\", \"2018-09-30\", \"2018-12-31\", \"2019-03-31\", \"2019-10-05\"], \"y\": [null, null, null, null, null, null, null, null, null, null, 41867000000.0, 42215000000.0, 44017000000.0, 43237000000.0, null]}, {\"name\": \"Total debt\", \"type\": \"scatter\", \"x\": [\"2009-12-31\", \"2010-12-31\", \"2011-12-31\", \"2012-12-31\", \"2013-12-31\", \"2014-12-31\", \"2015-12-31\", \"2016-12-31\", \"2017-12-31\", \"2018-03-31\", \"2018-06-30\", \"2018-09-30\", \"2018-12-31\", \"2019-03-31\", \"2019-10-05\"], \"y\": [null, null, null, null, null, null, null, null, null, null, null, null, null, null, null]}, {\"name\": \"Deferred revenue\", \"type\": \"scatter\", \"x\": [\"2009-12-31\", \"2010-12-31\", \"2011-12-31\", \"2012-12-31\", \"2013-12-31\", \"2014-12-31\", \"2015-12-31\", \"2016-12-31\", \"2017-12-31\", \"2018-03-31\", \"2018-06-30\", \"2018-09-30\", \"2018-12-31\", \"2019-03-31\", \"2019-10-05\"], \"y\": [null, null, null, null, null, null, null, null, null, null, null, null, null, null, null]}, {\"name\": \"Tax Liabilities\", \"type\": \"scatter\", \"x\": [\"2009-12-31\", \"2010-12-31\", \"2011-12-31\", \"2012-12-31\", \"2013-12-31\", \"2014-12-31\", \"2015-12-31\", \"2016-12-31\", \"2017-12-31\", \"2018-03-31\", \"2018-06-30\", \"2018-09-30\", \"2018-12-31\", \"2019-03-31\", \"2019-10-05\"], \"y\": [null, null, null, null, null, null, null, null, null, null, null, null, null, null, null]}, {\"name\": \"Deposit Liabilities\", \"type\": \"scatter\", \"x\": [\"2009-12-31\", \"2010-12-31\", \"2011-12-31\", \"2012-12-31\", \"2013-12-31\", \"2014-12-31\", \"2015-12-31\", \"2016-12-31\", \"2017-12-31\", \"2018-03-31\", \"2018-06-30\", \"2018-09-30\", \"2018-12-31\", \"2019-03-31\", \"2019-10-05\"], \"y\": [null, null, null, null, null, null, null, null, null, null, null, null, null, null, null]}, {\"name\": \"Total non-current liabilities\", \"type\": \"scatter\", \"x\": [\"2009-12-31\", \"2010-12-31\", \"2011-12-31\", \"2012-12-31\", \"2013-12-31\", \"2014-12-31\", \"2015-12-31\", \"2016-12-31\", \"2017-12-31\", \"2018-03-31\", \"2018-06-30\", \"2018-09-30\", \"2018-12-31\", \"2019-03-31\", \"2019-10-05\"], \"y\": [null, null, null, null, null, null, null, null, null, null, null, null, null, null, null]}, {\"name\": \"Total liabilities\", \"type\": \"scatter\", \"x\": [\"2009-12-31\", \"2010-12-31\", \"2011-12-31\", \"2012-12-31\", \"2013-12-31\", \"2014-12-31\", \"2015-12-31\", \"2016-12-31\", \"2017-12-31\", \"2018-03-31\", \"2018-06-30\", \"2018-09-30\", \"2018-12-31\", \"2019-03-31\", \"2019-10-05\"], \"y\": [null, null, null, null, null, null, null, null, null, null, 63267000000.0, 64240000000.0, 67605000000.0, 68050000000.0, null]}, {\"name\": \"Other comprehensive income\", \"type\": \"scatter\", \"x\": [\"2009-12-31\", \"2010-12-31\", \"2011-12-31\", \"2012-12-31\", \"2013-12-31\", \"2014-12-31\", \"2015-12-31\", \"2016-12-31\", \"2017-12-31\", \"2018-03-31\", \"2018-06-30\", \"2018-09-30\", \"2018-12-31\", \"2019-03-31\", \"2019-10-05\"], \"y\": [null, null, null, null, null, null, null, null, null, null, null, null, null, null, null]}, {\"name\": \"Retained earnings (deficit)\", \"type\": \"scatter\", \"x\": [\"2009-12-31\", \"2010-12-31\", \"2011-12-31\", \"2012-12-31\", \"2013-12-31\", \"2014-12-31\", \"2015-12-31\", \"2016-12-31\", \"2017-12-31\", \"2018-03-31\", \"2018-06-30\", \"2018-09-30\", \"2018-12-31\", \"2019-03-31\", \"2019-10-05\"], \"y\": [null, null, null, null, null, null, null, null, null, null, 1577000000.0, 1880000000.0, 2397000000.0, 2732000000.0, null]}, {\"name\": \"Total shareholders equity\", \"type\": \"scatter\", \"x\": [\"2009-12-31\", \"2010-12-31\", \"2011-12-31\", \"2012-12-31\", \"2013-12-31\", \"2014-12-31\", \"2015-12-31\", \"2016-12-31\", \"2017-12-31\", \"2018-03-31\", \"2018-06-30\", \"2018-09-30\", \"2018-12-31\", \"2019-03-31\", \"2019-10-05\"], \"y\": [null, null, null, null, null, null, null, null, null, null, 23283000000.0, 23934000000.0, 25358000000.0, 25657000000.0, null]}, {\"name\": \"Investments\", \"type\": \"scatter\", \"x\": [\"2009-12-31\", \"2010-12-31\", \"2011-12-31\", \"2012-12-31\", \"2013-12-31\", \"2014-12-31\", \"2015-12-31\", \"2016-12-31\", \"2017-12-31\", \"2018-03-31\", \"2018-06-30\", \"2018-09-30\", \"2018-12-31\", \"2019-03-31\", \"2019-10-05\"], \"y\": [null, null, null, null, null, null, null, null, null, null, -138909859.5803, -181357104.43400002, -42556313.7428, -18725189.1244, null]}, {\"name\": \"Net Debt\", \"type\": \"scatter\", \"x\": [\"2009-12-31\", \"2010-12-31\", \"2011-12-31\", \"2012-12-31\", \"2013-12-31\", \"2014-12-31\", \"2015-12-31\", \"2016-12-31\", \"2017-12-31\", \"2018-03-31\", \"2018-06-30\", \"2018-09-30\", \"2018-12-31\", \"2019-03-31\", \"2019-10-05\"], \"y\": [null, null, null, null, null, null, null, null, null, null, 42809171221.5008, 42656865826.4812, 46113372881.3559, 43942565126.2078, null]}, {\"name\": \"Other Assets\", \"type\": \"scatter\", \"x\": [\"2009-12-31\", \"2010-12-31\", \"2011-12-31\", \"2012-12-31\", \"2013-12-31\", \"2014-12-31\", \"2015-12-31\", \"2016-12-31\", \"2017-12-31\", \"2018-03-31\", \"2018-06-30\", \"2018-09-30\", \"2018-12-31\", \"2019-03-31\", \"2019-10-05\"], \"y\": [null, null, null, null, null, null, null, null, null, null, 1730736524.2337, 1715923000.0768, 1564000000.0, 1630865403.3406, null]}, {\"name\": \"Other Liabilities\", \"type\": \"scatter\", \"x\": [\"2009-12-31\", \"2010-12-31\", \"2011-12-31\", \"2012-12-31\", \"2013-12-31\", \"2014-12-31\", \"2015-12-31\", \"2016-12-31\", \"2017-12-31\", \"2018-03-31\", \"2018-06-30\", \"2018-09-30\", \"2018-12-31\", \"2019-03-31\", \"2019-10-05\"], \"y\": [null, null, null, null, null, null, null, null, null, null, 4676565302.7329, 5790057173.5956, 6508627118.6441, 7747300277.1328, null]}, {\"name\": \"date_y\", \"type\": \"scatter\", \"x\": [\"2009-12-31\", \"2010-12-31\", \"2011-12-31\", \"2012-12-31\", \"2013-12-31\", \"2014-12-31\", \"2015-12-31\", \"2016-12-31\", \"2017-12-31\", \"2018-03-31\", \"2018-06-30\", \"2018-09-30\", \"2018-12-31\", \"2019-03-31\", \"2019-10-05\"], \"y\": [null, null, null, null, null, null, null, null, null, \"2018-03-31\", \"2018-06-30\", \"2018-09-30\", \"2018-12-31\", \"2019-03-31\", null]}, {\"name\": \"Depreciation & Amortization\", \"type\": \"scatter\", \"x\": [\"2009-12-31\", \"2010-12-31\", \"2011-12-31\", \"2012-12-31\", \"2013-12-31\", \"2014-12-31\", \"2015-12-31\", \"2016-12-31\", \"2017-12-31\", \"2018-03-31\", \"2018-06-30\", \"2018-09-30\", \"2018-12-31\", \"2019-03-31\", \"2019-10-05\"], \"y\": [null, null, null, null, null, null, null, null, null, 535000000.0, 1105000000.0, 564000000.0, 681000000.0, 608000000.0, null]}, {\"name\": \"Stock-based compensation\", \"type\": \"scatter\", \"x\": [\"2009-12-31\", \"2010-12-31\", \"2011-12-31\", \"2012-12-31\", \"2013-12-31\", \"2014-12-31\", \"2015-12-31\", \"2016-12-31\", \"2017-12-31\", \"2018-03-31\", \"2018-06-30\", \"2018-09-30\", \"2018-12-31\", \"2019-03-31\", \"2019-10-05\"], \"y\": [null, null, null, null, null, null, null, null, null, null, null, null, null, null, null]}, {\"name\": \"Operating Cash Flow\", \"type\": \"scatter\", \"x\": [\"2009-12-31\", \"2010-12-31\", \"2011-12-31\", \"2012-12-31\", \"2013-12-31\", \"2014-12-31\", \"2015-12-31\", \"2016-12-31\", \"2017-12-31\", \"2018-03-31\", \"2018-06-30\", \"2018-09-30\", \"2018-12-31\", \"2019-03-31\", \"2019-10-05\"], \"y\": [null, null, null, null, null, null, null, null, null, 1412000000.0, 3217000000.0, 4516000000.0, 6676000000.0, 1949000000.0, null]}, {\"name\": \"Capital Expenditure\", \"type\": \"scatter\", \"x\": [\"2009-12-31\", \"2010-12-31\", \"2011-12-31\", \"2012-12-31\", \"2013-12-31\", \"2014-12-31\", \"2015-12-31\", \"2016-12-31\", \"2017-12-31\", \"2018-03-31\", \"2018-06-30\", \"2018-09-30\", \"2018-12-31\", \"2019-03-31\", \"2019-10-05\"], \"y\": [null, null, null, null, null, null, null, null, null, -1738000000.0, -4151000000.0, -6713000000.0, -9914000000.0, -2186000000.0, null]}, {\"name\": \"Acquisitions and disposals\", \"type\": \"scatter\", \"x\": [\"2009-12-31\", \"2010-12-31\", \"2011-12-31\", \"2012-12-31\", \"2013-12-31\", \"2014-12-31\", \"2015-12-31\", \"2016-12-31\", \"2017-12-31\", \"2018-03-31\", \"2018-06-30\", \"2018-09-30\", \"2018-12-31\", \"2019-03-31\", \"2019-10-05\"], \"y\": [null, null, null, null, null, null, null, null, null, null, null, null, null, null, null]}, {\"name\": \"Investment purchases and sales\", \"type\": \"scatter\", \"x\": [\"2009-12-31\", \"2010-12-31\", \"2011-12-31\", \"2012-12-31\", \"2013-12-31\", \"2014-12-31\", \"2015-12-31\", \"2016-12-31\", \"2017-12-31\", \"2018-03-31\", \"2018-06-30\", \"2018-09-30\", \"2018-12-31\", \"2019-03-31\", \"2019-10-05\"], \"y\": [null, null, null, null, null, null, null, null, null, null, null, null, null, null, null]}, {\"name\": \"Investing Cash flow\", \"type\": \"scatter\", \"x\": [\"2009-12-31\", \"2010-12-31\", \"2011-12-31\", \"2012-12-31\", \"2013-12-31\", \"2014-12-31\", \"2015-12-31\", \"2016-12-31\", \"2017-12-31\", \"2018-03-31\", \"2018-06-30\", \"2018-09-30\", \"2018-12-31\", \"2019-03-31\", \"2019-10-05\"], \"y\": [null, null, null, null, null, null, null, null, null, -1865000000.0, -4478000000.0, -7292000000.0, -10140000000.0, -2237000000.0, null]}, {\"name\": \"Issuance (repayment) of debt\", \"type\": \"scatter\", \"x\": [\"2009-12-31\", \"2010-12-31\", \"2011-12-31\", \"2012-12-31\", \"2013-12-31\", \"2014-12-31\", \"2015-12-31\", \"2016-12-31\", \"2017-12-31\", \"2018-03-31\", \"2018-06-30\", \"2018-09-30\", \"2018-12-31\", \"2019-03-31\", \"2019-10-05\"], \"y\": [null, null, null, null, null, null, null, null, null, null, 834214102.3705, 933681702.9125, 371267150.9282, 874840835.8924, null]}, {\"name\": \"Issuance (buybacks) of shares\", \"type\": \"scatter\", \"x\": [\"2009-12-31\", \"2010-12-31\", \"2011-12-31\", \"2012-12-31\", \"2013-12-31\", \"2014-12-31\", \"2015-12-31\", \"2016-12-31\", \"2017-12-31\", \"2018-03-31\", \"2018-06-30\", \"2018-09-30\", \"2018-12-31\", \"2019-03-31\", \"2019-10-05\"], \"y\": [null, null, null, null, null, null, null, null, null, null, 0.0, 0.0, 0.0, 50932514.4184, null]}, {\"name\": \"Dividend payments\", \"type\": \"scatter\", \"x\": [\"2009-12-31\", \"2010-12-31\", \"2011-12-31\", \"2012-12-31\", \"2013-12-31\", \"2014-12-31\", \"2015-12-31\", \"2016-12-31\", \"2017-12-31\", \"2018-03-31\", \"2018-06-30\", \"2018-09-30\", \"2018-12-31\", \"2019-03-31\", \"2019-10-05\"], \"y\": [null, null, null, null, null, null, null, null, null, null, -316321908.5007, -350418811.9573, -335314403.111, -343794472.3242, null]}, {\"name\": \"Financing Cash Flow\", \"type\": \"scatter\", \"x\": [\"2009-12-31\", \"2010-12-31\", \"2011-12-31\", \"2012-12-31\", \"2013-12-31\", \"2014-12-31\", \"2015-12-31\", \"2016-12-31\", \"2017-12-31\", \"2018-03-31\", \"2018-06-30\", \"2018-09-30\", \"2018-12-31\", \"2019-03-31\", \"2019-10-05\"], \"y\": [null, null, null, null, null, null, null, null, null, 602000000.0, 1685000000.0, 2741000000.0, 2748000000.0, 721000000.0, null]}, {\"name\": \"Effect of forex changes on cash\", \"type\": \"scatter\", \"x\": [\"2009-12-31\", \"2010-12-31\", \"2011-12-31\", \"2012-12-31\", \"2013-12-31\", \"2014-12-31\", \"2015-12-31\", \"2016-12-31\", \"2017-12-31\", \"2018-03-31\", \"2018-06-30\", \"2018-09-30\", \"2018-12-31\", \"2019-03-31\", \"2019-10-05\"], \"y\": [null, null, null, null, null, null, null, null, null, 29000000.0, 57000000.0, 47000000.0, 73000000.0, -7000000.0, null]}, {\"name\": \"Net cash flow / Change in cash\", \"type\": \"scatter\", \"x\": [\"2009-12-31\", \"2010-12-31\", \"2011-12-31\", \"2012-12-31\", \"2013-12-31\", \"2014-12-31\", \"2015-12-31\", \"2016-12-31\", \"2017-12-31\", \"2018-03-31\", \"2018-06-30\", \"2018-09-30\", \"2018-12-31\", \"2019-03-31\", \"2019-10-05\"], \"y\": [null, null, null, null, null, null, null, null, null, 178000000.0, 481000000.0, 12000000.0, -643000000.0, 426000000.0, null]}, {\"name\": \"Free Cash Flow\", \"type\": \"scatter\", \"x\": [\"2009-12-31\", \"2010-12-31\", \"2011-12-31\", \"2012-12-31\", \"2013-12-31\", \"2014-12-31\", \"2015-12-31\", \"2016-12-31\", \"2017-12-31\", \"2018-03-31\", \"2018-06-30\", \"2018-09-30\", \"2018-12-31\", \"2019-03-31\", \"2019-10-05\"], \"y\": [null, null, null, null, null, null, null, null, null, null, null, null, null, null, null]}, {\"name\": \"Net Cash/Marketcap\", \"type\": \"scatter\", \"x\": [\"2009-12-31\", \"2010-12-31\", \"2011-12-31\", \"2012-12-31\", \"2013-12-31\", \"2014-12-31\", \"2015-12-31\", \"2016-12-31\", \"2017-12-31\", \"2018-03-31\", \"2018-06-30\", \"2018-09-30\", \"2018-12-31\", \"2019-03-31\", \"2019-10-05\"], \"y\": [null, null, null, null, null, null, null, null, null, -1.115, -1.115, -1.1276, -1.4071, -1.0375, null]}, {\"name\": \"date_x.1\", \"type\": \"scatter\", \"x\": [\"2009-12-31\", \"2010-12-31\", \"2011-12-31\", \"2012-12-31\", \"2013-12-31\", \"2014-12-31\", \"2015-12-31\", \"2016-12-31\", \"2017-12-31\", \"2018-03-31\", \"2018-06-30\", \"2018-09-30\", \"2018-12-31\", \"2019-03-31\", \"2019-10-05\"], \"y\": [null, null, null, null, null, null, null, null, null, null, \"2018-06-30\", \"2018-09-30\", \"2018-12-31\", \"2019-03-31\", null]}, {\"name\": \"Stock Price_x\", \"type\": \"scatter\", \"x\": [\"2009-12-31\", \"2010-12-31\", \"2011-12-31\", \"2012-12-31\", \"2013-12-31\", \"2014-12-31\", \"2015-12-31\", \"2016-12-31\", \"2017-12-31\", \"2018-03-31\", \"2018-06-30\", \"2018-09-30\", \"2018-12-31\", \"2019-03-31\", \"2019-10-05\"], \"y\": [null, null, null, null, null, null, null, null, null, null, 40.8189, 40.3076, 35.2597, 45.84, null]}, {\"name\": \"Number of Shares\", \"type\": \"scatter\", \"x\": [\"2009-12-31\", \"2010-12-31\", \"2011-12-31\", \"2012-12-31\", \"2013-12-31\", \"2014-12-31\", \"2015-12-31\", \"2016-12-31\", \"2017-12-31\", \"2018-03-31\", \"2018-06-30\", \"2018-09-30\", \"2018-12-31\", \"2019-03-31\", \"2019-10-05\"], \"y\": [null, null, null, null, null, null, null, null, null, null, null, null, null, null, null]}, {\"name\": \"Market Capitalization\", \"type\": \"scatter\", \"x\": [\"2009-12-31\", \"2010-12-31\", \"2011-12-31\", \"2012-12-31\", \"2013-12-31\", \"2014-12-31\", \"2015-12-31\", \"2016-12-31\", \"2017-12-31\", \"2018-03-31\", \"2018-06-30\", \"2018-09-30\", \"2018-12-31\", \"2019-03-31\", \"2019-10-05\"], \"y\": [null, null, null, null, null, null, null, null, null, null, 0.0, 0.0, 0.0, 0.0, null]}, {\"name\": \"- Cash & Cash Equivalents\", \"type\": \"scatter\", \"x\": [\"2009-12-31\", \"2010-12-31\", \"2011-12-31\", \"2012-12-31\", \"2013-12-31\", \"2014-12-31\", \"2015-12-31\", \"2016-12-31\", \"2017-12-31\", \"2018-03-31\", \"2018-06-30\", \"2018-09-30\", \"2018-12-31\", \"2019-03-31\", \"2019-10-05\"], \"y\": [null, null, null, null, null, null, null, null, null, null, 1185263475.7663, 846076999.9232, 446000000.0, 653134596.6594, null]}, {\"name\": \"+ Total Debt\", \"type\": \"scatter\", \"x\": [\"2009-12-31\", \"2010-12-31\", \"2011-12-31\", \"2012-12-31\", \"2013-12-31\", \"2014-12-31\", \"2015-12-31\", \"2016-12-31\", \"2017-12-31\", \"2018-03-31\", \"2018-06-30\", \"2018-09-30\", \"2018-12-31\", \"2019-03-31\", \"2019-10-05\"], \"y\": [null, null, null, null, null, null, null, null, null, null, 43994434697.2671, 43502942826.4044, 46559372881.355896, 44595699722.8672, null]}, {\"name\": \"Enterprise Value_x\", \"type\": \"scatter\", \"x\": [\"2009-12-31\", \"2010-12-31\", \"2011-12-31\", \"2012-12-31\", \"2013-12-31\", \"2014-12-31\", \"2015-12-31\", \"2016-12-31\", \"2017-12-31\", \"2018-03-31\", \"2018-06-30\", \"2018-09-30\", \"2018-12-31\", \"2019-03-31\", \"2019-10-05\"], \"y\": [null, null, null, null, null, null, null, null, null, null, 42809171221.5008, 42656865826.4812, 46113372881.355896, 43942565126.2078, null]}, {\"name\": \"date_y.1\", \"type\": \"scatter\", \"x\": [\"2009-12-31\", \"2010-12-31\", \"2011-12-31\", \"2012-12-31\", \"2013-12-31\", \"2014-12-31\", \"2015-12-31\", \"2016-12-31\", \"2017-12-31\", \"2018-03-31\", \"2018-06-30\", \"2018-09-30\", \"2018-12-31\", \"2019-03-31\", \"2019-10-05\"], \"y\": [null, null, null, null, null, null, null, null, null, null, \"2018-06-30\", \"2018-09-30\", \"2018-12-31\", \"2019-03-31\", \"2019-10-05\"]}, {\"name\": \"Stock Price_y\", \"type\": \"scatter\", \"x\": [\"2009-12-31\", \"2010-12-31\", \"2011-12-31\", \"2012-12-31\", \"2013-12-31\", \"2014-12-31\", \"2015-12-31\", \"2016-12-31\", \"2017-12-31\", \"2018-03-31\", \"2018-06-30\", \"2018-09-30\", \"2018-12-31\", \"2019-03-31\", \"2019-10-05\"], \"y\": [null, null, null, null, null, null, null, null, null, null, 40.8189, 40.3076, 35.2597, 45.84, 51.405]}, {\"name\": \"DCF\", \"type\": \"scatter\", \"x\": [\"2009-12-31\", \"2010-12-31\", \"2011-12-31\", \"2012-12-31\", \"2013-12-31\", \"2014-12-31\", \"2015-12-31\", \"2016-12-31\", \"2017-12-31\", \"2018-03-31\", \"2018-06-30\", \"2018-09-30\", \"2018-12-31\", \"2019-03-31\", \"2019-10-05\"], \"y\": [null, null, null, null, null, null, null, null, null, null, 0.0, 0.0, 0.0, 0.0, 51.405]}, {\"name\": \"date\", \"type\": \"scatter\", \"x\": [\"2009-12-31\", \"2010-12-31\", \"2011-12-31\", \"2012-12-31\", \"2013-12-31\", \"2014-12-31\", \"2015-12-31\", \"2016-12-31\", \"2017-12-31\", \"2018-03-31\", \"2018-06-30\", \"2018-09-30\", \"2018-12-31\", \"2019-03-31\", \"2019-10-05\"], \"y\": [null, null, null, null, null, null, null, null, null, \"2018-03-31\", \"2018-06-30\", \"2018-09-30\", \"2018-12-31\", \"2019-03-31\", null]}, {\"name\": \"Revenue per Share\", \"type\": \"scatter\", \"x\": [\"2009-12-31\", \"2010-12-31\", \"2011-12-31\", \"2012-12-31\", \"2013-12-31\", \"2014-12-31\", \"2015-12-31\", \"2016-12-31\", \"2017-12-31\", \"2018-03-31\", \"2018-06-30\", \"2018-09-30\", \"2018-12-31\", \"2019-03-31\", \"2019-10-05\"], \"y\": [null, null, null, null, null, null, null, null, null, null, null, null, null, null, null]}, {\"name\": \"Net Income per Share\", \"type\": \"scatter\", \"x\": [\"2009-12-31\", \"2010-12-31\", \"2011-12-31\", \"2012-12-31\", \"2013-12-31\", \"2014-12-31\", \"2015-12-31\", \"2016-12-31\", \"2017-12-31\", \"2018-03-31\", \"2018-06-30\", \"2018-09-30\", \"2018-12-31\", \"2019-03-31\", \"2019-10-05\"], \"y\": [null, null, null, null, null, null, null, null, null, null, null, null, null, null, null]}, {\"name\": \"Operating Cash Flow per Share\", \"type\": \"scatter\", \"x\": [\"2009-12-31\", \"2010-12-31\", \"2011-12-31\", \"2012-12-31\", \"2013-12-31\", \"2014-12-31\", \"2015-12-31\", \"2016-12-31\", \"2017-12-31\", \"2018-03-31\", \"2018-06-30\", \"2018-09-30\", \"2018-12-31\", \"2019-03-31\", \"2019-10-05\"], \"y\": [null, null, null, null, null, null, null, null, null, null, null, null, null, null, null]}, {\"name\": \"Free Cash Flow per Share\", \"type\": \"scatter\", \"x\": [\"2009-12-31\", \"2010-12-31\", \"2011-12-31\", \"2012-12-31\", \"2013-12-31\", \"2014-12-31\", \"2015-12-31\", \"2016-12-31\", \"2017-12-31\", \"2018-03-31\", \"2018-06-30\", \"2018-09-30\", \"2018-12-31\", \"2019-03-31\", \"2019-10-05\"], \"y\": [null, null, null, null, null, null, null, null, null, null, null, null, null, null, null]}, {\"name\": \"Cash per Share\", \"type\": \"scatter\", \"x\": [\"2009-12-31\", \"2010-12-31\", \"2011-12-31\", \"2012-12-31\", \"2013-12-31\", \"2014-12-31\", \"2015-12-31\", \"2016-12-31\", \"2017-12-31\", \"2018-03-31\", \"2018-06-30\", \"2018-09-30\", \"2018-12-31\", \"2019-03-31\", \"2019-10-05\"], \"y\": [null, null, null, null, null, null, null, null, null, null, null, null, null, null, null]}, {\"name\": \"Book Value per Share\", \"type\": \"scatter\", \"x\": [\"2009-12-31\", \"2010-12-31\", \"2011-12-31\", \"2012-12-31\", \"2013-12-31\", \"2014-12-31\", \"2015-12-31\", \"2016-12-31\", \"2017-12-31\", \"2018-03-31\", \"2018-06-30\", \"2018-09-30\", \"2018-12-31\", \"2019-03-31\", \"2019-10-05\"], \"y\": [null, null, null, null, null, null, null, null, null, null, null, null, null, null, null]}, {\"name\": \"Tangible Book Value per Share\", \"type\": \"scatter\", \"x\": [\"2009-12-31\", \"2010-12-31\", \"2011-12-31\", \"2012-12-31\", \"2013-12-31\", \"2014-12-31\", \"2015-12-31\", \"2016-12-31\", \"2017-12-31\", \"2018-03-31\", \"2018-06-30\", \"2018-09-30\", \"2018-12-31\", \"2019-03-31\", \"2019-10-05\"], \"y\": [null, null, null, null, null, null, null, null, null, null, null, null, null, null, null]}, {\"name\": \"Shareholders Equity per Share\", \"type\": \"scatter\", \"x\": [\"2009-12-31\", \"2010-12-31\", \"2011-12-31\", \"2012-12-31\", \"2013-12-31\", \"2014-12-31\", \"2015-12-31\", \"2016-12-31\", \"2017-12-31\", \"2018-03-31\", \"2018-06-30\", \"2018-09-30\", \"2018-12-31\", \"2019-03-31\", \"2019-10-05\"], \"y\": [null, null, null, null, null, null, null, null, null, null, null, null, null, null, null]}, {\"name\": \"Interest Debt per Share\", \"type\": \"scatter\", \"x\": [\"2009-12-31\", \"2010-12-31\", \"2011-12-31\", \"2012-12-31\", \"2013-12-31\", \"2014-12-31\", \"2015-12-31\", \"2016-12-31\", \"2017-12-31\", \"2018-03-31\", \"2018-06-30\", \"2018-09-30\", \"2018-12-31\", \"2019-03-31\", \"2019-10-05\"], \"y\": [null, null, null, null, null, null, null, null, null, null, null, null, null, null, null]}, {\"name\": \"Market Cap\", \"type\": \"scatter\", \"x\": [\"2009-12-31\", \"2010-12-31\", \"2011-12-31\", \"2012-12-31\", \"2013-12-31\", \"2014-12-31\", \"2015-12-31\", \"2016-12-31\", \"2017-12-31\", \"2018-03-31\", \"2018-06-30\", \"2018-09-30\", \"2018-12-31\", \"2019-03-31\", \"2019-10-05\"], \"y\": [null, null, null, null, null, null, null, null, null, 32772600000.0, 38392880000.0, 37830460000.0, 32772600000.0, 42356160000.0, null]}, {\"name\": \"Enterprise Value_y\", \"type\": \"scatter\", \"x\": [\"2009-12-31\", \"2010-12-31\", \"2011-12-31\", \"2012-12-31\", \"2013-12-31\", \"2014-12-31\", \"2015-12-31\", \"2016-12-31\", \"2017-12-31\", \"2018-03-31\", \"2018-06-30\", \"2018-09-30\", \"2018-12-31\", \"2019-03-31\", \"2019-10-05\"], \"y\": [null, null, null, null, null, null, null, null, null, null, null, null, null, null, null]}, {\"name\": \"PE ratio\", \"type\": \"scatter\", \"x\": [\"2009-12-31\", \"2010-12-31\", \"2011-12-31\", \"2012-12-31\", \"2013-12-31\", \"2014-12-31\", \"2015-12-31\", \"2016-12-31\", \"2017-12-31\", \"2018-03-31\", \"2018-06-30\", \"2018-09-30\", \"2018-12-31\", \"2019-03-31\", \"2019-10-05\"], \"y\": [null, null, null, null, null, null, null, null, null, 14.9465, 15.7162, 15.3166, 12.2947, 15.7868, null]}, {\"name\": \"Price to Sales Ratio\", \"type\": \"scatter\", \"x\": [\"2009-12-31\", \"2010-12-31\", \"2011-12-31\", \"2012-12-31\", \"2013-12-31\", \"2014-12-31\", \"2015-12-31\", \"2016-12-31\", \"2017-12-31\", \"2018-03-31\", \"2018-06-30\", \"2018-09-30\", \"2018-12-31\", \"2019-03-31\", \"2019-10-05\"], \"y\": [null, null, null, null, null, null, null, null, null, 2.594, 2.3002, 2.6583, 2.3002, 2.9536, null]}, {\"name\": \"POCF ratio\", \"type\": \"scatter\", \"x\": [\"2009-12-31\", \"2010-12-31\", \"2011-12-31\", \"2012-12-31\", \"2013-12-31\", \"2014-12-31\", \"2015-12-31\", \"2016-12-31\", \"2017-12-31\", \"2018-03-31\", \"2018-06-30\", \"2018-09-30\", \"2018-12-31\", \"2019-03-31\", \"2019-10-05\"], \"y\": [null, null, null, null, null, null, null, null, null, 6.7495, 6.7495, 6.7495, 6.7495, 8.7232, null]}, {\"name\": \"PFCF ratio\", \"type\": \"scatter\", \"x\": [\"2009-12-31\", \"2010-12-31\", \"2011-12-31\", \"2012-12-31\", \"2013-12-31\", \"2014-12-31\", \"2015-12-31\", \"2016-12-31\", \"2017-12-31\", \"2018-03-31\", \"2018-06-30\", \"2018-09-30\", \"2018-12-31\", \"2019-03-31\", \"2019-10-05\"], \"y\": [null, null, null, null, null, null, null, null, null, 0.0, 0.0, 0.0, 0.0, 0.0, null]}, {\"name\": \"PB ratio\", \"type\": \"scatter\", \"x\": [\"2009-12-31\", \"2010-12-31\", \"2011-12-31\", \"2012-12-31\", \"2013-12-31\", \"2014-12-31\", \"2015-12-31\", \"2016-12-31\", \"2017-12-31\", \"2018-03-31\", \"2018-06-30\", \"2018-09-30\", \"2018-12-31\", \"2019-03-31\", \"2019-10-05\"], \"y\": [null, null, null, null, null, null, null, null, null, null, null, null, null, null, null]}, {\"name\": \"PTB ratio\", \"type\": \"scatter\", \"x\": [\"2009-12-31\", \"2010-12-31\", \"2011-12-31\", \"2012-12-31\", \"2013-12-31\", \"2014-12-31\", \"2015-12-31\", \"2016-12-31\", \"2017-12-31\", \"2018-03-31\", \"2018-06-30\", \"2018-09-30\", \"2018-12-31\", \"2019-03-31\", \"2019-10-05\"], \"y\": [null, null, null, null, null, null, null, null, null, null, null, null, null, null, null]}, {\"name\": \"EV to Sales\", \"type\": \"scatter\", \"x\": [\"2009-12-31\", \"2010-12-31\", \"2011-12-31\", \"2012-12-31\", \"2013-12-31\", \"2014-12-31\", \"2015-12-31\", \"2016-12-31\", \"2017-12-31\", \"2018-03-31\", \"2018-06-30\", \"2018-09-30\", \"2018-12-31\", \"2019-03-31\", \"2019-10-05\"], \"y\": [null, null, null, null, null, null, null, null, null, null, null, null, null, null, null]}, {\"name\": \"Enterprise Value over EBITDA\", \"type\": \"scatter\", \"x\": [\"2009-12-31\", \"2010-12-31\", \"2011-12-31\", \"2012-12-31\", \"2013-12-31\", \"2014-12-31\", \"2015-12-31\", \"2016-12-31\", \"2017-12-31\", \"2018-03-31\", \"2018-06-30\", \"2018-09-30\", \"2018-12-31\", \"2019-03-31\", \"2019-10-05\"], \"y\": [null, null, null, null, null, null, null, null, null, null, null, null, null, null, null]}, {\"name\": \"EV to Operating cash flow\", \"type\": \"scatter\", \"x\": [\"2009-12-31\", \"2010-12-31\", \"2011-12-31\", \"2012-12-31\", \"2013-12-31\", \"2014-12-31\", \"2015-12-31\", \"2016-12-31\", \"2017-12-31\", \"2018-03-31\", \"2018-06-30\", \"2018-09-30\", \"2018-12-31\", \"2019-03-31\", \"2019-10-05\"], \"y\": [null, null, null, null, null, null, null, null, null, null, null, null, null, null, null]}, {\"name\": \"EV to Free cash flow\", \"type\": \"scatter\", \"x\": [\"2009-12-31\", \"2010-12-31\", \"2011-12-31\", \"2012-12-31\", \"2013-12-31\", \"2014-12-31\", \"2015-12-31\", \"2016-12-31\", \"2017-12-31\", \"2018-03-31\", \"2018-06-30\", \"2018-09-30\", \"2018-12-31\", \"2019-03-31\", \"2019-10-05\"], \"y\": [null, null, null, null, null, null, null, null, null, null, null, null, null, null, null]}, {\"name\": \"Earnings Yield\", \"type\": \"scatter\", \"x\": [\"2009-12-31\", \"2010-12-31\", \"2011-12-31\", \"2012-12-31\", \"2013-12-31\", \"2014-12-31\", \"2015-12-31\", \"2016-12-31\", \"2017-12-31\", \"2018-03-31\", \"2018-06-30\", \"2018-09-30\", \"2018-12-31\", \"2019-03-31\", \"2019-10-05\"], \"y\": [null, null, null, null, null, null, null, null, null, 0.0669, 0.0636, 0.0813, 0.0813, 0.0633, null]}, {\"name\": \"Free Cash Flow Yield\", \"type\": \"scatter\", \"x\": [\"2009-12-31\", \"2010-12-31\", \"2011-12-31\", \"2012-12-31\", \"2013-12-31\", \"2014-12-31\", \"2015-12-31\", \"2016-12-31\", \"2017-12-31\", \"2018-03-31\", \"2018-06-30\", \"2018-09-30\", \"2018-12-31\", \"2019-03-31\", \"2019-10-05\"], \"y\": [null, null, null, null, null, null, null, null, null, -0.0653, -0.0653, -0.0653, -0.0653, -0.0505, null]}, {\"name\": \"Debt to Equity\", \"type\": \"scatter\", \"x\": [\"2009-12-31\", \"2010-12-31\", \"2011-12-31\", \"2012-12-31\", \"2013-12-31\", \"2014-12-31\", \"2015-12-31\", \"2016-12-31\", \"2017-12-31\", \"2018-03-31\", \"2018-06-30\", \"2018-09-30\", \"2018-12-31\", \"2019-03-31\", \"2019-10-05\"], \"y\": [null, null, null, null, null, null, null, null, null, null, null, null, null, null, null]}, {\"name\": \"Debt to Assets\", \"type\": \"scatter\", \"x\": [\"2009-12-31\", \"2010-12-31\", \"2011-12-31\", \"2012-12-31\", \"2013-12-31\", \"2014-12-31\", \"2015-12-31\", \"2016-12-31\", \"2017-12-31\", \"2018-03-31\", \"2018-06-30\", \"2018-09-30\", \"2018-12-31\", \"2019-03-31\", \"2019-10-05\"], \"y\": [null, null, null, null, null, null, null, null, null, null, null, null, null, null, null]}, {\"name\": \"Net Debt to EBITDA\", \"type\": \"scatter\", \"x\": [\"2009-12-31\", \"2010-12-31\", \"2011-12-31\", \"2012-12-31\", \"2013-12-31\", \"2014-12-31\", \"2015-12-31\", \"2016-12-31\", \"2017-12-31\", \"2018-03-31\", \"2018-06-30\", \"2018-09-30\", \"2018-12-31\", \"2019-03-31\", \"2019-10-05\"], \"y\": [null, null, null, null, null, null, null, null, null, null, null, null, null, null, null]}, {\"name\": \"Current ratio\", \"type\": \"scatter\", \"x\": [\"2009-12-31\", \"2010-12-31\", \"2011-12-31\", \"2012-12-31\", \"2013-12-31\", \"2014-12-31\", \"2015-12-31\", \"2016-12-31\", \"2017-12-31\", \"2018-03-31\", \"2018-06-30\", \"2018-09-30\", \"2018-12-31\", \"2019-03-31\", \"2019-10-05\"], \"y\": [null, null, null, null, null, null, null, null, null, null, null, null, null, null, null]}, {\"name\": \"Interest Coverage\", \"type\": \"scatter\", \"x\": [\"2009-12-31\", \"2010-12-31\", \"2011-12-31\", \"2012-12-31\", \"2013-12-31\", \"2014-12-31\", \"2015-12-31\", \"2016-12-31\", \"2017-12-31\", \"2018-03-31\", \"2018-06-30\", \"2018-09-30\", \"2018-12-31\", \"2019-03-31\", \"2019-10-05\"], \"y\": [null, null, null, null, null, null, null, null, null, null, -2.3781, -2.1889, -3.0580000000000003, -2.5785, null]}, {\"name\": \"Income Quality\", \"type\": \"scatter\", \"x\": [\"2009-12-31\", \"2010-12-31\", \"2011-12-31\", \"2012-12-31\", \"2013-12-31\", \"2014-12-31\", \"2015-12-31\", \"2016-12-31\", \"2017-12-31\", \"2018-03-31\", \"2018-06-30\", \"2018-09-30\", \"2018-12-31\", \"2019-03-31\", \"2019-10-05\"], \"y\": [null, null, null, null, null, null, null, null, null, 1.9237, 4.0981, 4.8664, 7.2173, 1.9412, null]}, {\"name\": \"Dividend Yield\", \"type\": \"scatter\", \"x\": [\"2009-12-31\", \"2010-12-31\", \"2011-12-31\", \"2012-12-31\", \"2013-12-31\", \"2014-12-31\", \"2015-12-31\", \"2016-12-31\", \"2017-12-31\", \"2018-03-31\", \"2018-06-30\", \"2018-09-30\", \"2018-12-31\", \"2019-03-31\", \"2019-10-05\"], \"y\": [null, null, null, null, null, null, null, null, null, 0.0377, 0.0435, 0.0435, 0.0435, 0.0339, null]}, {\"name\": \"Payout Ratio\", \"type\": \"scatter\", \"x\": [\"2009-12-31\", \"2010-12-31\", \"2011-12-31\", \"2012-12-31\", \"2013-12-31\", \"2014-12-31\", \"2015-12-31\", \"2016-12-31\", \"2017-12-31\", \"2018-03-31\", \"2018-06-30\", \"2018-09-30\", \"2018-12-31\", \"2019-03-31\", \"2019-10-05\"], \"y\": [null, null, null, null, null, null, null, null, null, null, null, null, null, null, null]}, {\"name\": \"SG&A to Revenue\", \"type\": \"scatter\", \"x\": [\"2009-12-31\", \"2010-12-31\", \"2011-12-31\", \"2012-12-31\", \"2013-12-31\", \"2014-12-31\", \"2015-12-31\", \"2016-12-31\", \"2017-12-31\", \"2018-03-31\", \"2018-06-30\", \"2018-09-30\", \"2018-12-31\", \"2019-03-31\", \"2019-10-05\"], \"y\": [null, null, null, null, null, null, null, null, null, null, null, null, null, null, null]}, {\"name\": \"R&D to Revenue\", \"type\": \"scatter\", \"x\": [\"2009-12-31\", \"2010-12-31\", \"2011-12-31\", \"2012-12-31\", \"2013-12-31\", \"2014-12-31\", \"2015-12-31\", \"2016-12-31\", \"2017-12-31\", \"2018-03-31\", \"2018-06-30\", \"2018-09-30\", \"2018-12-31\", \"2019-03-31\", \"2019-10-05\"], \"y\": [null, null, null, null, null, null, null, null, null, null, null, null, null, null, null]}, {\"name\": \"Intangibles to Total Assets\", \"type\": \"scatter\", \"x\": [\"2009-12-31\", \"2010-12-31\", \"2011-12-31\", \"2012-12-31\", \"2013-12-31\", \"2014-12-31\", \"2015-12-31\", \"2016-12-31\", \"2017-12-31\", \"2018-03-31\", \"2018-06-30\", \"2018-09-30\", \"2018-12-31\", \"2019-03-31\", \"2019-10-05\"], \"y\": [null, null, null, null, null, null, null, null, null, null, 0.11199999999999999, 0.0151, 0.0, 0.0137, null]}, {\"name\": \"Capex to Operating Cash Flow\", \"type\": \"scatter\", \"x\": [\"2009-12-31\", \"2010-12-31\", \"2011-12-31\", \"2012-12-31\", \"2013-12-31\", \"2014-12-31\", \"2015-12-31\", \"2016-12-31\", \"2017-12-31\", \"2018-03-31\", \"2018-06-30\", \"2018-09-30\", \"2018-12-31\", \"2019-03-31\", \"2019-10-05\"], \"y\": [null, null, null, null, null, null, null, null, null, 1.2309, 1.2903, 1.4865, 1.485, 1.1216, null]}, {\"name\": \"Capex to Revenue\", \"type\": \"scatter\", \"x\": [\"2009-12-31\", \"2010-12-31\", \"2011-12-31\", \"2012-12-31\", \"2013-12-31\", \"2014-12-31\", \"2015-12-31\", \"2016-12-31\", \"2017-12-31\", \"2018-03-31\", \"2018-06-30\", \"2018-09-30\", \"2018-12-31\", \"2019-03-31\", \"2019-10-05\"], \"y\": [null, null, null, null, null, null, null, null, null, 0.5076, 1.2992, 2.1271, 2.5394, 0.6269, null]}, {\"name\": \"Capex to Depreciation\", \"type\": \"scatter\", \"x\": [\"2009-12-31\", \"2010-12-31\", \"2011-12-31\", \"2012-12-31\", \"2013-12-31\", \"2014-12-31\", \"2015-12-31\", \"2016-12-31\", \"2017-12-31\", \"2018-03-31\", \"2018-06-30\", \"2018-09-30\", \"2018-12-31\", \"2019-03-31\", \"2019-10-05\"], \"y\": [null, null, null, null, null, null, null, null, null, -3.2486, -3.7566, -11.9025, -14.558, -3.5954, null]}, {\"name\": \"Stock-based compensation to Revenue\", \"type\": \"scatter\", \"x\": [\"2009-12-31\", \"2010-12-31\", \"2011-12-31\", \"2012-12-31\", \"2013-12-31\", \"2014-12-31\", \"2015-12-31\", \"2016-12-31\", \"2017-12-31\", \"2018-03-31\", \"2018-06-30\", \"2018-09-30\", \"2018-12-31\", \"2019-03-31\", \"2019-10-05\"], \"y\": [null, null, null, null, null, null, null, null, null, null, null, null, null, null, null]}, {\"name\": \"Graham Number\", \"type\": \"scatter\", \"x\": [\"2009-12-31\", \"2010-12-31\", \"2011-12-31\", \"2012-12-31\", \"2013-12-31\", \"2014-12-31\", \"2015-12-31\", \"2016-12-31\", \"2017-12-31\", \"2018-03-31\", \"2018-06-30\", \"2018-09-30\", \"2018-12-31\", \"2019-03-31\", \"2019-10-05\"], \"y\": [null, null, null, null, null, null, null, null, null, null, null, null, null, null, null]}, {\"name\": \"Graham Net-Net\", \"type\": \"scatter\", \"x\": [\"2009-12-31\", \"2010-12-31\", \"2011-12-31\", \"2012-12-31\", \"2013-12-31\", \"2014-12-31\", \"2015-12-31\", \"2016-12-31\", \"2017-12-31\", \"2018-03-31\", \"2018-06-30\", \"2018-09-30\", \"2018-12-31\", \"2019-03-31\", \"2019-10-05\"], \"y\": [null, null, null, null, null, null, null, null, null, -1.5631, -1.5065, -1.5629, -1.9062, -1.4908, null]}, {\"name\": \"Working Capital\", \"type\": \"scatter\", \"x\": [\"2009-12-31\", \"2010-12-31\", \"2011-12-31\", \"2012-12-31\", \"2013-12-31\", \"2014-12-31\", \"2015-12-31\", \"2016-12-31\", \"2017-12-31\", \"2018-03-31\", \"2018-06-30\", \"2018-09-30\", \"2018-12-31\", \"2019-03-31\", \"2019-10-05\"], \"y\": [null, null, null, null, null, null, null, null, null, null, null, null, null, null, null]}, {\"name\": \"Tangible Asset Value\", \"type\": \"scatter\", \"x\": [\"2009-12-31\", \"2010-12-31\", \"2011-12-31\", \"2012-12-31\", \"2013-12-31\", \"2014-12-31\", \"2015-12-31\", \"2016-12-31\", \"2017-12-31\", \"2018-03-31\", \"2018-06-30\", \"2018-09-30\", \"2018-12-31\", \"2019-03-31\", \"2019-10-05\"], \"y\": [null, null, null, null, null, null, null, null, null, null, 5936131662.3886, 6596480442.6343, 8203096338.6896, 7456370309.3401, null]}, {\"name\": \"Net Current Asset Value\", \"type\": \"scatter\", \"x\": [\"2009-12-31\", \"2010-12-31\", \"2011-12-31\", \"2012-12-31\", \"2013-12-31\", \"2014-12-31\", \"2015-12-31\", \"2016-12-31\", \"2017-12-31\", \"2018-03-31\", \"2018-06-30\", \"2018-09-30\", \"2018-12-31\", \"2019-03-31\", \"2019-10-05\"], \"y\": [null, null, null, null, null, null, null, null, null, -56253000000.0, -57837000000.0, -59127000000.0, -62470000000.0, -63145000000.0, null]}, {\"name\": \"Invested Capital\", \"type\": \"scatter\", \"x\": [\"2009-12-31\", \"2010-12-31\", \"2011-12-31\", \"2012-12-31\", \"2013-12-31\", \"2014-12-31\", \"2015-12-31\", \"2016-12-31\", \"2017-12-31\", \"2018-03-31\", \"2018-06-30\", \"2018-09-30\", \"2018-12-31\", \"2019-03-31\", \"2019-10-05\"], \"y\": [null, null, null, null, null, null, null, null, null, null, null, null, null, null, null]}, {\"name\": \"Average Receivables\", \"type\": \"scatter\", \"x\": [\"2009-12-31\", \"2010-12-31\", \"2011-12-31\", \"2012-12-31\", \"2013-12-31\", \"2014-12-31\", \"2015-12-31\", \"2016-12-31\", \"2017-12-31\", \"2018-03-31\", \"2018-06-30\", \"2018-09-30\", \"2018-12-31\", \"2019-03-31\", \"2019-10-05\"], \"y\": [null, null, null, null, null, null, null, null, null, null, null, null, null, 2211000000.0, null]}, {\"name\": \"Average Payables\", \"type\": \"scatter\", \"x\": [\"2009-12-31\", \"2010-12-31\", \"2011-12-31\", \"2012-12-31\", \"2013-12-31\", \"2014-12-31\", \"2015-12-31\", \"2016-12-31\", \"2017-12-31\", \"2018-03-31\", \"2018-06-30\", \"2018-09-30\", \"2018-12-31\", \"2019-03-31\", \"2019-10-05\"], \"y\": [null, null, null, null, null, null, null, null, null, null, null, null, null, 3822500000.0, null]}, {\"name\": \"Average Inventory\", \"type\": \"scatter\", \"x\": [\"2009-12-31\", \"2010-12-31\", \"2011-12-31\", \"2012-12-31\", \"2013-12-31\", \"2014-12-31\", \"2015-12-31\", \"2016-12-31\", \"2017-12-31\", \"2018-03-31\", \"2018-06-30\", \"2018-09-30\", \"2018-12-31\", \"2019-03-31\", \"2019-10-05\"], \"y\": [null, null, null, null, null, null, null, null, null, null, null, null, null, 395500000.0, null]}, {\"name\": \"Capex per Share\", \"type\": \"scatter\", \"x\": [\"2009-12-31\", \"2010-12-31\", \"2011-12-31\", \"2012-12-31\", \"2013-12-31\", \"2014-12-31\", \"2015-12-31\", \"2016-12-31\", \"2017-12-31\", \"2018-03-31\", \"2018-06-30\", \"2018-09-30\", \"2018-12-31\", \"2019-03-31\", \"2019-10-05\"], \"y\": [null, null, null, null, null, null, null, null, null, null, null, null, null, null, null]}],\n",
       "                        {\"template\": {\"data\": {\"bar\": [{\"error_x\": {\"color\": \"#2a3f5f\"}, \"error_y\": {\"color\": \"#2a3f5f\"}, \"marker\": {\"line\": {\"color\": \"#E5ECF6\", \"width\": 0.5}}, \"type\": \"bar\"}], \"barpolar\": [{\"marker\": {\"line\": {\"color\": \"#E5ECF6\", \"width\": 0.5}}, \"type\": \"barpolar\"}], \"carpet\": [{\"aaxis\": {\"endlinecolor\": \"#2a3f5f\", \"gridcolor\": \"white\", \"linecolor\": \"white\", \"minorgridcolor\": \"white\", \"startlinecolor\": \"#2a3f5f\"}, \"baxis\": {\"endlinecolor\": \"#2a3f5f\", \"gridcolor\": \"white\", \"linecolor\": \"white\", \"minorgridcolor\": \"white\", \"startlinecolor\": \"#2a3f5f\"}, \"type\": \"carpet\"}], \"choropleth\": [{\"colorbar\": {\"outlinewidth\": 0, \"ticks\": \"\"}, \"type\": \"choropleth\"}], \"contour\": [{\"colorbar\": {\"outlinewidth\": 0, \"ticks\": \"\"}, \"colorscale\": [[0.0, \"#0d0887\"], [0.1111111111111111, \"#46039f\"], [0.2222222222222222, \"#7201a8\"], [0.3333333333333333, \"#9c179e\"], [0.4444444444444444, \"#bd3786\"], [0.5555555555555556, \"#d8576b\"], [0.6666666666666666, \"#ed7953\"], [0.7777777777777778, \"#fb9f3a\"], [0.8888888888888888, \"#fdca26\"], [1.0, \"#f0f921\"]], \"type\": \"contour\"}], \"contourcarpet\": [{\"colorbar\": {\"outlinewidth\": 0, \"ticks\": \"\"}, \"type\": \"contourcarpet\"}], \"heatmap\": [{\"colorbar\": {\"outlinewidth\": 0, \"ticks\": \"\"}, \"colorscale\": [[0.0, \"#0d0887\"], [0.1111111111111111, \"#46039f\"], [0.2222222222222222, \"#7201a8\"], [0.3333333333333333, \"#9c179e\"], [0.4444444444444444, \"#bd3786\"], [0.5555555555555556, \"#d8576b\"], [0.6666666666666666, \"#ed7953\"], [0.7777777777777778, \"#fb9f3a\"], [0.8888888888888888, \"#fdca26\"], [1.0, \"#f0f921\"]], \"type\": \"heatmap\"}], \"heatmapgl\": [{\"colorbar\": {\"outlinewidth\": 0, \"ticks\": \"\"}, \"colorscale\": [[0.0, \"#0d0887\"], [0.1111111111111111, \"#46039f\"], [0.2222222222222222, \"#7201a8\"], [0.3333333333333333, \"#9c179e\"], [0.4444444444444444, \"#bd3786\"], [0.5555555555555556, \"#d8576b\"], [0.6666666666666666, \"#ed7953\"], [0.7777777777777778, \"#fb9f3a\"], [0.8888888888888888, \"#fdca26\"], [1.0, \"#f0f921\"]], \"type\": \"heatmapgl\"}], \"histogram\": [{\"marker\": {\"colorbar\": {\"outlinewidth\": 0, \"ticks\": \"\"}}, \"type\": \"histogram\"}], \"histogram2d\": [{\"colorbar\": {\"outlinewidth\": 0, \"ticks\": \"\"}, \"colorscale\": [[0.0, \"#0d0887\"], [0.1111111111111111, \"#46039f\"], [0.2222222222222222, \"#7201a8\"], [0.3333333333333333, \"#9c179e\"], [0.4444444444444444, \"#bd3786\"], [0.5555555555555556, \"#d8576b\"], [0.6666666666666666, \"#ed7953\"], [0.7777777777777778, \"#fb9f3a\"], [0.8888888888888888, \"#fdca26\"], [1.0, \"#f0f921\"]], \"type\": \"histogram2d\"}], \"histogram2dcontour\": [{\"colorbar\": {\"outlinewidth\": 0, \"ticks\": \"\"}, \"colorscale\": [[0.0, \"#0d0887\"], [0.1111111111111111, \"#46039f\"], [0.2222222222222222, \"#7201a8\"], [0.3333333333333333, \"#9c179e\"], [0.4444444444444444, \"#bd3786\"], [0.5555555555555556, \"#d8576b\"], [0.6666666666666666, \"#ed7953\"], [0.7777777777777778, \"#fb9f3a\"], [0.8888888888888888, \"#fdca26\"], [1.0, \"#f0f921\"]], \"type\": \"histogram2dcontour\"}], \"mesh3d\": [{\"colorbar\": {\"outlinewidth\": 0, \"ticks\": \"\"}, \"type\": \"mesh3d\"}], \"parcoords\": [{\"line\": {\"colorbar\": {\"outlinewidth\": 0, \"ticks\": \"\"}}, \"type\": \"parcoords\"}], \"scatter\": [{\"marker\": {\"colorbar\": {\"outlinewidth\": 0, \"ticks\": \"\"}}, \"type\": \"scatter\"}], \"scatter3d\": [{\"line\": {\"colorbar\": {\"outlinewidth\": 0, \"ticks\": \"\"}}, \"marker\": {\"colorbar\": {\"outlinewidth\": 0, \"ticks\": \"\"}}, \"type\": \"scatter3d\"}], \"scattercarpet\": [{\"marker\": {\"colorbar\": {\"outlinewidth\": 0, \"ticks\": \"\"}}, \"type\": \"scattercarpet\"}], \"scattergeo\": [{\"marker\": {\"colorbar\": {\"outlinewidth\": 0, \"ticks\": \"\"}}, \"type\": \"scattergeo\"}], \"scattergl\": [{\"marker\": {\"colorbar\": {\"outlinewidth\": 0, \"ticks\": \"\"}}, \"type\": \"scattergl\"}], \"scattermapbox\": [{\"marker\": {\"colorbar\": {\"outlinewidth\": 0, \"ticks\": \"\"}}, \"type\": \"scattermapbox\"}], \"scatterpolar\": [{\"marker\": {\"colorbar\": {\"outlinewidth\": 0, \"ticks\": \"\"}}, \"type\": \"scatterpolar\"}], \"scatterpolargl\": [{\"marker\": {\"colorbar\": {\"outlinewidth\": 0, \"ticks\": \"\"}}, \"type\": \"scatterpolargl\"}], \"scatterternary\": [{\"marker\": {\"colorbar\": {\"outlinewidth\": 0, \"ticks\": \"\"}}, \"type\": \"scatterternary\"}], \"surface\": [{\"colorbar\": {\"outlinewidth\": 0, \"ticks\": \"\"}, \"colorscale\": [[0.0, \"#0d0887\"], [0.1111111111111111, \"#46039f\"], [0.2222222222222222, \"#7201a8\"], [0.3333333333333333, \"#9c179e\"], [0.4444444444444444, \"#bd3786\"], [0.5555555555555556, \"#d8576b\"], [0.6666666666666666, \"#ed7953\"], [0.7777777777777778, \"#fb9f3a\"], [0.8888888888888888, \"#fdca26\"], [1.0, \"#f0f921\"]], \"type\": \"surface\"}], \"table\": [{\"cells\": {\"fill\": {\"color\": \"#EBF0F8\"}, \"line\": {\"color\": \"white\"}}, \"header\": {\"fill\": {\"color\": \"#C8D4E3\"}, \"line\": {\"color\": \"white\"}}, \"type\": \"table\"}]}, \"layout\": {\"annotationdefaults\": {\"arrowcolor\": \"#2a3f5f\", \"arrowhead\": 0, \"arrowwidth\": 1}, \"colorscale\": {\"diverging\": [[0, \"#8e0152\"], [0.1, \"#c51b7d\"], [0.2, \"#de77ae\"], [0.3, \"#f1b6da\"], [0.4, \"#fde0ef\"], [0.5, \"#f7f7f7\"], [0.6, \"#e6f5d0\"], [0.7, \"#b8e186\"], [0.8, \"#7fbc41\"], [0.9, \"#4d9221\"], [1, \"#276419\"]], \"sequential\": [[0.0, \"#0d0887\"], [0.1111111111111111, \"#46039f\"], [0.2222222222222222, \"#7201a8\"], [0.3333333333333333, \"#9c179e\"], [0.4444444444444444, \"#bd3786\"], [0.5555555555555556, \"#d8576b\"], [0.6666666666666666, \"#ed7953\"], [0.7777777777777778, \"#fb9f3a\"], [0.8888888888888888, \"#fdca26\"], [1.0, \"#f0f921\"]], \"sequentialminus\": [[0.0, \"#0d0887\"], [0.1111111111111111, \"#46039f\"], [0.2222222222222222, \"#7201a8\"], [0.3333333333333333, \"#9c179e\"], [0.4444444444444444, \"#bd3786\"], [0.5555555555555556, \"#d8576b\"], [0.6666666666666666, \"#ed7953\"], [0.7777777777777778, \"#fb9f3a\"], [0.8888888888888888, \"#fdca26\"], [1.0, \"#f0f921\"]]}, \"colorway\": [\"#636efa\", \"#EF553B\", \"#00cc96\", \"#ab63fa\", \"#FFA15A\", \"#19d3f3\", \"#FF6692\", \"#B6E880\", \"#FF97FF\", \"#FECB52\"], \"font\": {\"color\": \"#2a3f5f\"}, \"geo\": {\"bgcolor\": \"white\", \"lakecolor\": \"white\", \"landcolor\": \"#E5ECF6\", \"showlakes\": true, \"showland\": true, \"subunitcolor\": \"white\"}, \"hoverlabel\": {\"align\": \"left\"}, \"hovermode\": \"closest\", \"mapbox\": {\"style\": \"light\"}, \"paper_bgcolor\": \"white\", \"plot_bgcolor\": \"#E5ECF6\", \"polar\": {\"angularaxis\": {\"gridcolor\": \"white\", \"linecolor\": \"white\", \"ticks\": \"\"}, \"bgcolor\": \"#E5ECF6\", \"radialaxis\": {\"gridcolor\": \"white\", \"linecolor\": \"white\", \"ticks\": \"\"}}, \"scene\": {\"xaxis\": {\"backgroundcolor\": \"#E5ECF6\", \"gridcolor\": \"white\", \"gridwidth\": 2, \"linecolor\": \"white\", \"showbackground\": true, \"ticks\": \"\", \"zerolinecolor\": \"white\"}, \"yaxis\": {\"backgroundcolor\": \"#E5ECF6\", \"gridcolor\": \"white\", \"gridwidth\": 2, \"linecolor\": \"white\", \"showbackground\": true, \"ticks\": \"\", \"zerolinecolor\": \"white\"}, \"zaxis\": {\"backgroundcolor\": \"#E5ECF6\", \"gridcolor\": \"white\", \"gridwidth\": 2, \"linecolor\": \"white\", \"showbackground\": true, \"ticks\": \"\", \"zerolinecolor\": \"white\"}}, \"shapedefaults\": {\"line\": {\"color\": \"#2a3f5f\"}}, \"ternary\": {\"aaxis\": {\"gridcolor\": \"white\", \"linecolor\": \"white\", \"ticks\": \"\"}, \"baxis\": {\"gridcolor\": \"white\", \"linecolor\": \"white\", \"ticks\": \"\"}, \"bgcolor\": \"#E5ECF6\", \"caxis\": {\"gridcolor\": \"white\", \"linecolor\": \"white\", \"ticks\": \"\"}}, \"title\": {\"x\": 0.05}, \"xaxis\": {\"automargin\": true, \"gridcolor\": \"white\", \"linecolor\": \"white\", \"ticks\": \"\", \"zerolinecolor\": \"white\", \"zerolinewidth\": 2}, \"yaxis\": {\"automargin\": true, \"gridcolor\": \"white\", \"linecolor\": \"white\", \"ticks\": \"\", \"zerolinecolor\": \"white\", \"zerolinewidth\": 2}}}},\n",
       "                        {\"responsive\": true}\n",
       "                    ).then(function(){\n",
       "                            \n",
       "var gd = document.getElementById('2a8bd9f0-b098-4188-be3c-cc218b7ff01f');\n",
       "var x = new MutationObserver(function (mutations, observer) {{\n",
       "        var display = window.getComputedStyle(gd).display;\n",
       "        if (!display || display === 'none') {{\n",
       "            console.log([gd, 'removed!']);\n",
       "            Plotly.purge(gd);\n",
       "            observer.disconnect();\n",
       "        }}\n",
       "}});\n",
       "\n",
       "// Listen for the removal of the full notebook cells\n",
       "var notebookContainer = gd.closest('#notebook-container');\n",
       "if (notebookContainer) {{\n",
       "    x.observe(notebookContainer, {childList: true});\n",
       "}}\n",
       "\n",
       "// Listen for the clearing of the current output cell\n",
       "var outputEl = gd.closest('.output');\n",
       "if (outputEl) {{\n",
       "    x.observe(outputEl, {childList: true});\n",
       "}}\n",
       "\n",
       "                        })\n",
       "                };\n",
       "                });\n",
       "            </script>\n",
       "        </div>"
      ]
     },
     "metadata": {},
     "output_type": "display_data"
    }
   ],
   "source": [
    "fig = go.Figure()\n",
    "for indicator in df_stock.columns:\n",
    "    fig.add_trace(go.Scatter(\n",
    "        x=df_stock['index'],\n",
    "        y=df_stock[indicator],\n",
    "        name=indicator))\n",
    "fig.show()"
   ]
  },
  {
   "cell_type": "code",
   "execution_count": 112,
   "metadata": {
    "Collapsed": "false"
   },
   "outputs": [
    {
     "data": {
      "application/vnd.plotly.v1+json": {
       "config": {
        "plotlyServerURL": "https://plot.ly"
       },
       "data": [
        {
         "name": "Capex per Share",
         "type": "scatter",
         "x": [
          "2009-12-31",
          "2010-12-31",
          "2011-12-31",
          "2012-12-31",
          "2013-12-31",
          "2014-12-31",
          "2015-12-31",
          "2016-12-31",
          "2017-12-31",
          "2018-03-31",
          "2018-06-30",
          "2018-09-30",
          "2018-12-31",
          "2019-03-31",
          "2019-10-05"
         ],
         "y": [
          null,
          null,
          null,
          null,
          null,
          null,
          null,
          null,
          null,
          null,
          40.8189,
          40.3076,
          35.2597,
          45.84,
          null
         ]
        }
       ],
       "layout": {
        "autosize": true,
        "template": {
         "data": {
          "bar": [
           {
            "error_x": {
             "color": "#2a3f5f"
            },
            "error_y": {
             "color": "#2a3f5f"
            },
            "marker": {
             "line": {
              "color": "#E5ECF6",
              "width": 0.5
             }
            },
            "type": "bar"
           }
          ],
          "barpolar": [
           {
            "marker": {
             "line": {
              "color": "#E5ECF6",
              "width": 0.5
             }
            },
            "type": "barpolar"
           }
          ],
          "carpet": [
           {
            "aaxis": {
             "endlinecolor": "#2a3f5f",
             "gridcolor": "white",
             "linecolor": "white",
             "minorgridcolor": "white",
             "startlinecolor": "#2a3f5f"
            },
            "baxis": {
             "endlinecolor": "#2a3f5f",
             "gridcolor": "white",
             "linecolor": "white",
             "minorgridcolor": "white",
             "startlinecolor": "#2a3f5f"
            },
            "type": "carpet"
           }
          ],
          "choropleth": [
           {
            "colorbar": {
             "outlinewidth": 0,
             "ticks": ""
            },
            "type": "choropleth"
           }
          ],
          "contour": [
           {
            "colorbar": {
             "outlinewidth": 0,
             "ticks": ""
            },
            "colorscale": [
             [
              0,
              "#0d0887"
             ],
             [
              0.1111111111111111,
              "#46039f"
             ],
             [
              0.2222222222222222,
              "#7201a8"
             ],
             [
              0.3333333333333333,
              "#9c179e"
             ],
             [
              0.4444444444444444,
              "#bd3786"
             ],
             [
              0.5555555555555556,
              "#d8576b"
             ],
             [
              0.6666666666666666,
              "#ed7953"
             ],
             [
              0.7777777777777778,
              "#fb9f3a"
             ],
             [
              0.8888888888888888,
              "#fdca26"
             ],
             [
              1,
              "#f0f921"
             ]
            ],
            "type": "contour"
           }
          ],
          "contourcarpet": [
           {
            "colorbar": {
             "outlinewidth": 0,
             "ticks": ""
            },
            "type": "contourcarpet"
           }
          ],
          "heatmap": [
           {
            "colorbar": {
             "outlinewidth": 0,
             "ticks": ""
            },
            "colorscale": [
             [
              0,
              "#0d0887"
             ],
             [
              0.1111111111111111,
              "#46039f"
             ],
             [
              0.2222222222222222,
              "#7201a8"
             ],
             [
              0.3333333333333333,
              "#9c179e"
             ],
             [
              0.4444444444444444,
              "#bd3786"
             ],
             [
              0.5555555555555556,
              "#d8576b"
             ],
             [
              0.6666666666666666,
              "#ed7953"
             ],
             [
              0.7777777777777778,
              "#fb9f3a"
             ],
             [
              0.8888888888888888,
              "#fdca26"
             ],
             [
              1,
              "#f0f921"
             ]
            ],
            "type": "heatmap"
           }
          ],
          "heatmapgl": [
           {
            "colorbar": {
             "outlinewidth": 0,
             "ticks": ""
            },
            "colorscale": [
             [
              0,
              "#0d0887"
             ],
             [
              0.1111111111111111,
              "#46039f"
             ],
             [
              0.2222222222222222,
              "#7201a8"
             ],
             [
              0.3333333333333333,
              "#9c179e"
             ],
             [
              0.4444444444444444,
              "#bd3786"
             ],
             [
              0.5555555555555556,
              "#d8576b"
             ],
             [
              0.6666666666666666,
              "#ed7953"
             ],
             [
              0.7777777777777778,
              "#fb9f3a"
             ],
             [
              0.8888888888888888,
              "#fdca26"
             ],
             [
              1,
              "#f0f921"
             ]
            ],
            "type": "heatmapgl"
           }
          ],
          "histogram": [
           {
            "marker": {
             "colorbar": {
              "outlinewidth": 0,
              "ticks": ""
             }
            },
            "type": "histogram"
           }
          ],
          "histogram2d": [
           {
            "colorbar": {
             "outlinewidth": 0,
             "ticks": ""
            },
            "colorscale": [
             [
              0,
              "#0d0887"
             ],
             [
              0.1111111111111111,
              "#46039f"
             ],
             [
              0.2222222222222222,
              "#7201a8"
             ],
             [
              0.3333333333333333,
              "#9c179e"
             ],
             [
              0.4444444444444444,
              "#bd3786"
             ],
             [
              0.5555555555555556,
              "#d8576b"
             ],
             [
              0.6666666666666666,
              "#ed7953"
             ],
             [
              0.7777777777777778,
              "#fb9f3a"
             ],
             [
              0.8888888888888888,
              "#fdca26"
             ],
             [
              1,
              "#f0f921"
             ]
            ],
            "type": "histogram2d"
           }
          ],
          "histogram2dcontour": [
           {
            "colorbar": {
             "outlinewidth": 0,
             "ticks": ""
            },
            "colorscale": [
             [
              0,
              "#0d0887"
             ],
             [
              0.1111111111111111,
              "#46039f"
             ],
             [
              0.2222222222222222,
              "#7201a8"
             ],
             [
              0.3333333333333333,
              "#9c179e"
             ],
             [
              0.4444444444444444,
              "#bd3786"
             ],
             [
              0.5555555555555556,
              "#d8576b"
             ],
             [
              0.6666666666666666,
              "#ed7953"
             ],
             [
              0.7777777777777778,
              "#fb9f3a"
             ],
             [
              0.8888888888888888,
              "#fdca26"
             ],
             [
              1,
              "#f0f921"
             ]
            ],
            "type": "histogram2dcontour"
           }
          ],
          "mesh3d": [
           {
            "colorbar": {
             "outlinewidth": 0,
             "ticks": ""
            },
            "type": "mesh3d"
           }
          ],
          "parcoords": [
           {
            "line": {
             "colorbar": {
              "outlinewidth": 0,
              "ticks": ""
             }
            },
            "type": "parcoords"
           }
          ],
          "scatter": [
           {
            "marker": {
             "colorbar": {
              "outlinewidth": 0,
              "ticks": ""
             }
            },
            "type": "scatter"
           }
          ],
          "scatter3d": [
           {
            "line": {
             "colorbar": {
              "outlinewidth": 0,
              "ticks": ""
             }
            },
            "marker": {
             "colorbar": {
              "outlinewidth": 0,
              "ticks": ""
             }
            },
            "type": "scatter3d"
           }
          ],
          "scattercarpet": [
           {
            "marker": {
             "colorbar": {
              "outlinewidth": 0,
              "ticks": ""
             }
            },
            "type": "scattercarpet"
           }
          ],
          "scattergeo": [
           {
            "marker": {
             "colorbar": {
              "outlinewidth": 0,
              "ticks": ""
             }
            },
            "type": "scattergeo"
           }
          ],
          "scattergl": [
           {
            "marker": {
             "colorbar": {
              "outlinewidth": 0,
              "ticks": ""
             }
            },
            "type": "scattergl"
           }
          ],
          "scattermapbox": [
           {
            "marker": {
             "colorbar": {
              "outlinewidth": 0,
              "ticks": ""
             }
            },
            "type": "scattermapbox"
           }
          ],
          "scatterpolar": [
           {
            "marker": {
             "colorbar": {
              "outlinewidth": 0,
              "ticks": ""
             }
            },
            "type": "scatterpolar"
           }
          ],
          "scatterpolargl": [
           {
            "marker": {
             "colorbar": {
              "outlinewidth": 0,
              "ticks": ""
             }
            },
            "type": "scatterpolargl"
           }
          ],
          "scatterternary": [
           {
            "marker": {
             "colorbar": {
              "outlinewidth": 0,
              "ticks": ""
             }
            },
            "type": "scatterternary"
           }
          ],
          "surface": [
           {
            "colorbar": {
             "outlinewidth": 0,
             "ticks": ""
            },
            "colorscale": [
             [
              0,
              "#0d0887"
             ],
             [
              0.1111111111111111,
              "#46039f"
             ],
             [
              0.2222222222222222,
              "#7201a8"
             ],
             [
              0.3333333333333333,
              "#9c179e"
             ],
             [
              0.4444444444444444,
              "#bd3786"
             ],
             [
              0.5555555555555556,
              "#d8576b"
             ],
             [
              0.6666666666666666,
              "#ed7953"
             ],
             [
              0.7777777777777778,
              "#fb9f3a"
             ],
             [
              0.8888888888888888,
              "#fdca26"
             ],
             [
              1,
              "#f0f921"
             ]
            ],
            "type": "surface"
           }
          ],
          "table": [
           {
            "cells": {
             "fill": {
              "color": "#EBF0F8"
             },
             "line": {
              "color": "white"
             }
            },
            "header": {
             "fill": {
              "color": "#C8D4E3"
             },
             "line": {
              "color": "white"
             }
            },
            "type": "table"
           }
          ]
         },
         "layout": {
          "annotationdefaults": {
           "arrowcolor": "#2a3f5f",
           "arrowhead": 0,
           "arrowwidth": 1
          },
          "colorscale": {
           "diverging": [
            [
             0,
             "#8e0152"
            ],
            [
             0.1,
             "#c51b7d"
            ],
            [
             0.2,
             "#de77ae"
            ],
            [
             0.3,
             "#f1b6da"
            ],
            [
             0.4,
             "#fde0ef"
            ],
            [
             0.5,
             "#f7f7f7"
            ],
            [
             0.6,
             "#e6f5d0"
            ],
            [
             0.7,
             "#b8e186"
            ],
            [
             0.8,
             "#7fbc41"
            ],
            [
             0.9,
             "#4d9221"
            ],
            [
             1,
             "#276419"
            ]
           ],
           "sequential": [
            [
             0,
             "#0d0887"
            ],
            [
             0.1111111111111111,
             "#46039f"
            ],
            [
             0.2222222222222222,
             "#7201a8"
            ],
            [
             0.3333333333333333,
             "#9c179e"
            ],
            [
             0.4444444444444444,
             "#bd3786"
            ],
            [
             0.5555555555555556,
             "#d8576b"
            ],
            [
             0.6666666666666666,
             "#ed7953"
            ],
            [
             0.7777777777777778,
             "#fb9f3a"
            ],
            [
             0.8888888888888888,
             "#fdca26"
            ],
            [
             1,
             "#f0f921"
            ]
           ],
           "sequentialminus": [
            [
             0,
             "#0d0887"
            ],
            [
             0.1111111111111111,
             "#46039f"
            ],
            [
             0.2222222222222222,
             "#7201a8"
            ],
            [
             0.3333333333333333,
             "#9c179e"
            ],
            [
             0.4444444444444444,
             "#bd3786"
            ],
            [
             0.5555555555555556,
             "#d8576b"
            ],
            [
             0.6666666666666666,
             "#ed7953"
            ],
            [
             0.7777777777777778,
             "#fb9f3a"
            ],
            [
             0.8888888888888888,
             "#fdca26"
            ],
            [
             1,
             "#f0f921"
            ]
           ]
          },
          "colorway": [
           "#636efa",
           "#EF553B",
           "#00cc96",
           "#ab63fa",
           "#FFA15A",
           "#19d3f3",
           "#FF6692",
           "#B6E880",
           "#FF97FF",
           "#FECB52"
          ],
          "font": {
           "color": "#2a3f5f"
          },
          "geo": {
           "bgcolor": "white",
           "lakecolor": "white",
           "landcolor": "#E5ECF6",
           "showlakes": true,
           "showland": true,
           "subunitcolor": "white"
          },
          "hoverlabel": {
           "align": "left"
          },
          "hovermode": "closest",
          "mapbox": {
           "style": "light"
          },
          "paper_bgcolor": "white",
          "plot_bgcolor": "#E5ECF6",
          "polar": {
           "angularaxis": {
            "gridcolor": "white",
            "linecolor": "white",
            "ticks": ""
           },
           "bgcolor": "#E5ECF6",
           "radialaxis": {
            "gridcolor": "white",
            "linecolor": "white",
            "ticks": ""
           }
          },
          "scene": {
           "xaxis": {
            "backgroundcolor": "#E5ECF6",
            "gridcolor": "white",
            "gridwidth": 2,
            "linecolor": "white",
            "showbackground": true,
            "ticks": "",
            "zerolinecolor": "white"
           },
           "yaxis": {
            "backgroundcolor": "#E5ECF6",
            "gridcolor": "white",
            "gridwidth": 2,
            "linecolor": "white",
            "showbackground": true,
            "ticks": "",
            "zerolinecolor": "white"
           },
           "zaxis": {
            "backgroundcolor": "#E5ECF6",
            "gridcolor": "white",
            "gridwidth": 2,
            "linecolor": "white",
            "showbackground": true,
            "ticks": "",
            "zerolinecolor": "white"
           }
          },
          "shapedefaults": {
           "line": {
            "color": "#2a3f5f"
           }
          },
          "ternary": {
           "aaxis": {
            "gridcolor": "white",
            "linecolor": "white",
            "ticks": ""
           },
           "baxis": {
            "gridcolor": "white",
            "linecolor": "white",
            "ticks": ""
           },
           "bgcolor": "#E5ECF6",
           "caxis": {
            "gridcolor": "white",
            "linecolor": "white",
            "ticks": ""
           }
          },
          "title": {
           "x": 0.05
          },
          "xaxis": {
           "automargin": true,
           "gridcolor": "white",
           "linecolor": "white",
           "ticks": "",
           "zerolinecolor": "white",
           "zerolinewidth": 2
          },
          "yaxis": {
           "automargin": true,
           "gridcolor": "white",
           "linecolor": "white",
           "ticks": "",
           "zerolinecolor": "white",
           "zerolinewidth": 2
          }
         }
        },
        "xaxis": {
         "autorange": true,
         "range": [
          "2009-06-05 15:49:01.9194",
          "2020-04-30 08:10:58.0806"
         ],
         "type": "date"
        },
        "yaxis": {
         "autorange": true,
         "range": [
          34.48470987261147,
          46.61499012738854
         ],
         "type": "linear"
        }
       }
      },
      "image/png": "[encoded data removed]",
      "text/html": [
       "<div>\n",
       "        \n",
       "        \n",
       "            <div id=\"84144f8d-2dec-4ec9-a632-6afc71e3ce62\" class=\"plotly-graph-div\" style=\"height:525px; width:100%;\"></div>\n",
       "            <script type=\"text/javascript\">\n",
       "                require([\"plotly\"], function(Plotly) {\n",
       "                    window.PLOTLYENV=window.PLOTLYENV || {};\n",
       "                    \n",
       "                if (document.getElementById(\"84144f8d-2dec-4ec9-a632-6afc71e3ce62\")) {\n",
       "                    Plotly.newPlot(\n",
       "                        '84144f8d-2dec-4ec9-a632-6afc71e3ce62',\n",
       "                        [{\"name\": \"Capex per Share\", \"type\": \"scatter\", \"x\": [\"2009-12-31\", \"2010-12-31\", \"2011-12-31\", \"2012-12-31\", \"2013-12-31\", \"2014-12-31\", \"2015-12-31\", \"2016-12-31\", \"2017-12-31\", \"2018-03-31\", \"2018-06-30\", \"2018-09-30\", \"2018-12-31\", \"2019-03-31\", \"2019-10-05\"], \"y\": [null, null, null, null, null, null, null, null, null, null, 40.8189, 40.3076, 35.2597, 45.84, null]}],\n",
       "                        {\"template\": {\"data\": {\"bar\": [{\"error_x\": {\"color\": \"#2a3f5f\"}, \"error_y\": {\"color\": \"#2a3f5f\"}, \"marker\": {\"line\": {\"color\": \"#E5ECF6\", \"width\": 0.5}}, \"type\": \"bar\"}], \"barpolar\": [{\"marker\": {\"line\": {\"color\": \"#E5ECF6\", \"width\": 0.5}}, \"type\": \"barpolar\"}], \"carpet\": [{\"aaxis\": {\"endlinecolor\": \"#2a3f5f\", \"gridcolor\": \"white\", \"linecolor\": \"white\", \"minorgridcolor\": \"white\", \"startlinecolor\": \"#2a3f5f\"}, \"baxis\": {\"endlinecolor\": \"#2a3f5f\", \"gridcolor\": \"white\", \"linecolor\": \"white\", \"minorgridcolor\": \"white\", \"startlinecolor\": \"#2a3f5f\"}, \"type\": \"carpet\"}], \"choropleth\": [{\"colorbar\": {\"outlinewidth\": 0, \"ticks\": \"\"}, \"type\": \"choropleth\"}], \"contour\": [{\"colorbar\": {\"outlinewidth\": 0, \"ticks\": \"\"}, \"colorscale\": [[0.0, \"#0d0887\"], [0.1111111111111111, \"#46039f\"], [0.2222222222222222, \"#7201a8\"], [0.3333333333333333, \"#9c179e\"], [0.4444444444444444, \"#bd3786\"], [0.5555555555555556, \"#d8576b\"], [0.6666666666666666, \"#ed7953\"], [0.7777777777777778, \"#fb9f3a\"], [0.8888888888888888, \"#fdca26\"], [1.0, \"#f0f921\"]], \"type\": \"contour\"}], \"contourcarpet\": [{\"colorbar\": {\"outlinewidth\": 0, \"ticks\": \"\"}, \"type\": \"contourcarpet\"}], \"heatmap\": [{\"colorbar\": {\"outlinewidth\": 0, \"ticks\": \"\"}, \"colorscale\": [[0.0, \"#0d0887\"], [0.1111111111111111, \"#46039f\"], [0.2222222222222222, \"#7201a8\"], [0.3333333333333333, \"#9c179e\"], [0.4444444444444444, \"#bd3786\"], [0.5555555555555556, \"#d8576b\"], [0.6666666666666666, \"#ed7953\"], [0.7777777777777778, \"#fb9f3a\"], [0.8888888888888888, \"#fdca26\"], [1.0, \"#f0f921\"]], \"type\": \"heatmap\"}], \"heatmapgl\": [{\"colorbar\": {\"outlinewidth\": 0, \"ticks\": \"\"}, \"colorscale\": [[0.0, \"#0d0887\"], [0.1111111111111111, \"#46039f\"], [0.2222222222222222, \"#7201a8\"], [0.3333333333333333, \"#9c179e\"], [0.4444444444444444, \"#bd3786\"], [0.5555555555555556, \"#d8576b\"], [0.6666666666666666, \"#ed7953\"], [0.7777777777777778, \"#fb9f3a\"], [0.8888888888888888, \"#fdca26\"], [1.0, \"#f0f921\"]], \"type\": \"heatmapgl\"}], \"histogram\": [{\"marker\": {\"colorbar\": {\"outlinewidth\": 0, \"ticks\": \"\"}}, \"type\": \"histogram\"}], \"histogram2d\": [{\"colorbar\": {\"outlinewidth\": 0, \"ticks\": \"\"}, \"colorscale\": [[0.0, \"#0d0887\"], [0.1111111111111111, \"#46039f\"], [0.2222222222222222, \"#7201a8\"], [0.3333333333333333, \"#9c179e\"], [0.4444444444444444, \"#bd3786\"], [0.5555555555555556, \"#d8576b\"], [0.6666666666666666, \"#ed7953\"], [0.7777777777777778, \"#fb9f3a\"], [0.8888888888888888, \"#fdca26\"], [1.0, \"#f0f921\"]], \"type\": \"histogram2d\"}], \"histogram2dcontour\": [{\"colorbar\": {\"outlinewidth\": 0, \"ticks\": \"\"}, \"colorscale\": [[0.0, \"#0d0887\"], [0.1111111111111111, \"#46039f\"], [0.2222222222222222, \"#7201a8\"], [0.3333333333333333, \"#9c179e\"], [0.4444444444444444, \"#bd3786\"], [0.5555555555555556, \"#d8576b\"], [0.6666666666666666, \"#ed7953\"], [0.7777777777777778, \"#fb9f3a\"], [0.8888888888888888, \"#fdca26\"], [1.0, \"#f0f921\"]], \"type\": \"histogram2dcontour\"}], \"mesh3d\": [{\"colorbar\": {\"outlinewidth\": 0, \"ticks\": \"\"}, \"type\": \"mesh3d\"}], \"parcoords\": [{\"line\": {\"colorbar\": {\"outlinewidth\": 0, \"ticks\": \"\"}}, \"type\": \"parcoords\"}], \"scatter\": [{\"marker\": {\"colorbar\": {\"outlinewidth\": 0, \"ticks\": \"\"}}, \"type\": \"scatter\"}], \"scatter3d\": [{\"line\": {\"colorbar\": {\"outlinewidth\": 0, \"ticks\": \"\"}}, \"marker\": {\"colorbar\": {\"outlinewidth\": 0, \"ticks\": \"\"}}, \"type\": \"scatter3d\"}], \"scattercarpet\": [{\"marker\": {\"colorbar\": {\"outlinewidth\": 0, \"ticks\": \"\"}}, \"type\": \"scattercarpet\"}], \"scattergeo\": [{\"marker\": {\"colorbar\": {\"outlinewidth\": 0, \"ticks\": \"\"}}, \"type\": \"scattergeo\"}], \"scattergl\": [{\"marker\": {\"colorbar\": {\"outlinewidth\": 0, \"ticks\": \"\"}}, \"type\": \"scattergl\"}], \"scattermapbox\": [{\"marker\": {\"colorbar\": {\"outlinewidth\": 0, \"ticks\": \"\"}}, \"type\": \"scattermapbox\"}], \"scatterpolar\": [{\"marker\": {\"colorbar\": {\"outlinewidth\": 0, \"ticks\": \"\"}}, \"type\": \"scatterpolar\"}], \"scatterpolargl\": [{\"marker\": {\"colorbar\": {\"outlinewidth\": 0, \"ticks\": \"\"}}, \"type\": \"scatterpolargl\"}], \"scatterternary\": [{\"marker\": {\"colorbar\": {\"outlinewidth\": 0, \"ticks\": \"\"}}, \"type\": \"scatterternary\"}], \"surface\": [{\"colorbar\": {\"outlinewidth\": 0, \"ticks\": \"\"}, \"colorscale\": [[0.0, \"#0d0887\"], [0.1111111111111111, \"#46039f\"], [0.2222222222222222, \"#7201a8\"], [0.3333333333333333, \"#9c179e\"], [0.4444444444444444, \"#bd3786\"], [0.5555555555555556, \"#d8576b\"], [0.6666666666666666, \"#ed7953\"], [0.7777777777777778, \"#fb9f3a\"], [0.8888888888888888, \"#fdca26\"], [1.0, \"#f0f921\"]], \"type\": \"surface\"}], \"table\": [{\"cells\": {\"fill\": {\"color\": \"#EBF0F8\"}, \"line\": {\"color\": \"white\"}}, \"header\": {\"fill\": {\"color\": \"#C8D4E3\"}, \"line\": {\"color\": \"white\"}}, \"type\": \"table\"}]}, \"layout\": {\"annotationdefaults\": {\"arrowcolor\": \"#2a3f5f\", \"arrowhead\": 0, \"arrowwidth\": 1}, \"colorscale\": {\"diverging\": [[0, \"#8e0152\"], [0.1, \"#c51b7d\"], [0.2, \"#de77ae\"], [0.3, \"#f1b6da\"], [0.4, \"#fde0ef\"], [0.5, \"#f7f7f7\"], [0.6, \"#e6f5d0\"], [0.7, \"#b8e186\"], [0.8, \"#7fbc41\"], [0.9, \"#4d9221\"], [1, \"#276419\"]], \"sequential\": [[0.0, \"#0d0887\"], [0.1111111111111111, \"#46039f\"], [0.2222222222222222, \"#7201a8\"], [0.3333333333333333, \"#9c179e\"], [0.4444444444444444, \"#bd3786\"], [0.5555555555555556, \"#d8576b\"], [0.6666666666666666, \"#ed7953\"], [0.7777777777777778, \"#fb9f3a\"], [0.8888888888888888, \"#fdca26\"], [1.0, \"#f0f921\"]], \"sequentialminus\": [[0.0, \"#0d0887\"], [0.1111111111111111, \"#46039f\"], [0.2222222222222222, \"#7201a8\"], [0.3333333333333333, \"#9c179e\"], [0.4444444444444444, \"#bd3786\"], [0.5555555555555556, \"#d8576b\"], [0.6666666666666666, \"#ed7953\"], [0.7777777777777778, \"#fb9f3a\"], [0.8888888888888888, \"#fdca26\"], [1.0, \"#f0f921\"]]}, \"colorway\": [\"#636efa\", \"#EF553B\", \"#00cc96\", \"#ab63fa\", \"#FFA15A\", \"#19d3f3\", \"#FF6692\", \"#B6E880\", \"#FF97FF\", \"#FECB52\"], \"font\": {\"color\": \"#2a3f5f\"}, \"geo\": {\"bgcolor\": \"white\", \"lakecolor\": \"white\", \"landcolor\": \"#E5ECF6\", \"showlakes\": true, \"showland\": true, \"subunitcolor\": \"white\"}, \"hoverlabel\": {\"align\": \"left\"}, \"hovermode\": \"closest\", \"mapbox\": {\"style\": \"light\"}, \"paper_bgcolor\": \"white\", \"plot_bgcolor\": \"#E5ECF6\", \"polar\": {\"angularaxis\": {\"gridcolor\": \"white\", \"linecolor\": \"white\", \"ticks\": \"\"}, \"bgcolor\": \"#E5ECF6\", \"radialaxis\": {\"gridcolor\": \"white\", \"linecolor\": \"white\", \"ticks\": \"\"}}, \"scene\": {\"xaxis\": {\"backgroundcolor\": \"#E5ECF6\", \"gridcolor\": \"white\", \"gridwidth\": 2, \"linecolor\": \"white\", \"showbackground\": true, \"ticks\": \"\", \"zerolinecolor\": \"white\"}, \"yaxis\": {\"backgroundcolor\": \"#E5ECF6\", \"gridcolor\": \"white\", \"gridwidth\": 2, \"linecolor\": \"white\", \"showbackground\": true, \"ticks\": \"\", \"zerolinecolor\": \"white\"}, \"zaxis\": {\"backgroundcolor\": \"#E5ECF6\", \"gridcolor\": \"white\", \"gridwidth\": 2, \"linecolor\": \"white\", \"showbackground\": true, \"ticks\": \"\", \"zerolinecolor\": \"white\"}}, \"shapedefaults\": {\"line\": {\"color\": \"#2a3f5f\"}}, \"ternary\": {\"aaxis\": {\"gridcolor\": \"white\", \"linecolor\": \"white\", \"ticks\": \"\"}, \"baxis\": {\"gridcolor\": \"white\", \"linecolor\": \"white\", \"ticks\": \"\"}, \"bgcolor\": \"#E5ECF6\", \"caxis\": {\"gridcolor\": \"white\", \"linecolor\": \"white\", \"ticks\": \"\"}}, \"title\": {\"x\": 0.05}, \"xaxis\": {\"automargin\": true, \"gridcolor\": \"white\", \"linecolor\": \"white\", \"ticks\": \"\", \"zerolinecolor\": \"white\", \"zerolinewidth\": 2}, \"yaxis\": {\"automargin\": true, \"gridcolor\": \"white\", \"linecolor\": \"white\", \"ticks\": \"\", \"zerolinecolor\": \"white\", \"zerolinewidth\": 2}}}},\n",
       "                        {\"responsive\": true}\n",
       "                    ).then(function(){\n",
       "                            \n",
       "var gd = document.getElementById('84144f8d-2dec-4ec9-a632-6afc71e3ce62');\n",
       "var x = new MutationObserver(function (mutations, observer) {{\n",
       "        var display = window.getComputedStyle(gd).display;\n",
       "        if (!display || display === 'none') {{\n",
       "            console.log([gd, 'removed!']);\n",
       "            Plotly.purge(gd);\n",
       "            observer.disconnect();\n",
       "        }}\n",
       "}});\n",
       "\n",
       "// Listen for the removal of the full notebook cells\n",
       "var notebookContainer = gd.closest('#notebook-container');\n",
       "if (notebookContainer) {{\n",
       "    x.observe(notebookContainer, {childList: true});\n",
       "}}\n",
       "\n",
       "// Listen for the clearing of the current output cell\n",
       "var outputEl = gd.closest('.output');\n",
       "if (outputEl) {{\n",
       "    x.observe(outputEl, {childList: true});\n",
       "}}\n",
       "\n",
       "                        })\n",
       "                };\n",
       "                });\n",
       "            </script>\n",
       "        </div>"
      ]
     },
     "metadata": {},
     "output_type": "display_data"
    }
   ],
   "source": [
    "fig = go.Figure()\n",
    "fig.add_trace(go.Scatter(\n",
    "        x=df_stock['index'],\n",
    "        y=df_stock['Stock Price_x'],\n",
    "        name=indicator))\n",
    "fig.show()"
   ]
  },
  {
   "cell_type": "code",
   "execution_count": null,
   "metadata": {},
   "outputs": [],
   "source": []
  }
 ],
 "metadata": {
  "kernelspec": {
   "display_name": "valence",
   "language": "python",
   "name": "valence"
  },
  "language_info": {
   "codemirror_mode": {
    "name": "ipython",
    "version": 3
   },
   "file_extension": ".py",
   "mimetype": "text/x-python",
   "name": "python",
   "nbconvert_exporter": "python",
   "pygments_lexer": "ipython3",
   "version": "3.7.3"
  },
  "toc-autonumbering": true,
  "toc-showcode": false,
  "toc-showmarkdowntxt": false,
  "toc-showtags": false
 },
 "nbformat": 4,
 "nbformat_minor": 4
}
