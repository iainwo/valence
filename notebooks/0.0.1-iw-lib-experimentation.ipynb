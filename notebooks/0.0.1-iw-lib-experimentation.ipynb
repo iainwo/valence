{
 "cells": [
  {
   "cell_type": "markdown",
   "metadata": {},
   "source": [
    "# 0.0.1-iw-lib-experimentation"
   ]
  },
  {
   "cell_type": "code",
   "execution_count": 7,
   "metadata": {},
   "outputs": [
    {
     "name": "stdout",
     "output_type": "stream",
     "text": [
      "{'AAPL': {'Price': 223.29, 'Beta': '1.139593', 'VolAvg': '36724977', 'MktCap': '1116474338610.00', 'LastDiv': '2.92', 'Range': '142-233.47', 'Changes': 0.81, 'ChangesPerc': '(+0.36%)', 'companyName': 'Apple Inc.', 'exchange': 'Nasdaq Global Select', 'industry': 'Computer Hardware', 'website': 'http://www.apple.com', 'description': 'Apple Inc is designs, manufactures and markets mobile communication and media devices and personal computers, and sells a variety of related software, services, accessories, networking solutions and third-party digital content and applications.', 'CEO': 'Timothy D. Cook', 'sector': 'Technology', 'date_is_filed': None, 'date_bs_filed': None, 'date_cs_filed': None, 'image': 'https://financialmodelingprep.com/images-New-jpg/AAPL.jpg'}}\n"
     ]
    }
   ],
   "source": [
    "from urllib.request import urlopen\n",
    "\n",
    "import json\n",
    "def get_data(url, **kwargs):\n",
    "    \"\"\"\n",
    "    Receive the content of ``url``, parse it as JSON and return the object.\n",
    "\n",
    "    Parameters\n",
    "    ----------\n",
    "    url : str\n",
    "\n",
    "    Returns\n",
    "    -------\n",
    "    dict\n",
    "    \"\"\"\n",
    "    response = urlopen(url)\n",
    "    data = response.read().decode(\"utf-8\")\n",
    "    \n",
    "    if 'datatype' in kwargs:\n",
    "        if 'json' == kwargs['datatype']:\n",
    "            data = json.loads(data)\n",
    "        \n",
    "    return json.loads(data)\n",
    "\n",
    "url = (\"https://financialmodelingprep.com/api/company/profile/AAPL?datatype=json\")\n",
    "print(get_data(url))"
   ]
  },
  {
   "cell_type": "markdown",
   "metadata": {},
   "source": [
    "## Endpoints for `financialmodellingprep`"
   ]
  },
  {
   "cell_type": "code",
   "execution_count": 11,
   "metadata": {},
   "outputs": [
    {
     "data": {
      "text/html": [
       "<div>\n",
       "<style scoped>\n",
       "    .dataframe tbody tr th:only-of-type {\n",
       "        vertical-align: middle;\n",
       "    }\n",
       "\n",
       "    .dataframe tbody tr th {\n",
       "        vertical-align: top;\n",
       "    }\n",
       "\n",
       "    .dataframe thead th {\n",
       "        text-align: right;\n",
       "    }\n",
       "</style>\n",
       "<table border=\"1\" class=\"dataframe\">\n",
       "  <thead>\n",
       "    <tr style=\"text-align: right;\">\n",
       "      <th></th>\n",
       "      <th>AAPL</th>\n",
       "    </tr>\n",
       "  </thead>\n",
       "  <tbody>\n",
       "    <tr>\n",
       "      <th>Beta</th>\n",
       "      <td>1.139593</td>\n",
       "    </tr>\n",
       "    <tr>\n",
       "      <th>CEO</th>\n",
       "      <td>Timothy D. Cook</td>\n",
       "    </tr>\n",
       "    <tr>\n",
       "      <th>Changes</th>\n",
       "      <td>0.81</td>\n",
       "    </tr>\n",
       "    <tr>\n",
       "      <th>ChangesPerc</th>\n",
       "      <td>(+0.36%)</td>\n",
       "    </tr>\n",
       "    <tr>\n",
       "      <th>LastDiv</th>\n",
       "      <td>2.92</td>\n",
       "    </tr>\n",
       "    <tr>\n",
       "      <th>MktCap</th>\n",
       "      <td>1116474338610.00</td>\n",
       "    </tr>\n",
       "    <tr>\n",
       "      <th>Price</th>\n",
       "      <td>223.29</td>\n",
       "    </tr>\n",
       "    <tr>\n",
       "      <th>Range</th>\n",
       "      <td>142-233.47</td>\n",
       "    </tr>\n",
       "    <tr>\n",
       "      <th>VolAvg</th>\n",
       "      <td>36724977</td>\n",
       "    </tr>\n",
       "    <tr>\n",
       "      <th>companyName</th>\n",
       "      <td>Apple Inc.</td>\n",
       "    </tr>\n",
       "    <tr>\n",
       "      <th>date_bs_filed</th>\n",
       "      <td>None</td>\n",
       "    </tr>\n",
       "    <tr>\n",
       "      <th>date_cs_filed</th>\n",
       "      <td>None</td>\n",
       "    </tr>\n",
       "    <tr>\n",
       "      <th>date_is_filed</th>\n",
       "      <td>None</td>\n",
       "    </tr>\n",
       "    <tr>\n",
       "      <th>description</th>\n",
       "      <td>Apple Inc is designs, manufactures and markets...</td>\n",
       "    </tr>\n",
       "    <tr>\n",
       "      <th>exchange</th>\n",
       "      <td>Nasdaq Global Select</td>\n",
       "    </tr>\n",
       "    <tr>\n",
       "      <th>image</th>\n",
       "      <td>https://financialmodelingprep.com/images-New-j...</td>\n",
       "    </tr>\n",
       "    <tr>\n",
       "      <th>industry</th>\n",
       "      <td>Computer Hardware</td>\n",
       "    </tr>\n",
       "    <tr>\n",
       "      <th>sector</th>\n",
       "      <td>Technology</td>\n",
       "    </tr>\n",
       "    <tr>\n",
       "      <th>website</th>\n",
       "      <td>http://www.apple.com</td>\n",
       "    </tr>\n",
       "  </tbody>\n",
       "</table>\n",
       "</div>"
      ],
      "text/plain": [
       "                                                            AAPL\n",
       "Beta                                                    1.139593\n",
       "CEO                                              Timothy D. Cook\n",
       "Changes                                                     0.81\n",
       "ChangesPerc                                             (+0.36%)\n",
       "LastDiv                                                     2.92\n",
       "MktCap                                          1116474338610.00\n",
       "Price                                                     223.29\n",
       "Range                                                 142-233.47\n",
       "VolAvg                                                  36724977\n",
       "companyName                                           Apple Inc.\n",
       "date_bs_filed                                               None\n",
       "date_cs_filed                                               None\n",
       "date_is_filed                                               None\n",
       "description    Apple Inc is designs, manufactures and markets...\n",
       "exchange                                    Nasdaq Global Select\n",
       "image          https://financialmodelingprep.com/images-New-j...\n",
       "industry                                       Computer Hardware\n",
       "sector                                                Technology\n",
       "website                                     http://www.apple.com"
      ]
     },
     "execution_count": 11,
     "metadata": {},
     "output_type": "execute_result"
    }
   ],
   "source": [
    "url = 'https://financialmodelingprep.com/api/v3/financials/'\n",
    "import pandas as pd\n",
    "\n",
    "def get_income_statements(ticker, **kwargs):\n",
    "    #buf = get_data(\"https://financialmodelingprep.com/api/company/profile/AAPL?datatype=json\")\n",
    "    path = 'https://financialmodelingprep.com/api/company/profile/AAPL?datatype=json'\n",
    "    return pd.read_json(path_or_buf=)\n",
    "\n",
    "get_income_statements('AAPL')"
   ]
  },
  {
   "cell_type": "code",
   "execution_count": null,
   "metadata": {},
   "outputs": [],
   "source": []
  }
 ],
 "metadata": {
  "kernelspec": {
   "display_name": "valence",
   "language": "python",
   "name": "valence"
  },
  "language_info": {
   "codemirror_mode": {
    "name": "ipython",
    "version": 3
   },
   "file_extension": ".py",
   "mimetype": "text/x-python",
   "name": "python",
   "nbconvert_exporter": "python",
   "pygments_lexer": "ipython3",
   "version": "3.7.3"
  }
 },
 "nbformat": 4,
 "nbformat_minor": 4
}
